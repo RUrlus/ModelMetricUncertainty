{
 "cells": [
  {
   "cell_type": "markdown",
   "id": "97fc613e",
   "metadata": {},
   "source": [
    "# MMU walkthrough\n",
    "\n",
    "This notebook briefly demonstrates the various capabilities of the package"
   ]
  },
  {
   "cell_type": "code",
   "execution_count": 1,
   "id": "5d947a01",
   "metadata": {},
   "outputs": [],
   "source": [
    "import pandas as pd\n",
    "import numpy as np\n",
    "import mmu"
   ]
  },
  {
   "cell_type": "markdown",
   "id": "83ea8cf9",
   "metadata": {},
   "source": [
    "## Model generation\n",
    "\n",
    "We use the model generator to create a dataset of classifiers.\n",
    "\n",
    "We turn of the model noise as this is not needed at this point.\n",
    "Additionally, we turn of random train/test splits for each model such\n",
    "that each model has seen the same data"
   ]
  },
  {
   "cell_type": "code",
   "execution_count": 2,
   "id": "0825e8b6",
   "metadata": {},
   "outputs": [],
   "source": [
    "model = mmu.ModelGenerator(random_state=112356, class_sep=1.0)\n",
    "fit = model.fit()\n",
    "train_mask, y, probas, X, models, ground_truth = fit.transform(\n",
    "    enable_model_noise=False,\n",
    "    enable_sample_noise=False,\n",
    ")"
   ]
  },
  {
   "cell_type": "markdown",
   "id": "0f9bb66a",
   "metadata": {},
   "source": [
    "Create test sets on which we will compute the metrics\n",
    "\n",
    "Note that all the functions require contiguous arrays so slicing by column requires F-order"
   ]
  },
  {
   "cell_type": "code",
   "execution_count": 3,
   "id": "2949a6b2",
   "metadata": {},
   "outputs": [],
   "source": [
    "y_test = np.asarray(y[~train_mask, :], order='F')\n",
    "probas_test = np.asarray(probas[~train_mask, :], order='F')\n",
    "yhat_test = np.asarray(np.rint(probas_test).astype(np.int64, copy=False), order='F')"
   ]
  },
  {
   "cell_type": "markdown",
   "id": "74f6fd34",
   "metadata": {},
   "source": [
    "### Confusion matrix only\n",
    "\n",
    "We can compute the confusion matrix for a single run using yhat or based on the probability and a classification threshold"
   ]
  },
  {
   "cell_type": "code",
   "execution_count": 4,
   "id": "b8b73d6b",
   "metadata": {},
   "outputs": [
    {
     "data": {
      "text/plain": [
       "array([[1482,   42],\n",
       "       [ 186, 1290]])"
      ]
     },
     "execution_count": 4,
     "metadata": {},
     "output_type": "execute_result"
    }
   ],
   "source": [
    "# based on yhat\n",
    "mmu.confusion_matrix(y_test[:, 0], yhat_test[:, 0])"
   ]
  },
  {
   "cell_type": "code",
   "execution_count": 5,
   "id": "6721cf28",
   "metadata": {},
   "outputs": [
    {
     "data": {
      "text/plain": [
       "array([[1482,   42],\n",
       "       [ 186, 1290]])"
      ]
     },
     "execution_count": 5,
     "metadata": {},
     "output_type": "execute_result"
    }
   ],
   "source": [
    "# based on proba with 0.5 classification threshold\n",
    "mmu.confusion_matrix_proba(y_test[:, 0], probas_test[:, 0], threshold=0.5)"
   ]
  },
  {
   "cell_type": "markdown",
   "id": "660f06c9",
   "metadata": {},
   "source": [
    "### Confusion matrix and metrics\n",
    "\n",
    "The ``binary_metrics*`` functions computes ten classification metrics:\n",
    " *    0 - neg.precision aka Negative Predictive Value\n",
    " *    1 - pos.precision aka Positive Predictive Value\n",
    " *    2 - neg.recall aka True Negative Rate & Specificity\n",
    " *    3 - pos.recall aka True Positive Rate aka Sensitivity\n",
    " *    4 - neg.f1 score\n",
    " *    5 - pos.f1 score\n",
    " *    6 - False Positive Rate\n",
    " *    7 - False Negative Rate\n",
    " *    8 - Accuracy\n",
    " *    9 - MCC\n",
    " \n",
    "This index can be retrieved using:"
   ]
  },
  {
   "cell_type": "code",
   "execution_count": 6,
   "id": "923fb93e",
   "metadata": {},
   "outputs": [
    {
     "data": {
      "text/plain": [
       "{'neg.precision': 0,\n",
       " 'npv': 0,\n",
       " 'pos.precision': 1,\n",
       " 'ppv': 1,\n",
       " 'neg.recall': 2,\n",
       " 'tnr': 2,\n",
       " 'specificity': 2,\n",
       " 'pos.recall': 3,\n",
       " 'tpr': 3,\n",
       " 'sensitivity': 3,\n",
       " 'neg.f1': 4,\n",
       " 'neg.f1_score': 4,\n",
       " 'pos.f1': 5,\n",
       " 'pos.f1_score': 5,\n",
       " 'fpr': 6,\n",
       " 'fnr': 7,\n",
       " 'accuracy': 8,\n",
       " 'acc': 8,\n",
       " 'mcc': 9}"
      ]
     },
     "execution_count": 6,
     "metadata": {},
     "output_type": "execute_result"
    }
   ],
   "source": [
    "col_index = mmu.metrics.col_index\n",
    "col_index"
   ]
  },
  {
   "cell_type": "markdown",
   "id": "2dacc15c",
   "metadata": {},
   "source": [
    "### Confusion matrix and binary metrics over a single run"
   ]
  },
  {
   "cell_type": "code",
   "execution_count": 7,
   "id": "ffc01816",
   "metadata": {},
   "outputs": [],
   "source": [
    "cm, metrics = mmu.binary_metrics(y_test[:, 0], yhat_test[:, 0])"
   ]
  },
  {
   "cell_type": "code",
   "execution_count": 8,
   "id": "b9688054",
   "metadata": {},
   "outputs": [
    {
     "data": {
      "text/plain": [
       "array([[1482,   42],\n",
       "       [ 186, 1290]])"
      ]
     },
     "execution_count": 8,
     "metadata": {},
     "output_type": "execute_result"
    }
   ],
   "source": [
    "# the confusion matrix\n",
    "cm"
   ]
  },
  {
   "cell_type": "markdown",
   "id": "5a404c3b",
   "metadata": {},
   "source": [
    "We can create a dataframe from the confusion matrix using:"
   ]
  },
  {
   "cell_type": "code",
   "execution_count": 9,
   "id": "92e10f58",
   "metadata": {},
   "outputs": [
    {
     "data": {
      "text/html": [
       "<div>\n",
       "<style scoped>\n",
       "    .dataframe tbody tr th:only-of-type {\n",
       "        vertical-align: middle;\n",
       "    }\n",
       "\n",
       "    .dataframe tbody tr th {\n",
       "        vertical-align: top;\n",
       "    }\n",
       "\n",
       "    .dataframe thead tr th {\n",
       "        text-align: left;\n",
       "    }\n",
       "</style>\n",
       "<table border=\"1\" class=\"dataframe\">\n",
       "  <thead>\n",
       "    <tr>\n",
       "      <th></th>\n",
       "      <th></th>\n",
       "      <th colspan=\"2\" halign=\"left\">estimated</th>\n",
       "    </tr>\n",
       "    <tr>\n",
       "      <th></th>\n",
       "      <th></th>\n",
       "      <th>negative</th>\n",
       "      <th>positive</th>\n",
       "    </tr>\n",
       "  </thead>\n",
       "  <tbody>\n",
       "    <tr>\n",
       "      <th rowspan=\"2\" valign=\"top\">observed</th>\n",
       "      <th>negative</th>\n",
       "      <td>1482</td>\n",
       "      <td>42</td>\n",
       "    </tr>\n",
       "    <tr>\n",
       "      <th>positive</th>\n",
       "      <td>186</td>\n",
       "      <td>1290</td>\n",
       "    </tr>\n",
       "  </tbody>\n",
       "</table>\n",
       "</div>"
      ],
      "text/plain": [
       "                  estimated         \n",
       "                   negative positive\n",
       "observed negative      1482       42\n",
       "         positive       186     1290"
      ]
     },
     "execution_count": 9,
     "metadata": {},
     "output_type": "execute_result"
    }
   ],
   "source": [
    "mmu.confusion_matrix_to_dataframe(cm)"
   ]
  },
  {
   "cell_type": "code",
   "execution_count": 10,
   "id": "48104816",
   "metadata": {},
   "outputs": [
    {
     "data": {
      "text/plain": [
       "array([0.88848921, 0.96846847, 0.97244094, 0.87398374, 0.92857143,\n",
       "       0.91880342, 0.02755906, 0.12601626, 0.924     , 0.8516749 ])"
      ]
     },
     "execution_count": 10,
     "metadata": {},
     "output_type": "execute_result"
    }
   ],
   "source": [
    "# the metrics\n",
    "metrics"
   ]
  },
  {
   "cell_type": "markdown",
   "id": "dffaf472",
   "metadata": {},
   "source": [
    "We can create a dataframe from the metrics using:"
   ]
  },
  {
   "cell_type": "code",
   "execution_count": 11,
   "id": "916b5bc9",
   "metadata": {},
   "outputs": [
    {
     "data": {
      "text/html": [
       "<div>\n",
       "<style scoped>\n",
       "    .dataframe tbody tr th:only-of-type {\n",
       "        vertical-align: middle;\n",
       "    }\n",
       "\n",
       "    .dataframe tbody tr th {\n",
       "        vertical-align: top;\n",
       "    }\n",
       "\n",
       "    .dataframe thead th {\n",
       "        text-align: right;\n",
       "    }\n",
       "</style>\n",
       "<table border=\"1\" class=\"dataframe\">\n",
       "  <thead>\n",
       "    <tr style=\"text-align: right;\">\n",
       "      <th></th>\n",
       "      <th>neg.precision</th>\n",
       "      <th>pos.precision</th>\n",
       "      <th>neg.recall</th>\n",
       "      <th>pos.recall</th>\n",
       "      <th>neg.f1</th>\n",
       "      <th>pos.f1</th>\n",
       "      <th>fpr</th>\n",
       "      <th>fnr</th>\n",
       "      <th>acc</th>\n",
       "      <th>mcc</th>\n",
       "    </tr>\n",
       "  </thead>\n",
       "  <tbody>\n",
       "    <tr>\n",
       "      <th>0</th>\n",
       "      <td>0.888489</td>\n",
       "      <td>0.968468</td>\n",
       "      <td>0.972441</td>\n",
       "      <td>0.873984</td>\n",
       "      <td>0.928571</td>\n",
       "      <td>0.918803</td>\n",
       "      <td>0.027559</td>\n",
       "      <td>0.126016</td>\n",
       "      <td>0.924</td>\n",
       "      <td>0.851675</td>\n",
       "    </tr>\n",
       "  </tbody>\n",
       "</table>\n",
       "</div>"
      ],
      "text/plain": [
       "   neg.precision  pos.precision  neg.recall  pos.recall    neg.f1    pos.f1  \\\n",
       "0       0.888489       0.968468    0.972441    0.873984  0.928571  0.918803   \n",
       "\n",
       "        fpr       fnr    acc       mcc  \n",
       "0  0.027559  0.126016  0.924  0.851675  "
      ]
     },
     "execution_count": 11,
     "metadata": {},
     "output_type": "execute_result"
    }
   ],
   "source": [
    "mmu.metrics_to_dataframe(metrics)"
   ]
  },
  {
   "cell_type": "markdown",
   "id": "9957d920",
   "metadata": {},
   "source": [
    "### Confusion matrix and binary metrics over a single run using probabilities"
   ]
  },
  {
   "cell_type": "code",
   "execution_count": 12,
   "id": "37ffa101",
   "metadata": {},
   "outputs": [],
   "source": [
    "cm, metrics = mmu.binary_metrics_proba(y_test[:, 0], probas_test[:, 0], threshold=0.5)"
   ]
  },
  {
   "cell_type": "code",
   "execution_count": 13,
   "id": "2583f8f8",
   "metadata": {},
   "outputs": [
    {
     "data": {
      "text/html": [
       "<div>\n",
       "<style scoped>\n",
       "    .dataframe tbody tr th:only-of-type {\n",
       "        vertical-align: middle;\n",
       "    }\n",
       "\n",
       "    .dataframe tbody tr th {\n",
       "        vertical-align: top;\n",
       "    }\n",
       "\n",
       "    .dataframe thead tr th {\n",
       "        text-align: left;\n",
       "    }\n",
       "</style>\n",
       "<table border=\"1\" class=\"dataframe\">\n",
       "  <thead>\n",
       "    <tr>\n",
       "      <th></th>\n",
       "      <th></th>\n",
       "      <th colspan=\"2\" halign=\"left\">estimated</th>\n",
       "    </tr>\n",
       "    <tr>\n",
       "      <th></th>\n",
       "      <th></th>\n",
       "      <th>negative</th>\n",
       "      <th>positive</th>\n",
       "    </tr>\n",
       "  </thead>\n",
       "  <tbody>\n",
       "    <tr>\n",
       "      <th rowspan=\"2\" valign=\"top\">observed</th>\n",
       "      <th>negative</th>\n",
       "      <td>1482</td>\n",
       "      <td>42</td>\n",
       "    </tr>\n",
       "    <tr>\n",
       "      <th>positive</th>\n",
       "      <td>186</td>\n",
       "      <td>1290</td>\n",
       "    </tr>\n",
       "  </tbody>\n",
       "</table>\n",
       "</div>"
      ],
      "text/plain": [
       "                  estimated         \n",
       "                   negative positive\n",
       "observed negative      1482       42\n",
       "         positive       186     1290"
      ]
     },
     "execution_count": 13,
     "metadata": {},
     "output_type": "execute_result"
    }
   ],
   "source": [
    "mmu.confusion_matrix_to_dataframe(cm)"
   ]
  },
  {
   "cell_type": "code",
   "execution_count": 14,
   "id": "8480edcd",
   "metadata": {},
   "outputs": [
    {
     "data": {
      "text/html": [
       "<div>\n",
       "<style scoped>\n",
       "    .dataframe tbody tr th:only-of-type {\n",
       "        vertical-align: middle;\n",
       "    }\n",
       "\n",
       "    .dataframe tbody tr th {\n",
       "        vertical-align: top;\n",
       "    }\n",
       "\n",
       "    .dataframe thead th {\n",
       "        text-align: right;\n",
       "    }\n",
       "</style>\n",
       "<table border=\"1\" class=\"dataframe\">\n",
       "  <thead>\n",
       "    <tr style=\"text-align: right;\">\n",
       "      <th></th>\n",
       "      <th>neg.precision</th>\n",
       "      <th>pos.precision</th>\n",
       "      <th>neg.recall</th>\n",
       "      <th>pos.recall</th>\n",
       "      <th>neg.f1</th>\n",
       "      <th>pos.f1</th>\n",
       "      <th>fpr</th>\n",
       "      <th>fnr</th>\n",
       "      <th>acc</th>\n",
       "      <th>mcc</th>\n",
       "    </tr>\n",
       "  </thead>\n",
       "  <tbody>\n",
       "    <tr>\n",
       "      <th>0</th>\n",
       "      <td>0.888489</td>\n",
       "      <td>0.968468</td>\n",
       "      <td>0.972441</td>\n",
       "      <td>0.873984</td>\n",
       "      <td>0.928571</td>\n",
       "      <td>0.918803</td>\n",
       "      <td>0.027559</td>\n",
       "      <td>0.126016</td>\n",
       "      <td>0.924</td>\n",
       "      <td>0.851675</td>\n",
       "    </tr>\n",
       "  </tbody>\n",
       "</table>\n",
       "</div>"
      ],
      "text/plain": [
       "   neg.precision  pos.precision  neg.recall  pos.recall    neg.f1    pos.f1  \\\n",
       "0       0.888489       0.968468    0.972441    0.873984  0.928571  0.918803   \n",
       "\n",
       "        fpr       fnr    acc       mcc  \n",
       "0  0.027559  0.126016  0.924  0.851675  "
      ]
     },
     "execution_count": 14,
     "metadata": {},
     "output_type": "execute_result"
    }
   ],
   "source": [
    "mmu.metrics_to_dataframe(metrics)"
   ]
  },
  {
   "cell_type": "markdown",
   "id": "60f6ef72",
   "metadata": {},
   "source": [
    "### Confusion matrix and binary metrics over a single run using multiple thresholds"
   ]
  },
  {
   "cell_type": "code",
   "execution_count": 15,
   "id": "27e4b0d6",
   "metadata": {},
   "outputs": [],
   "source": [
    "thresholds = np.linspace(1e-5, 1.0, 1000)"
   ]
  },
  {
   "cell_type": "code",
   "execution_count": 16,
   "id": "0c0a31f7",
   "metadata": {},
   "outputs": [],
   "source": [
    "cm, metrics = mmu.binary_metrics_thresholds(\n",
    "    y=y_test[:, 0],\n",
    "    proba=probas_test[:, 0],\n",
    "    thresholds=thresholds,\n",
    "    fill=1.0\n",
    ")"
   ]
  },
  {
   "cell_type": "code",
   "execution_count": 17,
   "id": "3fddc08f",
   "metadata": {},
   "outputs": [
    {
     "data": {
      "text/plain": [
       "array([[   0, 1524,    0, 1476],\n",
       "       [ 131, 1393,    4, 1472],\n",
       "       [ 275, 1249,    5, 1471],\n",
       "       ...,\n",
       "       [1520,    4, 1030,  446],\n",
       "       [1520,    4, 1114,  362],\n",
       "       [1524,    0, 1476,    0]])"
      ]
     },
     "execution_count": 17,
     "metadata": {},
     "output_type": "execute_result"
    }
   ],
   "source": [
    "cm"
   ]
  },
  {
   "cell_type": "code",
   "execution_count": 18,
   "id": "57f2f218",
   "metadata": {},
   "outputs": [
    {
     "data": {
      "text/html": [
       "<div>\n",
       "<style scoped>\n",
       "    .dataframe tbody tr th:only-of-type {\n",
       "        vertical-align: middle;\n",
       "    }\n",
       "\n",
       "    .dataframe tbody tr th {\n",
       "        vertical-align: top;\n",
       "    }\n",
       "\n",
       "    .dataframe thead th {\n",
       "        text-align: right;\n",
       "    }\n",
       "</style>\n",
       "<table border=\"1\" class=\"dataframe\">\n",
       "  <thead>\n",
       "    <tr style=\"text-align: right;\">\n",
       "      <th></th>\n",
       "      <th>neg.precision</th>\n",
       "      <th>pos.precision</th>\n",
       "      <th>neg.recall</th>\n",
       "      <th>pos.recall</th>\n",
       "      <th>neg.f1</th>\n",
       "      <th>pos.f1</th>\n",
       "      <th>fpr</th>\n",
       "      <th>fnr</th>\n",
       "      <th>acc</th>\n",
       "      <th>mcc</th>\n",
       "    </tr>\n",
       "  </thead>\n",
       "  <tbody>\n",
       "    <tr>\n",
       "      <th>0</th>\n",
       "      <td>1.000000</td>\n",
       "      <td>0.492000</td>\n",
       "      <td>0.000000</td>\n",
       "      <td>1.000000</td>\n",
       "      <td>0.000000</td>\n",
       "      <td>0.659517</td>\n",
       "      <td>1.000000</td>\n",
       "      <td>0.000000</td>\n",
       "      <td>0.492000</td>\n",
       "      <td>1.000000</td>\n",
       "    </tr>\n",
       "    <tr>\n",
       "      <th>1</th>\n",
       "      <td>0.970370</td>\n",
       "      <td>0.513787</td>\n",
       "      <td>0.085958</td>\n",
       "      <td>0.997290</td>\n",
       "      <td>0.157926</td>\n",
       "      <td>0.678185</td>\n",
       "      <td>0.914042</td>\n",
       "      <td>0.002710</td>\n",
       "      <td>0.534333</td>\n",
       "      <td>0.200761</td>\n",
       "    </tr>\n",
       "    <tr>\n",
       "      <th>2</th>\n",
       "      <td>0.982143</td>\n",
       "      <td>0.540809</td>\n",
       "      <td>0.180446</td>\n",
       "      <td>0.996612</td>\n",
       "      <td>0.304878</td>\n",
       "      <td>0.701144</td>\n",
       "      <td>0.819554</td>\n",
       "      <td>0.003388</td>\n",
       "      <td>0.582000</td>\n",
       "      <td>0.304291</td>\n",
       "    </tr>\n",
       "    <tr>\n",
       "      <th>3</th>\n",
       "      <td>0.983516</td>\n",
       "      <td>0.557663</td>\n",
       "      <td>0.234908</td>\n",
       "      <td>0.995935</td>\n",
       "      <td>0.379237</td>\n",
       "      <td>0.714981</td>\n",
       "      <td>0.765092</td>\n",
       "      <td>0.004065</td>\n",
       "      <td>0.609333</td>\n",
       "      <td>0.353451</td>\n",
       "    </tr>\n",
       "    <tr>\n",
       "      <th>4</th>\n",
       "      <td>0.985075</td>\n",
       "      <td>0.580403</td>\n",
       "      <td>0.303150</td>\n",
       "      <td>0.995257</td>\n",
       "      <td>0.463623</td>\n",
       "      <td>0.733217</td>\n",
       "      <td>0.696850</td>\n",
       "      <td>0.004743</td>\n",
       "      <td>0.643667</td>\n",
       "      <td>0.410783</td>\n",
       "    </tr>\n",
       "    <tr>\n",
       "      <th>...</th>\n",
       "      <td>...</td>\n",
       "      <td>...</td>\n",
       "      <td>...</td>\n",
       "      <td>...</td>\n",
       "      <td>...</td>\n",
       "      <td>...</td>\n",
       "      <td>...</td>\n",
       "      <td>...</td>\n",
       "      <td>...</td>\n",
       "      <td>...</td>\n",
       "    </tr>\n",
       "    <tr>\n",
       "      <th>995</th>\n",
       "      <td>0.616917</td>\n",
       "      <td>0.987061</td>\n",
       "      <td>0.995407</td>\n",
       "      <td>0.361789</td>\n",
       "      <td>0.761737</td>\n",
       "      <td>0.529499</td>\n",
       "      <td>0.004593</td>\n",
       "      <td>0.638211</td>\n",
       "      <td>0.683667</td>\n",
       "      <td>0.464476</td>\n",
       "    </tr>\n",
       "    <tr>\n",
       "      <th>996</th>\n",
       "      <td>0.607772</td>\n",
       "      <td>0.986111</td>\n",
       "      <td>0.995407</td>\n",
       "      <td>0.336721</td>\n",
       "      <td>0.754726</td>\n",
       "      <td>0.502020</td>\n",
       "      <td>0.004593</td>\n",
       "      <td>0.663279</td>\n",
       "      <td>0.671333</td>\n",
       "      <td>0.444123</td>\n",
       "    </tr>\n",
       "    <tr>\n",
       "      <th>997</th>\n",
       "      <td>0.596078</td>\n",
       "      <td>0.991111</td>\n",
       "      <td>0.997375</td>\n",
       "      <td>0.302168</td>\n",
       "      <td>0.746195</td>\n",
       "      <td>0.463136</td>\n",
       "      <td>0.002625</td>\n",
       "      <td>0.697832</td>\n",
       "      <td>0.655333</td>\n",
       "      <td>0.419391</td>\n",
       "    </tr>\n",
       "    <tr>\n",
       "      <th>998</th>\n",
       "      <td>0.577069</td>\n",
       "      <td>0.989071</td>\n",
       "      <td>0.997375</td>\n",
       "      <td>0.245257</td>\n",
       "      <td>0.731121</td>\n",
       "      <td>0.393051</td>\n",
       "      <td>0.002625</td>\n",
       "      <td>0.754743</td>\n",
       "      <td>0.627333</td>\n",
       "      <td>0.370627</td>\n",
       "    </tr>\n",
       "    <tr>\n",
       "      <th>999</th>\n",
       "      <td>0.508000</td>\n",
       "      <td>1.000000</td>\n",
       "      <td>1.000000</td>\n",
       "      <td>0.000000</td>\n",
       "      <td>0.673740</td>\n",
       "      <td>0.000000</td>\n",
       "      <td>0.000000</td>\n",
       "      <td>1.000000</td>\n",
       "      <td>0.508000</td>\n",
       "      <td>1.000000</td>\n",
       "    </tr>\n",
       "  </tbody>\n",
       "</table>\n",
       "<p>1000 rows × 10 columns</p>\n",
       "</div>"
      ],
      "text/plain": [
       "     neg.precision  pos.precision  neg.recall  pos.recall    neg.f1    pos.f1  \\\n",
       "0         1.000000       0.492000    0.000000    1.000000  0.000000  0.659517   \n",
       "1         0.970370       0.513787    0.085958    0.997290  0.157926  0.678185   \n",
       "2         0.982143       0.540809    0.180446    0.996612  0.304878  0.701144   \n",
       "3         0.983516       0.557663    0.234908    0.995935  0.379237  0.714981   \n",
       "4         0.985075       0.580403    0.303150    0.995257  0.463623  0.733217   \n",
       "..             ...            ...         ...         ...       ...       ...   \n",
       "995       0.616917       0.987061    0.995407    0.361789  0.761737  0.529499   \n",
       "996       0.607772       0.986111    0.995407    0.336721  0.754726  0.502020   \n",
       "997       0.596078       0.991111    0.997375    0.302168  0.746195  0.463136   \n",
       "998       0.577069       0.989071    0.997375    0.245257  0.731121  0.393051   \n",
       "999       0.508000       1.000000    1.000000    0.000000  0.673740  0.000000   \n",
       "\n",
       "          fpr       fnr       acc       mcc  \n",
       "0    1.000000  0.000000  0.492000  1.000000  \n",
       "1    0.914042  0.002710  0.534333  0.200761  \n",
       "2    0.819554  0.003388  0.582000  0.304291  \n",
       "3    0.765092  0.004065  0.609333  0.353451  \n",
       "4    0.696850  0.004743  0.643667  0.410783  \n",
       "..        ...       ...       ...       ...  \n",
       "995  0.004593  0.638211  0.683667  0.464476  \n",
       "996  0.004593  0.663279  0.671333  0.444123  \n",
       "997  0.002625  0.697832  0.655333  0.419391  \n",
       "998  0.002625  0.754743  0.627333  0.370627  \n",
       "999  0.000000  1.000000  0.508000  1.000000  \n",
       "\n",
       "[1000 rows x 10 columns]"
      ]
     },
     "execution_count": 18,
     "metadata": {},
     "output_type": "execute_result"
    }
   ],
   "source": [
    "mmu.metrics_to_dataframe(metrics)"
   ]
  },
  {
   "cell_type": "markdown",
   "id": "49cce705",
   "metadata": {},
   "source": [
    "### Confusion matrix and binary metrics over a multiple runs using multiple thresholds"
   ]
  },
  {
   "cell_type": "code",
   "execution_count": 19,
   "id": "68d9700b",
   "metadata": {},
   "outputs": [],
   "source": [
    "cm, metrics = mmu.binary_metrics_runs_thresholds(\n",
    "    y=y_test,\n",
    "    proba=probas_test,\n",
    "    thresholds=thresholds,\n",
    "    fill=1.0\n",
    ")"
   ]
  },
  {
   "cell_type": "markdown",
   "id": "bc65c192",
   "metadata": {},
   "source": [
    "The confusion matrix and metrics are now cubes.\n",
    "\n",
    "For the confusion matrix the:\n",
    "* row -- over the thresholds\n",
    "* colomns -- the confusion matrix elements\n",
    "* slices -- the runs\n",
    "\n",
    "The stride is such that the biggest stride is over the thresholds for the confusion matrix and over the metrics for the metrics.\n",
    "\n",
    "The argument being that you will want to model the confusion matrices over the runs\n",
    "and the metrics individually over the thresholds and runs"
   ]
  },
  {
   "cell_type": "code",
   "execution_count": 20,
   "id": "4bdd776b",
   "metadata": {},
   "outputs": [
    {
     "name": "stdout",
     "output_type": "stream",
     "text": [
      "shape confusion matrix:  (1000, 4, 30)\n",
      "strides confusion matrix:  (960, 8, 32)\n"
     ]
    }
   ],
   "source": [
    "print('shape confusion matrix: ', cm.shape)\n",
    "print('strides confusion matrix: ', cm.strides)"
   ]
  },
  {
   "cell_type": "code",
   "execution_count": 21,
   "id": "f6762864",
   "metadata": {},
   "outputs": [
    {
     "name": "stdout",
     "output_type": "stream",
     "text": [
      "shape metrics:  (1000, 10, 30)\n",
      "strides metrics:  (240, 240000, 8)\n"
     ]
    }
   ],
   "source": [
    "print('shape metrics: ', metrics.shape)\n",
    "print('strides metrics: ', metrics.strides)"
   ]
  },
  {
   "cell_type": "markdown",
   "id": "b2d576d8",
   "metadata": {},
   "source": [
    "### Binary metrics over confusion matrices"
   ]
  },
  {
   "cell_type": "code",
   "execution_count": 22,
   "id": "c676f8d2",
   "metadata": {},
   "outputs": [],
   "source": [
    "# We use binary_metrics_thresholds to create confusion matrices\n",
    "cm, _ = mmu.binary_metrics_thresholds(\n",
    "    y=y_test[:, 0],\n",
    "    proba=probas_test[:, 0],\n",
    "    thresholds=thresholds,\n",
    "    fill=0.0\n",
    ")"
   ]
  },
  {
   "cell_type": "code",
   "execution_count": 23,
   "id": "eeb16c43",
   "metadata": {},
   "outputs": [],
   "source": [
    "metrics = mmu.binary_metrics_confusion(cm, 0.0)"
   ]
  },
  {
   "cell_type": "code",
   "execution_count": 24,
   "id": "6a2cbbd4",
   "metadata": {},
   "outputs": [
    {
     "data": {
      "text/html": [
       "<div>\n",
       "<style scoped>\n",
       "    .dataframe tbody tr th:only-of-type {\n",
       "        vertical-align: middle;\n",
       "    }\n",
       "\n",
       "    .dataframe tbody tr th {\n",
       "        vertical-align: top;\n",
       "    }\n",
       "\n",
       "    .dataframe thead th {\n",
       "        text-align: right;\n",
       "    }\n",
       "</style>\n",
       "<table border=\"1\" class=\"dataframe\">\n",
       "  <thead>\n",
       "    <tr style=\"text-align: right;\">\n",
       "      <th></th>\n",
       "      <th>neg.precision</th>\n",
       "      <th>pos.precision</th>\n",
       "      <th>neg.recall</th>\n",
       "      <th>pos.recall</th>\n",
       "      <th>neg.f1</th>\n",
       "      <th>pos.f1</th>\n",
       "      <th>fpr</th>\n",
       "      <th>fnr</th>\n",
       "      <th>acc</th>\n",
       "      <th>mcc</th>\n",
       "    </tr>\n",
       "  </thead>\n",
       "  <tbody>\n",
       "    <tr>\n",
       "      <th>0</th>\n",
       "      <td>0.000000</td>\n",
       "      <td>0.492000</td>\n",
       "      <td>0.000000</td>\n",
       "      <td>1.000000</td>\n",
       "      <td>0.000000</td>\n",
       "      <td>0.659517</td>\n",
       "      <td>1.000000</td>\n",
       "      <td>0.000000</td>\n",
       "      <td>0.492000</td>\n",
       "      <td>0.000000</td>\n",
       "    </tr>\n",
       "    <tr>\n",
       "      <th>1</th>\n",
       "      <td>0.970370</td>\n",
       "      <td>0.513787</td>\n",
       "      <td>0.085958</td>\n",
       "      <td>0.997290</td>\n",
       "      <td>0.157926</td>\n",
       "      <td>0.678185</td>\n",
       "      <td>0.914042</td>\n",
       "      <td>0.002710</td>\n",
       "      <td>0.534333</td>\n",
       "      <td>0.200761</td>\n",
       "    </tr>\n",
       "    <tr>\n",
       "      <th>2</th>\n",
       "      <td>0.982143</td>\n",
       "      <td>0.540809</td>\n",
       "      <td>0.180446</td>\n",
       "      <td>0.996612</td>\n",
       "      <td>0.304878</td>\n",
       "      <td>0.701144</td>\n",
       "      <td>0.819554</td>\n",
       "      <td>0.003388</td>\n",
       "      <td>0.582000</td>\n",
       "      <td>0.304291</td>\n",
       "    </tr>\n",
       "    <tr>\n",
       "      <th>3</th>\n",
       "      <td>0.983516</td>\n",
       "      <td>0.557663</td>\n",
       "      <td>0.234908</td>\n",
       "      <td>0.995935</td>\n",
       "      <td>0.379237</td>\n",
       "      <td>0.714981</td>\n",
       "      <td>0.765092</td>\n",
       "      <td>0.004065</td>\n",
       "      <td>0.609333</td>\n",
       "      <td>0.353451</td>\n",
       "    </tr>\n",
       "    <tr>\n",
       "      <th>4</th>\n",
       "      <td>0.985075</td>\n",
       "      <td>0.580403</td>\n",
       "      <td>0.303150</td>\n",
       "      <td>0.995257</td>\n",
       "      <td>0.463623</td>\n",
       "      <td>0.733217</td>\n",
       "      <td>0.696850</td>\n",
       "      <td>0.004743</td>\n",
       "      <td>0.643667</td>\n",
       "      <td>0.410783</td>\n",
       "    </tr>\n",
       "    <tr>\n",
       "      <th>...</th>\n",
       "      <td>...</td>\n",
       "      <td>...</td>\n",
       "      <td>...</td>\n",
       "      <td>...</td>\n",
       "      <td>...</td>\n",
       "      <td>...</td>\n",
       "      <td>...</td>\n",
       "      <td>...</td>\n",
       "      <td>...</td>\n",
       "      <td>...</td>\n",
       "    </tr>\n",
       "    <tr>\n",
       "      <th>995</th>\n",
       "      <td>0.616917</td>\n",
       "      <td>0.987061</td>\n",
       "      <td>0.995407</td>\n",
       "      <td>0.361789</td>\n",
       "      <td>0.761737</td>\n",
       "      <td>0.529499</td>\n",
       "      <td>0.004593</td>\n",
       "      <td>0.638211</td>\n",
       "      <td>0.683667</td>\n",
       "      <td>0.464476</td>\n",
       "    </tr>\n",
       "    <tr>\n",
       "      <th>996</th>\n",
       "      <td>0.607772</td>\n",
       "      <td>0.986111</td>\n",
       "      <td>0.995407</td>\n",
       "      <td>0.336721</td>\n",
       "      <td>0.754726</td>\n",
       "      <td>0.502020</td>\n",
       "      <td>0.004593</td>\n",
       "      <td>0.663279</td>\n",
       "      <td>0.671333</td>\n",
       "      <td>0.444123</td>\n",
       "    </tr>\n",
       "    <tr>\n",
       "      <th>997</th>\n",
       "      <td>0.596078</td>\n",
       "      <td>0.991111</td>\n",
       "      <td>0.997375</td>\n",
       "      <td>0.302168</td>\n",
       "      <td>0.746195</td>\n",
       "      <td>0.463136</td>\n",
       "      <td>0.002625</td>\n",
       "      <td>0.697832</td>\n",
       "      <td>0.655333</td>\n",
       "      <td>0.419391</td>\n",
       "    </tr>\n",
       "    <tr>\n",
       "      <th>998</th>\n",
       "      <td>0.577069</td>\n",
       "      <td>0.989071</td>\n",
       "      <td>0.997375</td>\n",
       "      <td>0.245257</td>\n",
       "      <td>0.731121</td>\n",
       "      <td>0.393051</td>\n",
       "      <td>0.002625</td>\n",
       "      <td>0.754743</td>\n",
       "      <td>0.627333</td>\n",
       "      <td>0.370627</td>\n",
       "    </tr>\n",
       "    <tr>\n",
       "      <th>999</th>\n",
       "      <td>0.508000</td>\n",
       "      <td>0.000000</td>\n",
       "      <td>1.000000</td>\n",
       "      <td>0.000000</td>\n",
       "      <td>0.673740</td>\n",
       "      <td>0.000000</td>\n",
       "      <td>0.000000</td>\n",
       "      <td>1.000000</td>\n",
       "      <td>0.508000</td>\n",
       "      <td>0.000000</td>\n",
       "    </tr>\n",
       "  </tbody>\n",
       "</table>\n",
       "<p>1000 rows × 10 columns</p>\n",
       "</div>"
      ],
      "text/plain": [
       "     neg.precision  pos.precision  neg.recall  pos.recall    neg.f1    pos.f1  \\\n",
       "0         0.000000       0.492000    0.000000    1.000000  0.000000  0.659517   \n",
       "1         0.970370       0.513787    0.085958    0.997290  0.157926  0.678185   \n",
       "2         0.982143       0.540809    0.180446    0.996612  0.304878  0.701144   \n",
       "3         0.983516       0.557663    0.234908    0.995935  0.379237  0.714981   \n",
       "4         0.985075       0.580403    0.303150    0.995257  0.463623  0.733217   \n",
       "..             ...            ...         ...         ...       ...       ...   \n",
       "995       0.616917       0.987061    0.995407    0.361789  0.761737  0.529499   \n",
       "996       0.607772       0.986111    0.995407    0.336721  0.754726  0.502020   \n",
       "997       0.596078       0.991111    0.997375    0.302168  0.746195  0.463136   \n",
       "998       0.577069       0.989071    0.997375    0.245257  0.731121  0.393051   \n",
       "999       0.508000       0.000000    1.000000    0.000000  0.673740  0.000000   \n",
       "\n",
       "          fpr       fnr       acc       mcc  \n",
       "0    1.000000  0.000000  0.492000  0.000000  \n",
       "1    0.914042  0.002710  0.534333  0.200761  \n",
       "2    0.819554  0.003388  0.582000  0.304291  \n",
       "3    0.765092  0.004065  0.609333  0.353451  \n",
       "4    0.696850  0.004743  0.643667  0.410783  \n",
       "..        ...       ...       ...       ...  \n",
       "995  0.004593  0.638211  0.683667  0.464476  \n",
       "996  0.004593  0.663279  0.671333  0.444123  \n",
       "997  0.002625  0.697832  0.655333  0.419391  \n",
       "998  0.002625  0.754743  0.627333  0.370627  \n",
       "999  0.000000  1.000000  0.508000  0.000000  \n",
       "\n",
       "[1000 rows x 10 columns]"
      ]
     },
     "execution_count": 24,
     "metadata": {},
     "output_type": "execute_result"
    }
   ],
   "source": [
    "mmu.metrics_to_dataframe(metrics)"
   ]
  }
 ],
 "metadata": {
  "kernelspec": {
   "display_name": "Python 3 (ipykernel)",
   "language": "python",
   "name": "python3"
  },
  "language_info": {
   "codemirror_mode": {
    "name": "ipython",
    "version": 3
   },
   "file_extension": ".py",
   "mimetype": "text/x-python",
   "name": "python",
   "nbconvert_exporter": "python",
   "pygments_lexer": "ipython3",
   "version": "3.8.5"
  }
 },
 "nbformat": 4,
 "nbformat_minor": 5
}
