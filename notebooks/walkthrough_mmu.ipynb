{
 "cells": [
  {
   "cell_type": "markdown",
   "id": "bea5e9f1",
   "metadata": {},
   "source": [
    "# MMU walkthrough\n",
    "\n",
    "This notebook briefly demonstrates the various capabilities of the package"
   ]
  },
  {
   "cell_type": "code",
   "execution_count": 1,
   "id": "5d947a01",
   "metadata": {},
   "outputs": [],
   "source": [
    "import pandas as pd\n",
    "import numpy as np\n",
    "import mmu"
   ]
  },
  {
   "cell_type": "markdown",
   "id": "78857916",
   "metadata": {},
   "source": [
    "## Model generation\n",
    "\n",
    "We use the model generator to create a dataset of classifiers.\n",
    "\n",
    "We turn of the model noise as this is not needed at this point.\n",
    "Additionally, we turn of random train/test splits for each model such\n",
    "that each model has seen the same data"
   ]
  },
  {
   "cell_type": "code",
   "execution_count": 2,
   "id": "3613739d",
   "metadata": {},
   "outputs": [],
   "source": [
    "model = mmu.ModelGenerator(random_state=112356)\n",
    "fit = model.fit()\n",
    "train_mask, y, probas, X, models, ground_truth = fit.transform(\n",
    "    enable_model_noise=False,\n",
    "    enable_sample_noise=False,\n",
    ")"
   ]
  },
  {
   "cell_type": "markdown",
   "id": "0958f7d5",
   "metadata": {},
   "source": [
    "Create test sets on which we will compute the metrics\n",
    "\n",
    "Note that all the functions require contiguous arrays so slicing by column requires F-order"
   ]
  },
  {
   "cell_type": "code",
   "execution_count": 3,
   "id": "ac21fcab",
   "metadata": {},
   "outputs": [],
   "source": [
    "y_test = np.asarray(y[~train_mask, :], order='F')\n",
    "probas_test = np.asarray(probas[~train_mask, :], order='F')\n",
    "yhat_test = np.asarray(np.rint(probas_test).astype(np.int64, copy=False), order='F')"
   ]
  },
  {
   "cell_type": "markdown",
   "id": "7054fe69",
   "metadata": {},
   "source": [
    "### Confusion matrix only\n",
    "\n",
    "We can compute the confusion matrix for a single run using yhat or based on the probability and a classification threshold"
   ]
  },
  {
   "cell_type": "code",
   "execution_count": 4,
   "id": "fed5fca9",
   "metadata": {},
   "outputs": [
    {
     "data": {
      "text/plain": [
       "array([[1438,   43],\n",
       "       [ 177, 1342]])"
      ]
     },
     "execution_count": 4,
     "metadata": {},
     "output_type": "execute_result"
    }
   ],
   "source": [
    "# based on yhat\n",
    "mmu.confusion_matrix(y_test[:, 0], yhat_test[:, 0])"
   ]
  },
  {
   "cell_type": "code",
   "execution_count": 5,
   "id": "9bd3db99",
   "metadata": {},
   "outputs": [
    {
     "data": {
      "text/plain": [
       "array([[1438,   43],\n",
       "       [ 177, 1342]])"
      ]
     },
     "execution_count": 5,
     "metadata": {},
     "output_type": "execute_result"
    }
   ],
   "source": [
    "# based on proba with 0.5 classification threshold\n",
    "mmu.confusion_matrix_proba(y_test[:, 0], probas_test[:, 0], threshold=0.5)"
   ]
  },
  {
   "cell_type": "markdown",
   "id": "454299c7",
   "metadata": {},
   "source": [
    "### Confusion matrix and metrics\n",
    "\n",
    "The ``binary_metrics*`` functions computes ten classification metrics:\n",
    " *    0 - neg.precision aka Negative Predictive Value\n",
    " *    1 - pos.precision aka Positive Predictive Value\n",
    " *    2 - neg.recall aka True Negative Rate & Specificity\n",
    " *    3 - pos.recall aka True Positive Rate aka Sensitivity\n",
    " *    4 - neg.f1 score\n",
    " *    5 - pos.f1 score\n",
    " *    6 - False Positive Rate\n",
    " *    7 - False Negative Rate\n",
    " *    8 - Accuracy\n",
    " *    9 - MCC\n",
    " \n",
    "This index can be retrieved using:"
   ]
  },
  {
   "cell_type": "code",
   "execution_count": 6,
   "id": "513f7482",
   "metadata": {},
   "outputs": [
    {
     "data": {
      "text/plain": [
       "{'neg.precision': 0,\n",
       " 'npv': 0,\n",
       " 'pos.precision': 1,\n",
       " 'ppv': 1,\n",
       " 'neg.recall': 2,\n",
       " 'tnr': 2,\n",
       " 'specificity': 2,\n",
       " 'pos.recall': 3,\n",
       " 'tpr': 3,\n",
       " 'sensitivity': 3,\n",
       " 'neg.f1': 4,\n",
       " 'neg.f1_score': 4,\n",
       " 'pos.f1': 5,\n",
       " 'pos.f1_score': 5,\n",
       " 'fpr': 6,\n",
       " 'fnr': 7,\n",
       " 'accuracy': 8,\n",
       " 'acc': 8,\n",
       " 'mcc': 9}"
      ]
     },
     "execution_count": 6,
     "metadata": {},
     "output_type": "execute_result"
    }
   ],
   "source": [
    "col_index = mmu.metrics.col_index\n",
    "col_index"
   ]
  },
  {
   "cell_type": "markdown",
   "id": "3dfd8238",
   "metadata": {},
   "source": [
    "### Confusion matrix and binary metrics over a single run"
   ]
  },
  {
   "cell_type": "code",
   "execution_count": 7,
   "id": "a726f5a2",
   "metadata": {},
   "outputs": [],
   "source": [
    "cm, metrics = mmu.binary_metrics(y_test[:, 0], yhat_test[:, 0])"
   ]
  },
  {
   "cell_type": "code",
   "execution_count": 8,
   "id": "c75da16c",
   "metadata": {},
   "outputs": [
    {
     "data": {
      "text/plain": [
       "array([[1438,   43],\n",
       "       [ 177, 1342]])"
      ]
     },
     "execution_count": 8,
     "metadata": {},
     "output_type": "execute_result"
    }
   ],
   "source": [
    "# the confusion matrix\n",
    "cm"
   ]
  },
  {
   "cell_type": "markdown",
   "id": "78577630",
   "metadata": {},
   "source": [
    "We can create a dataframe from the confusion matrix using:"
   ]
  },
  {
   "cell_type": "code",
   "execution_count": 9,
   "id": "3586a08a",
   "metadata": {},
   "outputs": [
    {
     "data": {
      "text/html": [
       "<div>\n",
       "<style scoped>\n",
       "    .dataframe tbody tr th:only-of-type {\n",
       "        vertical-align: middle;\n",
       "    }\n",
       "\n",
       "    .dataframe tbody tr th {\n",
       "        vertical-align: top;\n",
       "    }\n",
       "\n",
       "    .dataframe thead tr th {\n",
       "        text-align: left;\n",
       "    }\n",
       "</style>\n",
       "<table border=\"1\" class=\"dataframe\">\n",
       "  <thead>\n",
       "    <tr>\n",
       "      <th></th>\n",
       "      <th></th>\n",
       "      <th colspan=\"2\" halign=\"left\">estimated</th>\n",
       "    </tr>\n",
       "    <tr>\n",
       "      <th></th>\n",
       "      <th></th>\n",
       "      <th>negative</th>\n",
       "      <th>positive</th>\n",
       "    </tr>\n",
       "  </thead>\n",
       "  <tbody>\n",
       "    <tr>\n",
       "      <th rowspan=\"2\" valign=\"top\">observed</th>\n",
       "      <th>negative</th>\n",
       "      <td>1438</td>\n",
       "      <td>43</td>\n",
       "    </tr>\n",
       "    <tr>\n",
       "      <th>positive</th>\n",
       "      <td>177</td>\n",
       "      <td>1342</td>\n",
       "    </tr>\n",
       "  </tbody>\n",
       "</table>\n",
       "</div>"
      ],
      "text/plain": [
       "                  estimated         \n",
       "                   negative positive\n",
       "observed negative      1438       43\n",
       "         positive       177     1342"
      ]
     },
     "execution_count": 9,
     "metadata": {},
     "output_type": "execute_result"
    }
   ],
   "source": [
    "mmu.confusion_matrix_to_dataframe(cm)"
   ]
  },
  {
   "cell_type": "code",
   "execution_count": 10,
   "id": "1e7917d6",
   "metadata": {},
   "outputs": [
    {
     "data": {
      "text/plain": [
       "array([0.89040248, 0.96895307, 0.97096556, 0.88347597, 0.92894057,\n",
       "       0.92424242, 0.02903444, 0.11652403, 0.92666667, 0.85689502])"
      ]
     },
     "execution_count": 10,
     "metadata": {},
     "output_type": "execute_result"
    }
   ],
   "source": [
    "# the metrics\n",
    "metrics"
   ]
  },
  {
   "cell_type": "markdown",
   "id": "c43dd390",
   "metadata": {},
   "source": [
    "We can create a dataframe from the metrics using:"
   ]
  },
  {
   "cell_type": "code",
   "execution_count": 11,
   "id": "79dfc709",
   "metadata": {},
   "outputs": [
    {
     "data": {
      "text/html": [
       "<div>\n",
       "<style scoped>\n",
       "    .dataframe tbody tr th:only-of-type {\n",
       "        vertical-align: middle;\n",
       "    }\n",
       "\n",
       "    .dataframe tbody tr th {\n",
       "        vertical-align: top;\n",
       "    }\n",
       "\n",
       "    .dataframe thead th {\n",
       "        text-align: right;\n",
       "    }\n",
       "</style>\n",
       "<table border=\"1\" class=\"dataframe\">\n",
       "  <thead>\n",
       "    <tr style=\"text-align: right;\">\n",
       "      <th></th>\n",
       "      <th>neg.precision</th>\n",
       "      <th>pos.precision</th>\n",
       "      <th>neg.recall</th>\n",
       "      <th>pos.recall</th>\n",
       "      <th>neg.f1</th>\n",
       "      <th>pos.f1</th>\n",
       "      <th>fpr</th>\n",
       "      <th>fnr</th>\n",
       "      <th>acc</th>\n",
       "      <th>mcc</th>\n",
       "    </tr>\n",
       "  </thead>\n",
       "  <tbody>\n",
       "    <tr>\n",
       "      <th>0</th>\n",
       "      <td>0.890402</td>\n",
       "      <td>0.968953</td>\n",
       "      <td>0.970966</td>\n",
       "      <td>0.883476</td>\n",
       "      <td>0.928941</td>\n",
       "      <td>0.924242</td>\n",
       "      <td>0.029034</td>\n",
       "      <td>0.116524</td>\n",
       "      <td>0.926667</td>\n",
       "      <td>0.856895</td>\n",
       "    </tr>\n",
       "  </tbody>\n",
       "</table>\n",
       "</div>"
      ],
      "text/plain": [
       "   neg.precision  pos.precision  neg.recall  pos.recall    neg.f1    pos.f1  \\\n",
       "0       0.890402       0.968953    0.970966    0.883476  0.928941  0.924242   \n",
       "\n",
       "        fpr       fnr       acc       mcc  \n",
       "0  0.029034  0.116524  0.926667  0.856895  "
      ]
     },
     "execution_count": 11,
     "metadata": {},
     "output_type": "execute_result"
    }
   ],
   "source": [
    "mmu.metrics_to_dataframe(metrics)"
   ]
  },
  {
   "cell_type": "markdown",
   "id": "ac33b6c7",
   "metadata": {},
   "source": [
    "### Confusion matrix and binary metrics over a single run using probabilities"
   ]
  },
  {
   "cell_type": "code",
   "execution_count": 12,
   "id": "90d7accb",
   "metadata": {},
   "outputs": [],
   "source": [
    "cm, metrics = mmu.binary_metrics_proba(y_test[:, 0], probas_test[:, 0], threshold=0.5)"
   ]
  },
  {
   "cell_type": "code",
   "execution_count": 13,
   "id": "02e66be7",
   "metadata": {},
   "outputs": [
    {
     "data": {
      "text/html": [
       "<div>\n",
       "<style scoped>\n",
       "    .dataframe tbody tr th:only-of-type {\n",
       "        vertical-align: middle;\n",
       "    }\n",
       "\n",
       "    .dataframe tbody tr th {\n",
       "        vertical-align: top;\n",
       "    }\n",
       "\n",
       "    .dataframe thead tr th {\n",
       "        text-align: left;\n",
       "    }\n",
       "</style>\n",
       "<table border=\"1\" class=\"dataframe\">\n",
       "  <thead>\n",
       "    <tr>\n",
       "      <th></th>\n",
       "      <th></th>\n",
       "      <th colspan=\"2\" halign=\"left\">estimated</th>\n",
       "    </tr>\n",
       "    <tr>\n",
       "      <th></th>\n",
       "      <th></th>\n",
       "      <th>negative</th>\n",
       "      <th>positive</th>\n",
       "    </tr>\n",
       "  </thead>\n",
       "  <tbody>\n",
       "    <tr>\n",
       "      <th rowspan=\"2\" valign=\"top\">observed</th>\n",
       "      <th>negative</th>\n",
       "      <td>1438</td>\n",
       "      <td>43</td>\n",
       "    </tr>\n",
       "    <tr>\n",
       "      <th>positive</th>\n",
       "      <td>177</td>\n",
       "      <td>1342</td>\n",
       "    </tr>\n",
       "  </tbody>\n",
       "</table>\n",
       "</div>"
      ],
      "text/plain": [
       "                  estimated         \n",
       "                   negative positive\n",
       "observed negative      1438       43\n",
       "         positive       177     1342"
      ]
     },
     "execution_count": 13,
     "metadata": {},
     "output_type": "execute_result"
    }
   ],
   "source": [
    "mmu.confusion_matrix_to_dataframe(cm)"
   ]
  },
  {
   "cell_type": "code",
   "execution_count": 14,
   "id": "4fe2e389",
   "metadata": {},
   "outputs": [
    {
     "data": {
      "text/html": [
       "<div>\n",
       "<style scoped>\n",
       "    .dataframe tbody tr th:only-of-type {\n",
       "        vertical-align: middle;\n",
       "    }\n",
       "\n",
       "    .dataframe tbody tr th {\n",
       "        vertical-align: top;\n",
       "    }\n",
       "\n",
       "    .dataframe thead th {\n",
       "        text-align: right;\n",
       "    }\n",
       "</style>\n",
       "<table border=\"1\" class=\"dataframe\">\n",
       "  <thead>\n",
       "    <tr style=\"text-align: right;\">\n",
       "      <th></th>\n",
       "      <th>neg.precision</th>\n",
       "      <th>pos.precision</th>\n",
       "      <th>neg.recall</th>\n",
       "      <th>pos.recall</th>\n",
       "      <th>neg.f1</th>\n",
       "      <th>pos.f1</th>\n",
       "      <th>fpr</th>\n",
       "      <th>fnr</th>\n",
       "      <th>acc</th>\n",
       "      <th>mcc</th>\n",
       "    </tr>\n",
       "  </thead>\n",
       "  <tbody>\n",
       "    <tr>\n",
       "      <th>0</th>\n",
       "      <td>0.890402</td>\n",
       "      <td>0.968953</td>\n",
       "      <td>0.970966</td>\n",
       "      <td>0.883476</td>\n",
       "      <td>0.928941</td>\n",
       "      <td>0.924242</td>\n",
       "      <td>0.029034</td>\n",
       "      <td>0.116524</td>\n",
       "      <td>0.926667</td>\n",
       "      <td>0.856895</td>\n",
       "    </tr>\n",
       "  </tbody>\n",
       "</table>\n",
       "</div>"
      ],
      "text/plain": [
       "   neg.precision  pos.precision  neg.recall  pos.recall    neg.f1    pos.f1  \\\n",
       "0       0.890402       0.968953    0.970966    0.883476  0.928941  0.924242   \n",
       "\n",
       "        fpr       fnr       acc       mcc  \n",
       "0  0.029034  0.116524  0.926667  0.856895  "
      ]
     },
     "execution_count": 14,
     "metadata": {},
     "output_type": "execute_result"
    }
   ],
   "source": [
    "mmu.metrics_to_dataframe(metrics)"
   ]
  },
  {
   "cell_type": "markdown",
   "id": "3f56c45d",
   "metadata": {},
   "source": [
    "### Confusion matrix and binary metrics over a single run using multiple thresholds"
   ]
  },
  {
   "cell_type": "code",
   "execution_count": 15,
   "id": "748a86d4",
   "metadata": {},
   "outputs": [],
   "source": [
    "thresholds = np.linspace(1e-5, 1.0, 1000)"
   ]
  },
  {
   "cell_type": "code",
   "execution_count": 16,
   "id": "97987cd5",
   "metadata": {},
   "outputs": [],
   "source": [
    "cm, metrics = mmu.binary_metrics_thresholds(\n",
    "    y=y_test[:, 0],\n",
    "    proba=probas_test[:, 0],\n",
    "    thresholds=thresholds,\n",
    "    fill=1.0\n",
    ")"
   ]
  },
  {
   "cell_type": "code",
   "execution_count": 17,
   "id": "78d3591e",
   "metadata": {},
   "outputs": [
    {
     "data": {
      "text/plain": [
       "array([[   0, 1481,    0, 1519],\n",
       "       [  55, 1426,    0, 1519],\n",
       "       [ 142, 1339,    1, 1518],\n",
       "       ...,\n",
       "       [1479,    2, 1097,  422],\n",
       "       [1480,    1, 1194,  325],\n",
       "       [1481,    0, 1519,    0]])"
      ]
     },
     "execution_count": 17,
     "metadata": {},
     "output_type": "execute_result"
    }
   ],
   "source": [
    "cm"
   ]
  },
  {
   "cell_type": "code",
   "execution_count": 18,
   "id": "0e49d03a",
   "metadata": {},
   "outputs": [
    {
     "data": {
      "text/html": [
       "<div>\n",
       "<style scoped>\n",
       "    .dataframe tbody tr th:only-of-type {\n",
       "        vertical-align: middle;\n",
       "    }\n",
       "\n",
       "    .dataframe tbody tr th {\n",
       "        vertical-align: top;\n",
       "    }\n",
       "\n",
       "    .dataframe thead th {\n",
       "        text-align: right;\n",
       "    }\n",
       "</style>\n",
       "<table border=\"1\" class=\"dataframe\">\n",
       "  <thead>\n",
       "    <tr style=\"text-align: right;\">\n",
       "      <th></th>\n",
       "      <th>neg.precision</th>\n",
       "      <th>pos.precision</th>\n",
       "      <th>neg.recall</th>\n",
       "      <th>pos.recall</th>\n",
       "      <th>neg.f1</th>\n",
       "      <th>pos.f1</th>\n",
       "      <th>fpr</th>\n",
       "      <th>fnr</th>\n",
       "      <th>acc</th>\n",
       "      <th>mcc</th>\n",
       "    </tr>\n",
       "  </thead>\n",
       "  <tbody>\n",
       "    <tr>\n",
       "      <th>0</th>\n",
       "      <td>1.000000</td>\n",
       "      <td>0.506333</td>\n",
       "      <td>0.000000</td>\n",
       "      <td>1.000000</td>\n",
       "      <td>0.000000</td>\n",
       "      <td>0.672273</td>\n",
       "      <td>1.000000</td>\n",
       "      <td>0.000000</td>\n",
       "      <td>0.506333</td>\n",
       "      <td>1.000000</td>\n",
       "    </tr>\n",
       "    <tr>\n",
       "      <th>1</th>\n",
       "      <td>1.000000</td>\n",
       "      <td>0.515789</td>\n",
       "      <td>0.037137</td>\n",
       "      <td>1.000000</td>\n",
       "      <td>0.071615</td>\n",
       "      <td>0.680556</td>\n",
       "      <td>0.962863</td>\n",
       "      <td>0.000000</td>\n",
       "      <td>0.524667</td>\n",
       "      <td>0.138401</td>\n",
       "    </tr>\n",
       "    <tr>\n",
       "      <th>2</th>\n",
       "      <td>0.993007</td>\n",
       "      <td>0.531327</td>\n",
       "      <td>0.095881</td>\n",
       "      <td>0.999342</td>\n",
       "      <td>0.174877</td>\n",
       "      <td>0.693784</td>\n",
       "      <td>0.904119</td>\n",
       "      <td>0.000658</td>\n",
       "      <td>0.553333</td>\n",
       "      <td>0.223447</td>\n",
       "    </tr>\n",
       "    <tr>\n",
       "      <th>3</th>\n",
       "      <td>0.995745</td>\n",
       "      <td>0.549005</td>\n",
       "      <td>0.158001</td>\n",
       "      <td>0.999342</td>\n",
       "      <td>0.272727</td>\n",
       "      <td>0.708683</td>\n",
       "      <td>0.841999</td>\n",
       "      <td>0.000658</td>\n",
       "      <td>0.584000</td>\n",
       "      <td>0.292767</td>\n",
       "    </tr>\n",
       "    <tr>\n",
       "      <th>4</th>\n",
       "      <td>0.993569</td>\n",
       "      <td>0.564150</td>\n",
       "      <td>0.208643</td>\n",
       "      <td>0.998683</td>\n",
       "      <td>0.344866</td>\n",
       "      <td>0.721008</td>\n",
       "      <td>0.791357</td>\n",
       "      <td>0.001317</td>\n",
       "      <td>0.608667</td>\n",
       "      <td>0.340044</td>\n",
       "    </tr>\n",
       "    <tr>\n",
       "      <th>...</th>\n",
       "      <td>...</td>\n",
       "      <td>...</td>\n",
       "      <td>...</td>\n",
       "      <td>...</td>\n",
       "      <td>...</td>\n",
       "      <td>...</td>\n",
       "      <td>...</td>\n",
       "      <td>...</td>\n",
       "      <td>...</td>\n",
       "      <td>...</td>\n",
       "    </tr>\n",
       "    <tr>\n",
       "      <th>995</th>\n",
       "      <td>0.597492</td>\n",
       "      <td>0.992424</td>\n",
       "      <td>0.997299</td>\n",
       "      <td>0.344964</td>\n",
       "      <td>0.747281</td>\n",
       "      <td>0.511969</td>\n",
       "      <td>0.002701</td>\n",
       "      <td>0.655036</td>\n",
       "      <td>0.667000</td>\n",
       "      <td>0.449340</td>\n",
       "    </tr>\n",
       "    <tr>\n",
       "      <th>996</th>\n",
       "      <td>0.589008</td>\n",
       "      <td>0.995910</td>\n",
       "      <td>0.998650</td>\n",
       "      <td>0.320606</td>\n",
       "      <td>0.740982</td>\n",
       "      <td>0.485060</td>\n",
       "      <td>0.001350</td>\n",
       "      <td>0.679394</td>\n",
       "      <td>0.655333</td>\n",
       "      <td>0.432132</td>\n",
       "    </tr>\n",
       "    <tr>\n",
       "      <th>997</th>\n",
       "      <td>0.574146</td>\n",
       "      <td>0.995283</td>\n",
       "      <td>0.998650</td>\n",
       "      <td>0.277814</td>\n",
       "      <td>0.729110</td>\n",
       "      <td>0.434380</td>\n",
       "      <td>0.001350</td>\n",
       "      <td>0.722186</td>\n",
       "      <td>0.633667</td>\n",
       "      <td>0.396770</td>\n",
       "    </tr>\n",
       "    <tr>\n",
       "      <th>998</th>\n",
       "      <td>0.553478</td>\n",
       "      <td>0.996933</td>\n",
       "      <td>0.999325</td>\n",
       "      <td>0.213957</td>\n",
       "      <td>0.712395</td>\n",
       "      <td>0.352304</td>\n",
       "      <td>0.000675</td>\n",
       "      <td>0.786043</td>\n",
       "      <td>0.601667</td>\n",
       "      <td>0.342626</td>\n",
       "    </tr>\n",
       "    <tr>\n",
       "      <th>999</th>\n",
       "      <td>0.493667</td>\n",
       "      <td>1.000000</td>\n",
       "      <td>1.000000</td>\n",
       "      <td>0.000000</td>\n",
       "      <td>0.661013</td>\n",
       "      <td>0.000000</td>\n",
       "      <td>0.000000</td>\n",
       "      <td>1.000000</td>\n",
       "      <td>0.493667</td>\n",
       "      <td>1.000000</td>\n",
       "    </tr>\n",
       "  </tbody>\n",
       "</table>\n",
       "<p>1000 rows × 10 columns</p>\n",
       "</div>"
      ],
      "text/plain": [
       "     neg.precision  pos.precision  neg.recall  pos.recall    neg.f1    pos.f1  \\\n",
       "0         1.000000       0.506333    0.000000    1.000000  0.000000  0.672273   \n",
       "1         1.000000       0.515789    0.037137    1.000000  0.071615  0.680556   \n",
       "2         0.993007       0.531327    0.095881    0.999342  0.174877  0.693784   \n",
       "3         0.995745       0.549005    0.158001    0.999342  0.272727  0.708683   \n",
       "4         0.993569       0.564150    0.208643    0.998683  0.344866  0.721008   \n",
       "..             ...            ...         ...         ...       ...       ...   \n",
       "995       0.597492       0.992424    0.997299    0.344964  0.747281  0.511969   \n",
       "996       0.589008       0.995910    0.998650    0.320606  0.740982  0.485060   \n",
       "997       0.574146       0.995283    0.998650    0.277814  0.729110  0.434380   \n",
       "998       0.553478       0.996933    0.999325    0.213957  0.712395  0.352304   \n",
       "999       0.493667       1.000000    1.000000    0.000000  0.661013  0.000000   \n",
       "\n",
       "          fpr       fnr       acc       mcc  \n",
       "0    1.000000  0.000000  0.506333  1.000000  \n",
       "1    0.962863  0.000000  0.524667  0.138401  \n",
       "2    0.904119  0.000658  0.553333  0.223447  \n",
       "3    0.841999  0.000658  0.584000  0.292767  \n",
       "4    0.791357  0.001317  0.608667  0.340044  \n",
       "..        ...       ...       ...       ...  \n",
       "995  0.002701  0.655036  0.667000  0.449340  \n",
       "996  0.001350  0.679394  0.655333  0.432132  \n",
       "997  0.001350  0.722186  0.633667  0.396770  \n",
       "998  0.000675  0.786043  0.601667  0.342626  \n",
       "999  0.000000  1.000000  0.493667  1.000000  \n",
       "\n",
       "[1000 rows x 10 columns]"
      ]
     },
     "execution_count": 18,
     "metadata": {},
     "output_type": "execute_result"
    }
   ],
   "source": [
    "mmu.metrics_to_dataframe(metrics)"
   ]
  },
  {
   "cell_type": "markdown",
   "id": "d8b17f78",
   "metadata": {},
   "source": [
    "### Confusion matrix and binary metrics over a multiple runs using multiple thresholds"
   ]
  },
  {
   "cell_type": "code",
   "execution_count": 19,
   "id": "b90e1d33",
   "metadata": {},
   "outputs": [],
   "source": [
    "cm, metrics = mmu.binary_metrics_runs_thresholds(\n",
    "    y=y_test,\n",
    "    proba=probas_test,\n",
    "    thresholds=thresholds,\n",
    "    fill=1.0\n",
    ")"
   ]
  },
  {
   "cell_type": "markdown",
   "id": "b7c1d6aa",
   "metadata": {},
   "source": [
    "The confusion matrix and metrics are now cubes.\n",
    "\n",
    "For the confusion matrix the:\n",
    "* row -- over the thresholds\n",
    "* colomns -- the confusion matrix elements\n",
    "* slices -- the runs\n",
    "\n",
    "The stride is such that the biggest stride is over the thresholds for the confusion matrix and over the metrics for the metrics.\n",
    "\n",
    "The argument being that you will want to model the confusion matrices over the runs\n",
    "and the metrics individually over the thresholds and runs"
   ]
  },
  {
   "cell_type": "code",
   "execution_count": 20,
   "id": "05912c5d",
   "metadata": {},
   "outputs": [
    {
     "name": "stdout",
     "output_type": "stream",
     "text": [
      "shape confusion matrix:  (1000, 4, 30)\n",
      "strides confusion matrix:  (960, 8, 32)\n"
     ]
    }
   ],
   "source": [
    "print('shape confusion matrix: ', cm.shape)\n",
    "print('strides confusion matrix: ', cm.strides)"
   ]
  },
  {
   "cell_type": "code",
   "execution_count": 21,
   "id": "8bdd9df2",
   "metadata": {},
   "outputs": [
    {
     "name": "stdout",
     "output_type": "stream",
     "text": [
      "shape metrics:  (1000, 10, 30)\n",
      "strides metrics:  (240, 240000, 8)\n"
     ]
    }
   ],
   "source": [
    "print('shape metrics: ', metrics.shape)\n",
    "print('strides metrics: ', metrics.strides)"
   ]
  },
  {
   "cell_type": "markdown",
   "id": "150bcc31",
   "metadata": {},
   "source": [
    "### Binary metrics over confusion matrices"
   ]
  },
  {
   "cell_type": "code",
   "execution_count": 22,
   "id": "49f4a20f",
   "metadata": {},
   "outputs": [],
   "source": [
    "# We use binary_metrics_thresholds to create confusion matrices\n",
    "cm, _ = mmu.binary_metrics_thresholds(\n",
    "    y=y_test[:, 0],\n",
    "    proba=probas_test[:, 0],\n",
    "    thresholds=thresholds,\n",
    "    fill=0.0\n",
    ")"
   ]
  },
  {
   "cell_type": "code",
   "execution_count": 23,
   "id": "c8e2e53d",
   "metadata": {},
   "outputs": [],
   "source": [
    "metrics = mmu.binary_metrics_confusion(cm, 0.0)"
   ]
  },
  {
   "cell_type": "code",
   "execution_count": 24,
   "id": "c03c77e0",
   "metadata": {},
   "outputs": [
    {
     "data": {
      "text/html": [
       "<div>\n",
       "<style scoped>\n",
       "    .dataframe tbody tr th:only-of-type {\n",
       "        vertical-align: middle;\n",
       "    }\n",
       "\n",
       "    .dataframe tbody tr th {\n",
       "        vertical-align: top;\n",
       "    }\n",
       "\n",
       "    .dataframe thead th {\n",
       "        text-align: right;\n",
       "    }\n",
       "</style>\n",
       "<table border=\"1\" class=\"dataframe\">\n",
       "  <thead>\n",
       "    <tr style=\"text-align: right;\">\n",
       "      <th></th>\n",
       "      <th>neg.precision</th>\n",
       "      <th>pos.precision</th>\n",
       "      <th>neg.recall</th>\n",
       "      <th>pos.recall</th>\n",
       "      <th>neg.f1</th>\n",
       "      <th>pos.f1</th>\n",
       "      <th>fpr</th>\n",
       "      <th>fnr</th>\n",
       "      <th>acc</th>\n",
       "      <th>mcc</th>\n",
       "    </tr>\n",
       "  </thead>\n",
       "  <tbody>\n",
       "    <tr>\n",
       "      <th>0</th>\n",
       "      <td>0.000000</td>\n",
       "      <td>0.506333</td>\n",
       "      <td>0.000000</td>\n",
       "      <td>1.000000</td>\n",
       "      <td>0.000000</td>\n",
       "      <td>0.672273</td>\n",
       "      <td>1.000000</td>\n",
       "      <td>0.000000</td>\n",
       "      <td>0.506333</td>\n",
       "      <td>0.000000</td>\n",
       "    </tr>\n",
       "    <tr>\n",
       "      <th>1</th>\n",
       "      <td>1.000000</td>\n",
       "      <td>0.515789</td>\n",
       "      <td>0.037137</td>\n",
       "      <td>1.000000</td>\n",
       "      <td>0.071615</td>\n",
       "      <td>0.680556</td>\n",
       "      <td>0.962863</td>\n",
       "      <td>0.000000</td>\n",
       "      <td>0.524667</td>\n",
       "      <td>0.138401</td>\n",
       "    </tr>\n",
       "    <tr>\n",
       "      <th>2</th>\n",
       "      <td>0.993007</td>\n",
       "      <td>0.531327</td>\n",
       "      <td>0.095881</td>\n",
       "      <td>0.999342</td>\n",
       "      <td>0.174877</td>\n",
       "      <td>0.693784</td>\n",
       "      <td>0.904119</td>\n",
       "      <td>0.000658</td>\n",
       "      <td>0.553333</td>\n",
       "      <td>0.223447</td>\n",
       "    </tr>\n",
       "    <tr>\n",
       "      <th>3</th>\n",
       "      <td>0.995745</td>\n",
       "      <td>0.549005</td>\n",
       "      <td>0.158001</td>\n",
       "      <td>0.999342</td>\n",
       "      <td>0.272727</td>\n",
       "      <td>0.708683</td>\n",
       "      <td>0.841999</td>\n",
       "      <td>0.000658</td>\n",
       "      <td>0.584000</td>\n",
       "      <td>0.292767</td>\n",
       "    </tr>\n",
       "    <tr>\n",
       "      <th>4</th>\n",
       "      <td>0.993569</td>\n",
       "      <td>0.564150</td>\n",
       "      <td>0.208643</td>\n",
       "      <td>0.998683</td>\n",
       "      <td>0.344866</td>\n",
       "      <td>0.721008</td>\n",
       "      <td>0.791357</td>\n",
       "      <td>0.001317</td>\n",
       "      <td>0.608667</td>\n",
       "      <td>0.340044</td>\n",
       "    </tr>\n",
       "    <tr>\n",
       "      <th>...</th>\n",
       "      <td>...</td>\n",
       "      <td>...</td>\n",
       "      <td>...</td>\n",
       "      <td>...</td>\n",
       "      <td>...</td>\n",
       "      <td>...</td>\n",
       "      <td>...</td>\n",
       "      <td>...</td>\n",
       "      <td>...</td>\n",
       "      <td>...</td>\n",
       "    </tr>\n",
       "    <tr>\n",
       "      <th>995</th>\n",
       "      <td>0.597492</td>\n",
       "      <td>0.992424</td>\n",
       "      <td>0.997299</td>\n",
       "      <td>0.344964</td>\n",
       "      <td>0.747281</td>\n",
       "      <td>0.511969</td>\n",
       "      <td>0.002701</td>\n",
       "      <td>0.655036</td>\n",
       "      <td>0.667000</td>\n",
       "      <td>0.449340</td>\n",
       "    </tr>\n",
       "    <tr>\n",
       "      <th>996</th>\n",
       "      <td>0.589008</td>\n",
       "      <td>0.995910</td>\n",
       "      <td>0.998650</td>\n",
       "      <td>0.320606</td>\n",
       "      <td>0.740982</td>\n",
       "      <td>0.485060</td>\n",
       "      <td>0.001350</td>\n",
       "      <td>0.679394</td>\n",
       "      <td>0.655333</td>\n",
       "      <td>0.432132</td>\n",
       "    </tr>\n",
       "    <tr>\n",
       "      <th>997</th>\n",
       "      <td>0.574146</td>\n",
       "      <td>0.995283</td>\n",
       "      <td>0.998650</td>\n",
       "      <td>0.277814</td>\n",
       "      <td>0.729110</td>\n",
       "      <td>0.434380</td>\n",
       "      <td>0.001350</td>\n",
       "      <td>0.722186</td>\n",
       "      <td>0.633667</td>\n",
       "      <td>0.396770</td>\n",
       "    </tr>\n",
       "    <tr>\n",
       "      <th>998</th>\n",
       "      <td>0.553478</td>\n",
       "      <td>0.996933</td>\n",
       "      <td>0.999325</td>\n",
       "      <td>0.213957</td>\n",
       "      <td>0.712395</td>\n",
       "      <td>0.352304</td>\n",
       "      <td>0.000675</td>\n",
       "      <td>0.786043</td>\n",
       "      <td>0.601667</td>\n",
       "      <td>0.342626</td>\n",
       "    </tr>\n",
       "    <tr>\n",
       "      <th>999</th>\n",
       "      <td>0.493667</td>\n",
       "      <td>0.000000</td>\n",
       "      <td>1.000000</td>\n",
       "      <td>0.000000</td>\n",
       "      <td>0.661013</td>\n",
       "      <td>0.000000</td>\n",
       "      <td>0.000000</td>\n",
       "      <td>1.000000</td>\n",
       "      <td>0.493667</td>\n",
       "      <td>0.000000</td>\n",
       "    </tr>\n",
       "  </tbody>\n",
       "</table>\n",
       "<p>1000 rows × 10 columns</p>\n",
       "</div>"
      ],
      "text/plain": [
       "     neg.precision  pos.precision  neg.recall  pos.recall    neg.f1    pos.f1  \\\n",
       "0         0.000000       0.506333    0.000000    1.000000  0.000000  0.672273   \n",
       "1         1.000000       0.515789    0.037137    1.000000  0.071615  0.680556   \n",
       "2         0.993007       0.531327    0.095881    0.999342  0.174877  0.693784   \n",
       "3         0.995745       0.549005    0.158001    0.999342  0.272727  0.708683   \n",
       "4         0.993569       0.564150    0.208643    0.998683  0.344866  0.721008   \n",
       "..             ...            ...         ...         ...       ...       ...   \n",
       "995       0.597492       0.992424    0.997299    0.344964  0.747281  0.511969   \n",
       "996       0.589008       0.995910    0.998650    0.320606  0.740982  0.485060   \n",
       "997       0.574146       0.995283    0.998650    0.277814  0.729110  0.434380   \n",
       "998       0.553478       0.996933    0.999325    0.213957  0.712395  0.352304   \n",
       "999       0.493667       0.000000    1.000000    0.000000  0.661013  0.000000   \n",
       "\n",
       "          fpr       fnr       acc       mcc  \n",
       "0    1.000000  0.000000  0.506333  0.000000  \n",
       "1    0.962863  0.000000  0.524667  0.138401  \n",
       "2    0.904119  0.000658  0.553333  0.223447  \n",
       "3    0.841999  0.000658  0.584000  0.292767  \n",
       "4    0.791357  0.001317  0.608667  0.340044  \n",
       "..        ...       ...       ...       ...  \n",
       "995  0.002701  0.655036  0.667000  0.449340  \n",
       "996  0.001350  0.679394  0.655333  0.432132  \n",
       "997  0.001350  0.722186  0.633667  0.396770  \n",
       "998  0.000675  0.786043  0.601667  0.342626  \n",
       "999  0.000000  1.000000  0.493667  0.000000  \n",
       "\n",
       "[1000 rows x 10 columns]"
      ]
     },
     "execution_count": 24,
     "metadata": {},
     "output_type": "execute_result"
    }
   ],
   "source": [
    "mmu.metrics_to_dataframe(metrics)"
   ]
  },
  {
   "cell_type": "markdown",
   "id": "62cd758e",
   "metadata": {},
   "source": [
    "## How to use\n",
    "\n",
    "We generate 30 models consisting of 10k samples"
   ]
  },
  {
   "cell_type": "code",
   "execution_count": 25,
   "id": "fa6773c2",
   "metadata": {},
   "outputs": [],
   "source": [
    "model = mmu.ModelGenerator(random_state=112356)\n",
    "fit = model.fit()\n",
    "train_mask, y, probas, X, models, ground_truth = fit.transform(\n",
    "    enable_model_noise=False,\n",
    "    enable_sample_noise=False,\n",
    ")"
   ]
  },
  {
   "cell_type": "markdown",
   "id": "dcb85c81",
   "metadata": {},
   "source": [
    "Select the test set observations"
   ]
  },
  {
   "cell_type": "code",
   "execution_count": 26,
   "id": "a439e819",
   "metadata": {},
   "outputs": [],
   "source": [
    "y_test = np.asarray(y[~train_mask, :], order='F')\n",
    "probas_test = np.asarray(probas[~train_mask, :], order='F')\n",
    "yhat_test = np.asarray(np.rint(probas_test).astype(np.int64, copy=False), order='F')"
   ]
  },
  {
   "cell_type": "code",
   "execution_count": 27,
   "id": "cdab8f09",
   "metadata": {},
   "outputs": [],
   "source": [
    "gt_test = ground_truth.loc[~train_mask, :]"
   ]
  },
  {
   "cell_type": "markdown",
   "id": "e29caf3a",
   "metadata": {},
   "source": [
    "Compute the ground truth confusion matrix and metrics"
   ]
  },
  {
   "cell_type": "code",
   "execution_count": 28,
   "id": "833be03a",
   "metadata": {},
   "outputs": [],
   "source": [
    "gt_conf_mat, gt_metrics = mmu.binary_metrics_proba(\n",
    "    gt_test['y'], gt_test['proba'], threshold=0.5\n",
    ")"
   ]
  },
  {
   "cell_type": "code",
   "execution_count": 29,
   "id": "2a4197b5",
   "metadata": {},
   "outputs": [],
   "source": [
    "target_metrics = [\n",
    "    'neg.precision', 'pos.precision', 'neg.recall', 'pos.recall', 'mcc'\n",
    "]"
   ]
  },
  {
   "cell_type": "code",
   "execution_count": 30,
   "id": "7d04fea4",
   "metadata": {},
   "outputs": [],
   "source": [
    "gt_metrics = mmu.metrics_to_dataframe(gt_metrics)[target_metrics]"
   ]
  },
  {
   "cell_type": "markdown",
   "id": "e7985917",
   "metadata": {},
   "source": [
    "#### Sample covariance matrix\n",
    "\n",
    "We take the first model and compute the confusion matrix for this model"
   ]
  },
  {
   "cell_type": "code",
   "execution_count": 31,
   "id": "16f53de5",
   "metadata": {},
   "outputs": [],
   "source": [
    "sample_model_conf_mat = mmu.confusion_matrix_proba(\n",
    "    y_test[:, 0], probas_test[:, 0], threshold=0.5\n",
    ").flatten()"
   ]
  },
  {
   "cell_type": "markdown",
   "id": "3a54773b",
   "metadata": {},
   "source": [
    "You can now test your method using the sample_model_conf_mat to generate confusion matrices"
   ]
  },
  {
   "cell_type": "markdown",
   "id": "03b4f9b6",
   "metadata": {},
   "source": [
    "\n",
    "conf_mat_samples = beta_binomial..."
   ]
  },
  {
   "cell_type": "code",
   "execution_count": 32,
   "id": "492259b9",
   "metadata": {},
   "outputs": [
    {
     "ename": "NameError",
     "evalue": "name 'conf_mat_samples' is not defined",
     "output_type": "error",
     "traceback": [
      "\u001b[0;31m---------------------------------------------------------------------------\u001b[0m",
      "\u001b[0;31mNameError\u001b[0m                                 Traceback (most recent call last)",
      "\u001b[0;32m/var/folders/pr/fgvttt6572xg2szn4s3c3tnw0000gn/T/ipykernel_36152/3943953354.py\u001b[0m in \u001b[0;36m<module>\u001b[0;34m\u001b[0m\n\u001b[0;32m----> 1\u001b[0;31m \u001b[0mestimated_metrics\u001b[0m \u001b[0;34m=\u001b[0m \u001b[0mmmu\u001b[0m\u001b[0;34m.\u001b[0m\u001b[0mbinary_metrics_confusion\u001b[0m\u001b[0;34m(\u001b[0m\u001b[0mconf_mat_samples\u001b[0m\u001b[0;34m,\u001b[0m \u001b[0mfill\u001b[0m\u001b[0;34m=\u001b[0m\u001b[0;36m0.0\u001b[0m\u001b[0;34m)\u001b[0m\u001b[0;34m\u001b[0m\u001b[0;34m\u001b[0m\u001b[0m\n\u001b[0m",
      "\u001b[0;31mNameError\u001b[0m: name 'conf_mat_samples' is not defined"
     ]
    }
   ],
   "source": [
    "estimated_metrics = mmu.binary_metrics_confusion(conf_mat_samples, fill=0.0)"
   ]
  },
  {
   "cell_type": "markdown",
   "id": "96067774",
   "metadata": {},
   "source": [
    "Compare the CI with the ground truth metrics `gt_metrics`"
   ]
  }
 ],
 "metadata": {
  "kernelspec": {
   "display_name": "Python 3 (ipykernel)",
   "language": "python",
   "name": "python3"
  },
  "language_info": {
   "codemirror_mode": {
    "name": "ipython",
    "version": 3
   },
   "file_extension": ".py",
   "mimetype": "text/x-python",
   "name": "python",
   "nbconvert_exporter": "python",
   "pygments_lexer": "ipython3",
   "version": "3.8.5"
  }
 },
 "nbformat": 4,
 "nbformat_minor": 5
}
