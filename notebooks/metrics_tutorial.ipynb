{
 "cells": [
  {
   "cell_type": "markdown",
   "id": "bea5e9f1",
   "metadata": {},
   "source": [
    "# MMU metrics walkthrough\n",
    "\n",
    "This notebook briefly demonstrates the various capabilities of the package on the computation of confusion matrix/matrices and binary classification metrics."
   ]
  },
  {
   "cell_type": "code",
   "execution_count": 1,
   "id": "5d947a01",
   "metadata": {},
   "outputs": [],
   "source": [
    "import pandas as pd\n",
    "import numpy as np\n",
    "\n",
    "import mmu"
   ]
  },
  {
   "cell_type": "markdown",
   "id": "78857916",
   "metadata": {},
   "source": [
    "### Data generation\n",
    "\n",
    "We generate predictions and true labels where:\n",
    "* `score`: classifier scores\n",
    "* `yhat`: estimated labels\n",
    "* `y`: true labels"
   ]
  },
  {
   "cell_type": "code",
   "execution_count": 2,
   "id": "e638b781",
   "metadata": {},
   "outputs": [],
   "source": [
    "score, yhat, y = mmu.generate_data(n_samples=10000)"
   ]
  },
  {
   "cell_type": "markdown",
   "id": "7054fe69",
   "metadata": {},
   "source": [
    "### Confusion matrix only\n",
    "\n",
    "We can compute the confusion matrix for a single run using the estimated labels or based on the probability and a classification threshold.\n",
    "\n",
    "Based on the esstimated labels `yhat`"
   ]
  },
  {
   "cell_type": "code",
   "execution_count": 3,
   "id": "fed5fca9",
   "metadata": {},
   "outputs": [
    {
     "data": {
      "text/plain": [
       "array([[ 830, 2863],\n",
       "       [1452, 4855]])"
      ]
     },
     "execution_count": 3,
     "metadata": {},
     "output_type": "execute_result"
    }
   ],
   "source": [
    "# based on yhat\n",
    "mmu.confusion_matrix(y, yhat)"
   ]
  },
  {
   "cell_type": "markdown",
   "id": "28a1aecb",
   "metadata": {},
   "source": [
    "based on classifier score with classification threshold"
   ]
  },
  {
   "cell_type": "code",
   "execution_count": 4,
   "id": "9bd3db99",
   "metadata": {},
   "outputs": [
    {
     "data": {
      "text/plain": [
       "array([[ 830, 2863],\n",
       "       [1452, 4855]])"
      ]
     },
     "execution_count": 4,
     "metadata": {},
     "output_type": "execute_result"
    }
   ],
   "source": [
    "mmu.confusion_matrix(y, score=score, threshold=0.5)"
   ]
  },
  {
   "cell_type": "markdown",
   "id": "454299c7",
   "metadata": {},
   "source": [
    "## Confusion matrix and metrics\n",
    "\n",
    "The ``binary_metrics*`` functions compute ten classification metrics:\n",
    " *    0 - neg.precision aka Negative Predictive Value\n",
    " *    1 - pos.precision aka Positive Predictive Value\n",
    " *    2 - neg.recall aka True Negative Rate & Specificity\n",
    " *    3 - pos.recall aka True Positive Rate aka Sensitivity\n",
    " *    4 - neg.f1 score\n",
    " *    5 - pos.f1 score\n",
    " *    6 - False Positive Rate\n",
    " *    7 - False Negative Rate\n",
    " *    8 - Accuracy\n",
    " *    9 - MCC\n",
    "\n",
    "These metrics were chosen as they are the most commonly used metrics and most other metrics can be compute from these. We don't provide individual functions at the moment as the overhead of computing all of them vs one or two is negligable.\n",
    "\n",
    "This index can be retrieved using:"
   ]
  },
  {
   "cell_type": "code",
   "execution_count": 5,
   "id": "513f7482",
   "metadata": {},
   "outputs": [
    {
     "data": {
      "text/plain": [
       "{'neg.precision': 0,\n",
       " 'neg.prec': 0,\n",
       " 'npv': 0,\n",
       " 'pos.precision': 1,\n",
       " 'pos.prec': 1,\n",
       " 'ppv': 1,\n",
       " 'neg.recall': 2,\n",
       " 'neg.rec': 2,\n",
       " 'tnr': 2,\n",
       " 'specificity': 2,\n",
       " 'pos.recall': 3,\n",
       " 'pos.rec': 3,\n",
       " 'tpr': 3,\n",
       " 'sensitivity': 3,\n",
       " 'neg.f1': 4,\n",
       " 'neg.f1_score': 4,\n",
       " 'pos.f1': 5,\n",
       " 'pos.f1_score': 5,\n",
       " 'fpr': 6,\n",
       " 'fnr': 7,\n",
       " 'accuracy': 8,\n",
       " 'acc': 8,\n",
       " 'mcc': 9}"
      ]
     },
     "execution_count": 5,
     "metadata": {},
     "output_type": "execute_result"
    }
   ],
   "source": [
    "col_index = mmu.metrics.col_index\n",
    "col_index"
   ]
  },
  {
   "cell_type": "markdown",
   "id": "3dfd8238",
   "metadata": {},
   "source": [
    "### For a single test set"
   ]
  },
  {
   "cell_type": "code",
   "execution_count": 6,
   "id": "a726f5a2",
   "metadata": {},
   "outputs": [],
   "source": [
    "cm, metrics = mmu.binary_metrics(y, yhat)"
   ]
  },
  {
   "cell_type": "code",
   "execution_count": 7,
   "id": "c75da16c",
   "metadata": {},
   "outputs": [
    {
     "data": {
      "text/plain": [
       "array([[ 830, 2863],\n",
       "       [1452, 4855]])"
      ]
     },
     "execution_count": 7,
     "metadata": {},
     "output_type": "execute_result"
    }
   ],
   "source": [
    "# the confusion matrix\n",
    "cm"
   ]
  },
  {
   "cell_type": "markdown",
   "id": "78577630",
   "metadata": {},
   "source": [
    "We can create a dataframe from the confusion matrix using:"
   ]
  },
  {
   "cell_type": "code",
   "execution_count": 8,
   "id": "3586a08a",
   "metadata": {},
   "outputs": [
    {
     "data": {
      "text/html": [
       "<div>\n",
       "<style scoped>\n",
       "    .dataframe tbody tr th:only-of-type {\n",
       "        vertical-align: middle;\n",
       "    }\n",
       "\n",
       "    .dataframe tbody tr th {\n",
       "        vertical-align: top;\n",
       "    }\n",
       "\n",
       "    .dataframe thead tr th {\n",
       "        text-align: left;\n",
       "    }\n",
       "</style>\n",
       "<table border=\"1\" class=\"dataframe\">\n",
       "  <thead>\n",
       "    <tr>\n",
       "      <th></th>\n",
       "      <th></th>\n",
       "      <th colspan=\"2\" halign=\"left\">estimated</th>\n",
       "    </tr>\n",
       "    <tr>\n",
       "      <th></th>\n",
       "      <th></th>\n",
       "      <th>negative</th>\n",
       "      <th>positive</th>\n",
       "    </tr>\n",
       "  </thead>\n",
       "  <tbody>\n",
       "    <tr>\n",
       "      <th rowspan=\"2\" valign=\"top\">observed</th>\n",
       "      <th>negative</th>\n",
       "      <td>830</td>\n",
       "      <td>2863</td>\n",
       "    </tr>\n",
       "    <tr>\n",
       "      <th>positive</th>\n",
       "      <td>1452</td>\n",
       "      <td>4855</td>\n",
       "    </tr>\n",
       "  </tbody>\n",
       "</table>\n",
       "</div>"
      ],
      "text/plain": [
       "                  estimated         \n",
       "                   negative positive\n",
       "observed negative       830     2863\n",
       "         positive      1452     4855"
      ]
     },
     "execution_count": 8,
     "metadata": {},
     "output_type": "execute_result"
    }
   ],
   "source": [
    "mmu.confusion_matrix_to_dataframe(cm)"
   ]
  },
  {
   "cell_type": "code",
   "execution_count": 9,
   "id": "1e7917d6",
   "metadata": {},
   "outputs": [
    {
     "data": {
      "text/plain": [
       "array([ 0.36371604,  0.62904898,  0.22474953,  0.76977961,  0.27782427,\n",
       "        0.69233512,  0.77525047,  0.23022039,  0.5685    , -0.00629139])"
      ]
     },
     "execution_count": 9,
     "metadata": {},
     "output_type": "execute_result"
    }
   ],
   "source": [
    "metrics"
   ]
  },
  {
   "cell_type": "markdown",
   "id": "c43dd390",
   "metadata": {},
   "source": [
    "We can create a dataframe from the metrics using:"
   ]
  },
  {
   "cell_type": "code",
   "execution_count": 10,
   "id": "79dfc709",
   "metadata": {},
   "outputs": [
    {
     "data": {
      "text/html": [
       "<div>\n",
       "<style scoped>\n",
       "    .dataframe tbody tr th:only-of-type {\n",
       "        vertical-align: middle;\n",
       "    }\n",
       "\n",
       "    .dataframe tbody tr th {\n",
       "        vertical-align: top;\n",
       "    }\n",
       "\n",
       "    .dataframe thead th {\n",
       "        text-align: right;\n",
       "    }\n",
       "</style>\n",
       "<table border=\"1\" class=\"dataframe\">\n",
       "  <thead>\n",
       "    <tr style=\"text-align: right;\">\n",
       "      <th></th>\n",
       "      <th>neg.precision</th>\n",
       "      <th>pos.precision</th>\n",
       "      <th>neg.recall</th>\n",
       "      <th>pos.recall</th>\n",
       "      <th>neg.f1</th>\n",
       "      <th>pos.f1</th>\n",
       "      <th>fpr</th>\n",
       "      <th>fnr</th>\n",
       "      <th>acc</th>\n",
       "      <th>mcc</th>\n",
       "    </tr>\n",
       "  </thead>\n",
       "  <tbody>\n",
       "    <tr>\n",
       "      <th>0</th>\n",
       "      <td>0.363716</td>\n",
       "      <td>0.629049</td>\n",
       "      <td>0.22475</td>\n",
       "      <td>0.76978</td>\n",
       "      <td>0.277824</td>\n",
       "      <td>0.692335</td>\n",
       "      <td>0.77525</td>\n",
       "      <td>0.23022</td>\n",
       "      <td>0.5685</td>\n",
       "      <td>-0.006291</td>\n",
       "    </tr>\n",
       "  </tbody>\n",
       "</table>\n",
       "</div>"
      ],
      "text/plain": [
       "   neg.precision  pos.precision  neg.recall  pos.recall    neg.f1    pos.f1  \\\n",
       "0       0.363716       0.629049     0.22475     0.76978  0.277824  0.692335   \n",
       "\n",
       "       fpr      fnr     acc       mcc  \n",
       "0  0.77525  0.23022  0.5685 -0.006291  "
      ]
     },
     "execution_count": 10,
     "metadata": {},
     "output_type": "execute_result"
    }
   ],
   "source": [
    "mmu.metrics_to_dataframe(metrics)"
   ]
  },
  {
   "cell_type": "markdown",
   "id": "ac33b6c7",
   "metadata": {},
   "source": [
    "### A single run using probabilities"
   ]
  },
  {
   "cell_type": "code",
   "execution_count": 11,
   "id": "90d7accb",
   "metadata": {},
   "outputs": [],
   "source": [
    "cm, metrics = mmu.binary_metrics(y, score=score, threshold=0.5)"
   ]
  },
  {
   "cell_type": "code",
   "execution_count": 12,
   "id": "02e66be7",
   "metadata": {},
   "outputs": [
    {
     "data": {
      "text/html": [
       "<div>\n",
       "<style scoped>\n",
       "    .dataframe tbody tr th:only-of-type {\n",
       "        vertical-align: middle;\n",
       "    }\n",
       "\n",
       "    .dataframe tbody tr th {\n",
       "        vertical-align: top;\n",
       "    }\n",
       "\n",
       "    .dataframe thead tr th {\n",
       "        text-align: left;\n",
       "    }\n",
       "</style>\n",
       "<table border=\"1\" class=\"dataframe\">\n",
       "  <thead>\n",
       "    <tr>\n",
       "      <th></th>\n",
       "      <th></th>\n",
       "      <th colspan=\"2\" halign=\"left\">estimated</th>\n",
       "    </tr>\n",
       "    <tr>\n",
       "      <th></th>\n",
       "      <th></th>\n",
       "      <th>negative</th>\n",
       "      <th>positive</th>\n",
       "    </tr>\n",
       "  </thead>\n",
       "  <tbody>\n",
       "    <tr>\n",
       "      <th rowspan=\"2\" valign=\"top\">observed</th>\n",
       "      <th>negative</th>\n",
       "      <td>830</td>\n",
       "      <td>2863</td>\n",
       "    </tr>\n",
       "    <tr>\n",
       "      <th>positive</th>\n",
       "      <td>1452</td>\n",
       "      <td>4855</td>\n",
       "    </tr>\n",
       "  </tbody>\n",
       "</table>\n",
       "</div>"
      ],
      "text/plain": [
       "                  estimated         \n",
       "                   negative positive\n",
       "observed negative       830     2863\n",
       "         positive      1452     4855"
      ]
     },
     "execution_count": 12,
     "metadata": {},
     "output_type": "execute_result"
    }
   ],
   "source": [
    "mmu.confusion_matrix_to_dataframe(cm)"
   ]
  },
  {
   "cell_type": "code",
   "execution_count": 13,
   "id": "4fe2e389",
   "metadata": {},
   "outputs": [
    {
     "data": {
      "text/html": [
       "<div>\n",
       "<style scoped>\n",
       "    .dataframe tbody tr th:only-of-type {\n",
       "        vertical-align: middle;\n",
       "    }\n",
       "\n",
       "    .dataframe tbody tr th {\n",
       "        vertical-align: top;\n",
       "    }\n",
       "\n",
       "    .dataframe thead th {\n",
       "        text-align: right;\n",
       "    }\n",
       "</style>\n",
       "<table border=\"1\" class=\"dataframe\">\n",
       "  <thead>\n",
       "    <tr style=\"text-align: right;\">\n",
       "      <th></th>\n",
       "      <th>neg.precision</th>\n",
       "      <th>pos.precision</th>\n",
       "      <th>neg.recall</th>\n",
       "      <th>pos.recall</th>\n",
       "      <th>neg.f1</th>\n",
       "      <th>pos.f1</th>\n",
       "      <th>fpr</th>\n",
       "      <th>fnr</th>\n",
       "      <th>acc</th>\n",
       "      <th>mcc</th>\n",
       "    </tr>\n",
       "  </thead>\n",
       "  <tbody>\n",
       "    <tr>\n",
       "      <th>0</th>\n",
       "      <td>0.363716</td>\n",
       "      <td>0.629049</td>\n",
       "      <td>0.22475</td>\n",
       "      <td>0.76978</td>\n",
       "      <td>0.277824</td>\n",
       "      <td>0.692335</td>\n",
       "      <td>0.77525</td>\n",
       "      <td>0.23022</td>\n",
       "      <td>0.5685</td>\n",
       "      <td>-0.006291</td>\n",
       "    </tr>\n",
       "  </tbody>\n",
       "</table>\n",
       "</div>"
      ],
      "text/plain": [
       "   neg.precision  pos.precision  neg.recall  pos.recall    neg.f1    pos.f1  \\\n",
       "0       0.363716       0.629049     0.22475     0.76978  0.277824  0.692335   \n",
       "\n",
       "       fpr      fnr     acc       mcc  \n",
       "0  0.77525  0.23022  0.5685 -0.006291  "
      ]
     },
     "execution_count": 13,
     "metadata": {},
     "output_type": "execute_result"
    }
   ],
   "source": [
    "mmu.metrics_to_dataframe(metrics)"
   ]
  },
  {
   "cell_type": "markdown",
   "id": "3f56c45d",
   "metadata": {},
   "source": [
    "### A single run using multiple thresholds\n",
    "\n",
    "Can be used when you want to compute a precision-recall curve for example"
   ]
  },
  {
   "cell_type": "code",
   "execution_count": 14,
   "id": "748a86d4",
   "metadata": {},
   "outputs": [],
   "source": [
    "thresholds = np.linspace(1e-5, 1.0, 1000)"
   ]
  },
  {
   "cell_type": "code",
   "execution_count": 15,
   "id": "97987cd5",
   "metadata": {},
   "outputs": [],
   "source": [
    "cm, metrics = mmu.binary_metrics_thresholds(\n",
    "    y=y,\n",
    "    score=score,\n",
    "    thresholds=thresholds,\n",
    ")"
   ]
  },
  {
   "cell_type": "markdown",
   "id": "4da83b26",
   "metadata": {},
   "source": [
    "The confusion matrix is now an 2D array where the rows contain the confusion matrix for a single threshold"
   ]
  },
  {
   "cell_type": "code",
   "execution_count": 16,
   "id": "78d3591e",
   "metadata": {},
   "outputs": [
    {
     "data": {
      "text/plain": [
       "array([[   0, 3693,    0, 6307],\n",
       "       [   0, 3693,    0, 6307],\n",
       "       [   0, 3693,    0, 6307],\n",
       "       ...,\n",
       "       [3693,    0, 6307,    0],\n",
       "       [3693,    0, 6307,    0],\n",
       "       [3693,    0, 6307,    0]])"
      ]
     },
     "execution_count": 16,
     "metadata": {},
     "output_type": "execute_result"
    }
   ],
   "source": [
    "cm"
   ]
  },
  {
   "cell_type": "markdown",
   "id": "18804309",
   "metadata": {},
   "source": [
    "Similarly, `metrics` is now an 2D array where the rows contain the metrics for a single threshold"
   ]
  },
  {
   "cell_type": "code",
   "execution_count": 17,
   "id": "0e49d03a",
   "metadata": {},
   "outputs": [
    {
     "data": {
      "text/html": [
       "<div>\n",
       "<style scoped>\n",
       "    .dataframe tbody tr th:only-of-type {\n",
       "        vertical-align: middle;\n",
       "    }\n",
       "\n",
       "    .dataframe tbody tr th {\n",
       "        vertical-align: top;\n",
       "    }\n",
       "\n",
       "    .dataframe thead th {\n",
       "        text-align: right;\n",
       "    }\n",
       "</style>\n",
       "<table border=\"1\" class=\"dataframe\">\n",
       "  <thead>\n",
       "    <tr style=\"text-align: right;\">\n",
       "      <th></th>\n",
       "      <th>neg.precision</th>\n",
       "      <th>pos.precision</th>\n",
       "      <th>neg.recall</th>\n",
       "      <th>pos.recall</th>\n",
       "      <th>neg.f1</th>\n",
       "      <th>pos.f1</th>\n",
       "      <th>fpr</th>\n",
       "      <th>fnr</th>\n",
       "      <th>acc</th>\n",
       "      <th>mcc</th>\n",
       "    </tr>\n",
       "  </thead>\n",
       "  <tbody>\n",
       "    <tr>\n",
       "      <th>0</th>\n",
       "      <td>0.0000</td>\n",
       "      <td>0.6307</td>\n",
       "      <td>0.0</td>\n",
       "      <td>1.0</td>\n",
       "      <td>0.0000</td>\n",
       "      <td>0.773533</td>\n",
       "      <td>1.0</td>\n",
       "      <td>0.0</td>\n",
       "      <td>0.6307</td>\n",
       "      <td>0.0</td>\n",
       "    </tr>\n",
       "    <tr>\n",
       "      <th>1</th>\n",
       "      <td>0.0000</td>\n",
       "      <td>0.6307</td>\n",
       "      <td>0.0</td>\n",
       "      <td>1.0</td>\n",
       "      <td>0.0000</td>\n",
       "      <td>0.773533</td>\n",
       "      <td>1.0</td>\n",
       "      <td>0.0</td>\n",
       "      <td>0.6307</td>\n",
       "      <td>0.0</td>\n",
       "    </tr>\n",
       "    <tr>\n",
       "      <th>2</th>\n",
       "      <td>0.0000</td>\n",
       "      <td>0.6307</td>\n",
       "      <td>0.0</td>\n",
       "      <td>1.0</td>\n",
       "      <td>0.0000</td>\n",
       "      <td>0.773533</td>\n",
       "      <td>1.0</td>\n",
       "      <td>0.0</td>\n",
       "      <td>0.6307</td>\n",
       "      <td>0.0</td>\n",
       "    </tr>\n",
       "    <tr>\n",
       "      <th>3</th>\n",
       "      <td>0.0000</td>\n",
       "      <td>0.6307</td>\n",
       "      <td>0.0</td>\n",
       "      <td>1.0</td>\n",
       "      <td>0.0000</td>\n",
       "      <td>0.773533</td>\n",
       "      <td>1.0</td>\n",
       "      <td>0.0</td>\n",
       "      <td>0.6307</td>\n",
       "      <td>0.0</td>\n",
       "    </tr>\n",
       "    <tr>\n",
       "      <th>4</th>\n",
       "      <td>0.0000</td>\n",
       "      <td>0.6307</td>\n",
       "      <td>0.0</td>\n",
       "      <td>1.0</td>\n",
       "      <td>0.0000</td>\n",
       "      <td>0.773533</td>\n",
       "      <td>1.0</td>\n",
       "      <td>0.0</td>\n",
       "      <td>0.6307</td>\n",
       "      <td>0.0</td>\n",
       "    </tr>\n",
       "    <tr>\n",
       "      <th>...</th>\n",
       "      <td>...</td>\n",
       "      <td>...</td>\n",
       "      <td>...</td>\n",
       "      <td>...</td>\n",
       "      <td>...</td>\n",
       "      <td>...</td>\n",
       "      <td>...</td>\n",
       "      <td>...</td>\n",
       "      <td>...</td>\n",
       "      <td>...</td>\n",
       "    </tr>\n",
       "    <tr>\n",
       "      <th>995</th>\n",
       "      <td>0.3693</td>\n",
       "      <td>0.0000</td>\n",
       "      <td>1.0</td>\n",
       "      <td>0.0</td>\n",
       "      <td>0.5394</td>\n",
       "      <td>0.000000</td>\n",
       "      <td>0.0</td>\n",
       "      <td>1.0</td>\n",
       "      <td>0.3693</td>\n",
       "      <td>0.0</td>\n",
       "    </tr>\n",
       "    <tr>\n",
       "      <th>996</th>\n",
       "      <td>0.3693</td>\n",
       "      <td>0.0000</td>\n",
       "      <td>1.0</td>\n",
       "      <td>0.0</td>\n",
       "      <td>0.5394</td>\n",
       "      <td>0.000000</td>\n",
       "      <td>0.0</td>\n",
       "      <td>1.0</td>\n",
       "      <td>0.3693</td>\n",
       "      <td>0.0</td>\n",
       "    </tr>\n",
       "    <tr>\n",
       "      <th>997</th>\n",
       "      <td>0.3693</td>\n",
       "      <td>0.0000</td>\n",
       "      <td>1.0</td>\n",
       "      <td>0.0</td>\n",
       "      <td>0.5394</td>\n",
       "      <td>0.000000</td>\n",
       "      <td>0.0</td>\n",
       "      <td>1.0</td>\n",
       "      <td>0.3693</td>\n",
       "      <td>0.0</td>\n",
       "    </tr>\n",
       "    <tr>\n",
       "      <th>998</th>\n",
       "      <td>0.3693</td>\n",
       "      <td>0.0000</td>\n",
       "      <td>1.0</td>\n",
       "      <td>0.0</td>\n",
       "      <td>0.5394</td>\n",
       "      <td>0.000000</td>\n",
       "      <td>0.0</td>\n",
       "      <td>1.0</td>\n",
       "      <td>0.3693</td>\n",
       "      <td>0.0</td>\n",
       "    </tr>\n",
       "    <tr>\n",
       "      <th>999</th>\n",
       "      <td>0.3693</td>\n",
       "      <td>0.0000</td>\n",
       "      <td>1.0</td>\n",
       "      <td>0.0</td>\n",
       "      <td>0.5394</td>\n",
       "      <td>0.000000</td>\n",
       "      <td>0.0</td>\n",
       "      <td>1.0</td>\n",
       "      <td>0.3693</td>\n",
       "      <td>0.0</td>\n",
       "    </tr>\n",
       "  </tbody>\n",
       "</table>\n",
       "<p>1000 rows × 10 columns</p>\n",
       "</div>"
      ],
      "text/plain": [
       "     neg.precision  pos.precision  neg.recall  pos.recall  neg.f1    pos.f1  \\\n",
       "0           0.0000         0.6307         0.0         1.0  0.0000  0.773533   \n",
       "1           0.0000         0.6307         0.0         1.0  0.0000  0.773533   \n",
       "2           0.0000         0.6307         0.0         1.0  0.0000  0.773533   \n",
       "3           0.0000         0.6307         0.0         1.0  0.0000  0.773533   \n",
       "4           0.0000         0.6307         0.0         1.0  0.0000  0.773533   \n",
       "..             ...            ...         ...         ...     ...       ...   \n",
       "995         0.3693         0.0000         1.0         0.0  0.5394  0.000000   \n",
       "996         0.3693         0.0000         1.0         0.0  0.5394  0.000000   \n",
       "997         0.3693         0.0000         1.0         0.0  0.5394  0.000000   \n",
       "998         0.3693         0.0000         1.0         0.0  0.5394  0.000000   \n",
       "999         0.3693         0.0000         1.0         0.0  0.5394  0.000000   \n",
       "\n",
       "     fpr  fnr     acc  mcc  \n",
       "0    1.0  0.0  0.6307  0.0  \n",
       "1    1.0  0.0  0.6307  0.0  \n",
       "2    1.0  0.0  0.6307  0.0  \n",
       "3    1.0  0.0  0.6307  0.0  \n",
       "4    1.0  0.0  0.6307  0.0  \n",
       "..   ...  ...     ...  ...  \n",
       "995  0.0  1.0  0.3693  0.0  \n",
       "996  0.0  1.0  0.3693  0.0  \n",
       "997  0.0  1.0  0.3693  0.0  \n",
       "998  0.0  1.0  0.3693  0.0  \n",
       "999  0.0  1.0  0.3693  0.0  \n",
       "\n",
       "[1000 rows x 10 columns]"
      ]
     },
     "execution_count": 17,
     "metadata": {},
     "output_type": "execute_result"
    }
   ],
   "source": [
    "mmu.metrics_to_dataframe(metrics)"
   ]
  },
  {
   "cell_type": "markdown",
   "id": "b4240ce3",
   "metadata": {},
   "source": [
    "Generate multiple runs for the below functions"
   ]
  },
  {
   "cell_type": "code",
   "execution_count": 18,
   "id": "8b7c84c6",
   "metadata": {},
   "outputs": [],
   "source": [
    "score, yhat, y = mmu.generate_data(n_samples=10000, n_sets=100)"
   ]
  },
  {
   "cell_type": "markdown",
   "id": "f5ff60c2",
   "metadata": {},
   "source": [
    "### Multiple runs using a single threshold\n",
    "\n",
    "You have performed bootstrap or multiple train-test runs and want to evaluate the distribution of the metrics you can use `binary_metrics_runs`.\n",
    "\n",
    "`cm` and `metrics` are now two dimensional arrays where the rows are the confusion matrices/metrics for that a run"
   ]
  },
  {
   "cell_type": "code",
   "execution_count": 19,
   "id": "f74e5e36",
   "metadata": {},
   "outputs": [],
   "source": [
    "cm, metrics = mmu.binary_metrics_runs(\n",
    "    y=y,\n",
    "    score=score,\n",
    "    threshold=0.5,\n",
    ")"
   ]
  },
  {
   "cell_type": "code",
   "execution_count": 20,
   "id": "3e338096",
   "metadata": {},
   "outputs": [
    {
     "data": {
      "text/plain": [
       "array([[ 878, 2871, 1386, 4865],\n",
       "       [ 823, 2929, 1408, 4840],\n",
       "       [ 856, 2922, 1420, 4802],\n",
       "       [ 870, 2786, 1423, 4921],\n",
       "       [ 882, 2961, 1357, 4800]])"
      ]
     },
     "execution_count": 20,
     "metadata": {},
     "output_type": "execute_result"
    }
   ],
   "source": [
    "cm[:5, :]"
   ]
  },
  {
   "cell_type": "markdown",
   "id": "d8b17f78",
   "metadata": {},
   "source": [
    "### Multiple runs using multiple thresholds\n",
    "\n",
    "You have performed bootstrap or multiple train-test runs and, for example, want to evaluate the different precision recall curves"
   ]
  },
  {
   "cell_type": "code",
   "execution_count": 21,
   "id": "b90e1d33",
   "metadata": {},
   "outputs": [],
   "source": [
    "cm, metrics = mmu.binary_metrics_runs_thresholds(\n",
    "    y=y,\n",
    "    score=score,\n",
    "    thresholds=thresholds,\n",
    "    fill=1.0\n",
    ")"
   ]
  },
  {
   "cell_type": "markdown",
   "id": "b7c1d6aa",
   "metadata": {},
   "source": [
    "The confusion matrix and metrics are now cubes.\n",
    "\n",
    "For the confusion matrix the:\n",
    "* row -- the thresholds\n",
    "* colomns -- the confusion matrix elements\n",
    "* slices -- the runs\n",
    "\n",
    "For the metrics:\n",
    "\n",
    "* row -- thresholds\n",
    "* colomns -- the metrics\n",
    "* slices -- the runs\n",
    "\n",
    "The stride is such that the biggest stride is over the thresholds for the confusion matrix and over the metrics for the metrics.\n",
    "\n",
    "The argument being that you will want to model the confusion matrices over the runs\n",
    "and the metrics individually over the thresholds and runs"
   ]
  },
  {
   "cell_type": "code",
   "execution_count": 22,
   "id": "05912c5d",
   "metadata": {},
   "outputs": [
    {
     "name": "stdout",
     "output_type": "stream",
     "text": [
      "shape confusion matrix:  (1000, 4, 100)\n",
      "strides confusion matrix:  (3200, 8, 32)\n"
     ]
    }
   ],
   "source": [
    "print('shape confusion matrix: ', cm.shape)\n",
    "print('strides confusion matrix: ', cm.strides)"
   ]
  },
  {
   "cell_type": "code",
   "execution_count": 23,
   "id": "8bdd9df2",
   "metadata": {},
   "outputs": [
    {
     "name": "stdout",
     "output_type": "stream",
     "text": [
      "shape metrics:  (1000, 10, 100)\n",
      "strides metrics:  (800, 800000, 8)\n"
     ]
    }
   ],
   "source": [
    "print('shape metrics: ', metrics.shape)\n",
    "print('strides metrics: ', metrics.strides)"
   ]
  },
  {
   "cell_type": "code",
   "execution_count": 24,
   "id": "4194a61f",
   "metadata": {},
   "outputs": [],
   "source": [
    "pos_recalls = metrics[:, mmu.metrics.col_index['pos.rec'], :]\n",
    "pos_precisions = metrics[:, mmu.metrics.col_index['pos.prec'], :]"
   ]
  },
  {
   "cell_type": "markdown",
   "id": "150bcc31",
   "metadata": {},
   "source": [
    "### Binary metrics over confusion matrices\n",
    "\n",
    "This can be used when you have a methodology where you model and generate confusion matrices"
   ]
  },
  {
   "cell_type": "code",
   "execution_count": 25,
   "id": "49f4a20f",
   "metadata": {},
   "outputs": [],
   "source": [
    "# We use confusion_matrices to create confusion matrices based on some output\n",
    "cm = mmu.confusion_matrices(\n",
    "    y=y,\n",
    "    score=score,\n",
    "    threshold=0.5,\n",
    ")"
   ]
  },
  {
   "cell_type": "code",
   "execution_count": 26,
   "id": "c8e2e53d",
   "metadata": {},
   "outputs": [],
   "source": [
    "metrics = mmu.binary_metrics_confusion_matrices(cm, 0.0)"
   ]
  },
  {
   "cell_type": "code",
   "execution_count": 27,
   "id": "c03c77e0",
   "metadata": {},
   "outputs": [
    {
     "data": {
      "text/html": [
       "<div>\n",
       "<style scoped>\n",
       "    .dataframe tbody tr th:only-of-type {\n",
       "        vertical-align: middle;\n",
       "    }\n",
       "\n",
       "    .dataframe tbody tr th {\n",
       "        vertical-align: top;\n",
       "    }\n",
       "\n",
       "    .dataframe thead th {\n",
       "        text-align: right;\n",
       "    }\n",
       "</style>\n",
       "<table border=\"1\" class=\"dataframe\">\n",
       "  <thead>\n",
       "    <tr style=\"text-align: right;\">\n",
       "      <th></th>\n",
       "      <th>neg.precision</th>\n",
       "      <th>pos.precision</th>\n",
       "      <th>neg.recall</th>\n",
       "      <th>pos.recall</th>\n",
       "      <th>neg.f1</th>\n",
       "      <th>pos.f1</th>\n",
       "      <th>fpr</th>\n",
       "      <th>fnr</th>\n",
       "      <th>acc</th>\n",
       "      <th>mcc</th>\n",
       "    </tr>\n",
       "  </thead>\n",
       "  <tbody>\n",
       "    <tr>\n",
       "      <th>0</th>\n",
       "      <td>0.387809</td>\n",
       "      <td>0.628878</td>\n",
       "      <td>0.234196</td>\n",
       "      <td>0.778275</td>\n",
       "      <td>0.292034</td>\n",
       "      <td>0.695646</td>\n",
       "      <td>0.765804</td>\n",
       "      <td>0.221725</td>\n",
       "      <td>0.5743</td>\n",
       "      <td>0.014426</td>\n",
       "    </tr>\n",
       "    <tr>\n",
       "      <th>1</th>\n",
       "      <td>0.368893</td>\n",
       "      <td>0.622989</td>\n",
       "      <td>0.219350</td>\n",
       "      <td>0.774648</td>\n",
       "      <td>0.275113</td>\n",
       "      <td>0.690590</td>\n",
       "      <td>0.780650</td>\n",
       "      <td>0.225352</td>\n",
       "      <td>0.5663</td>\n",
       "      <td>-0.006981</td>\n",
       "    </tr>\n",
       "    <tr>\n",
       "      <th>2</th>\n",
       "      <td>0.376098</td>\n",
       "      <td>0.621699</td>\n",
       "      <td>0.226575</td>\n",
       "      <td>0.771778</td>\n",
       "      <td>0.282788</td>\n",
       "      <td>0.688656</td>\n",
       "      <td>0.773425</td>\n",
       "      <td>0.228222</td>\n",
       "      <td>0.5658</td>\n",
       "      <td>-0.001905</td>\n",
       "    </tr>\n",
       "    <tr>\n",
       "      <th>3</th>\n",
       "      <td>0.379416</td>\n",
       "      <td>0.638510</td>\n",
       "      <td>0.237965</td>\n",
       "      <td>0.775694</td>\n",
       "      <td>0.292486</td>\n",
       "      <td>0.700448</td>\n",
       "      <td>0.762035</td>\n",
       "      <td>0.224306</td>\n",
       "      <td>0.5791</td>\n",
       "      <td>0.015647</td>\n",
       "    </tr>\n",
       "    <tr>\n",
       "      <th>4</th>\n",
       "      <td>0.393926</td>\n",
       "      <td>0.618477</td>\n",
       "      <td>0.229508</td>\n",
       "      <td>0.779600</td>\n",
       "      <td>0.290036</td>\n",
       "      <td>0.689754</td>\n",
       "      <td>0.770492</td>\n",
       "      <td>0.220400</td>\n",
       "      <td>0.5682</td>\n",
       "      <td>0.010629</td>\n",
       "    </tr>\n",
       "    <tr>\n",
       "      <th>...</th>\n",
       "      <td>...</td>\n",
       "      <td>...</td>\n",
       "      <td>...</td>\n",
       "      <td>...</td>\n",
       "      <td>...</td>\n",
       "      <td>...</td>\n",
       "      <td>...</td>\n",
       "      <td>...</td>\n",
       "      <td>...</td>\n",
       "      <td>...</td>\n",
       "    </tr>\n",
       "    <tr>\n",
       "      <th>95</th>\n",
       "      <td>0.378191</td>\n",
       "      <td>0.622838</td>\n",
       "      <td>0.231585</td>\n",
       "      <td>0.769194</td>\n",
       "      <td>0.287264</td>\n",
       "      <td>0.688322</td>\n",
       "      <td>0.768415</td>\n",
       "      <td>0.230806</td>\n",
       "      <td>0.5663</td>\n",
       "      <td>0.000895</td>\n",
       "    </tr>\n",
       "    <tr>\n",
       "      <th>96</th>\n",
       "      <td>0.382051</td>\n",
       "      <td>0.618799</td>\n",
       "      <td>0.234400</td>\n",
       "      <td>0.766246</td>\n",
       "      <td>0.290543</td>\n",
       "      <td>0.684674</td>\n",
       "      <td>0.765600</td>\n",
       "      <td>0.233754</td>\n",
       "      <td>0.5634</td>\n",
       "      <td>0.000741</td>\n",
       "    </tr>\n",
       "    <tr>\n",
       "      <th>97</th>\n",
       "      <td>0.361099</td>\n",
       "      <td>0.623978</td>\n",
       "      <td>0.222222</td>\n",
       "      <td>0.766497</td>\n",
       "      <td>0.275129</td>\n",
       "      <td>0.687934</td>\n",
       "      <td>0.777778</td>\n",
       "      <td>0.233503</td>\n",
       "      <td>0.5637</td>\n",
       "      <td>-0.012975</td>\n",
       "    </tr>\n",
       "    <tr>\n",
       "      <th>98</th>\n",
       "      <td>0.374890</td>\n",
       "      <td>0.625227</td>\n",
       "      <td>0.227855</td>\n",
       "      <td>0.772233</td>\n",
       "      <td>0.283438</td>\n",
       "      <td>0.690998</td>\n",
       "      <td>0.772145</td>\n",
       "      <td>0.227767</td>\n",
       "      <td>0.5682</td>\n",
       "      <td>0.000101</td>\n",
       "    </tr>\n",
       "    <tr>\n",
       "      <th>99</th>\n",
       "      <td>0.370674</td>\n",
       "      <td>0.629036</td>\n",
       "      <td>0.219466</td>\n",
       "      <td>0.780321</td>\n",
       "      <td>0.275699</td>\n",
       "      <td>0.696559</td>\n",
       "      <td>0.780534</td>\n",
       "      <td>0.219679</td>\n",
       "      <td>0.5723</td>\n",
       "      <td>-0.000248</td>\n",
       "    </tr>\n",
       "  </tbody>\n",
       "</table>\n",
       "<p>100 rows × 10 columns</p>\n",
       "</div>"
      ],
      "text/plain": [
       "    neg.precision  pos.precision  neg.recall  pos.recall    neg.f1    pos.f1  \\\n",
       "0        0.387809       0.628878    0.234196    0.778275  0.292034  0.695646   \n",
       "1        0.368893       0.622989    0.219350    0.774648  0.275113  0.690590   \n",
       "2        0.376098       0.621699    0.226575    0.771778  0.282788  0.688656   \n",
       "3        0.379416       0.638510    0.237965    0.775694  0.292486  0.700448   \n",
       "4        0.393926       0.618477    0.229508    0.779600  0.290036  0.689754   \n",
       "..            ...            ...         ...         ...       ...       ...   \n",
       "95       0.378191       0.622838    0.231585    0.769194  0.287264  0.688322   \n",
       "96       0.382051       0.618799    0.234400    0.766246  0.290543  0.684674   \n",
       "97       0.361099       0.623978    0.222222    0.766497  0.275129  0.687934   \n",
       "98       0.374890       0.625227    0.227855    0.772233  0.283438  0.690998   \n",
       "99       0.370674       0.629036    0.219466    0.780321  0.275699  0.696559   \n",
       "\n",
       "         fpr       fnr     acc       mcc  \n",
       "0   0.765804  0.221725  0.5743  0.014426  \n",
       "1   0.780650  0.225352  0.5663 -0.006981  \n",
       "2   0.773425  0.228222  0.5658 -0.001905  \n",
       "3   0.762035  0.224306  0.5791  0.015647  \n",
       "4   0.770492  0.220400  0.5682  0.010629  \n",
       "..       ...       ...     ...       ...  \n",
       "95  0.768415  0.230806  0.5663  0.000895  \n",
       "96  0.765600  0.233754  0.5634  0.000741  \n",
       "97  0.777778  0.233503  0.5637 -0.012975  \n",
       "98  0.772145  0.227767  0.5682  0.000101  \n",
       "99  0.780534  0.219679  0.5723 -0.000248  \n",
       "\n",
       "[100 rows x 10 columns]"
      ]
     },
     "execution_count": 27,
     "metadata": {},
     "output_type": "execute_result"
    }
   ],
   "source": [
    "mmu.metrics_to_dataframe(metrics)"
   ]
  }
 ],
 "metadata": {
  "kernelspec": {
   "display_name": "Python 3 (ipykernel)",
   "language": "python",
   "name": "python3"
  },
  "language_info": {
   "codemirror_mode": {
    "name": "ipython",
    "version": 3
   },
   "file_extension": ".py",
   "mimetype": "text/x-python",
   "name": "python",
   "nbconvert_exporter": "python",
   "pygments_lexer": "ipython3",
   "version": "3.10.2"
  }
 },
 "nbformat": 4,
 "nbformat_minor": 5
}
