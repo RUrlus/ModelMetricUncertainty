{
 "cells": [
  {
   "cell_type": "markdown",
   "id": "bea5e9f1",
   "metadata": {},
   "source": [
    "# MMU Confusion matrix & Metrics walkthrough\n",
    "\n",
    "This notebook briefly demonstrates the various capabilities of the package on the computation of confusion matrix/matrices and binary classification metrics."
   ]
  },
  {
   "cell_type": "code",
   "execution_count": 1,
   "id": "5d947a01",
   "metadata": {},
   "outputs": [],
   "source": [
    "import pandas as pd\n",
    "import numpy as np\n",
    "\n",
    "import mmu"
   ]
  },
  {
   "cell_type": "markdown",
   "id": "78857916",
   "metadata": {},
   "source": [
    "### Data generation\n",
    "\n",
    "We generate predictions and true labels where:\n",
    "* `scores`: classifier scores\n",
    "* `yhat`: estimated labels\n",
    "* `y`: true labels"
   ]
  },
  {
   "cell_type": "code",
   "execution_count": 2,
   "id": "e638b781",
   "metadata": {},
   "outputs": [],
   "source": [
    "scores, yhat, y = mmu.generate_data(n_samples=10000)"
   ]
  },
  {
   "cell_type": "markdown",
   "id": "7054fe69",
   "metadata": {},
   "source": [
    "### Confusion matrix only\n",
    "\n",
    "We can compute the confusion matrix for a single run using the estimated labels or based on the probability and a classification threshold.\n",
    "\n",
    "Based on the esstimated labels `yhat`"
   ]
  },
  {
   "cell_type": "code",
   "execution_count": 3,
   "id": "fed5fca9",
   "metadata": {},
   "outputs": [
    {
     "data": {
      "text/plain": [
       "array([[1347, 2380],\n",
       "       [ 926, 5347]])"
      ]
     },
     "execution_count": 3,
     "metadata": {},
     "output_type": "execute_result"
    }
   ],
   "source": [
    "# based on yhat\n",
    "mmu.confusion_matrix(y, yhat)"
   ]
  },
  {
   "cell_type": "markdown",
   "id": "28a1aecb",
   "metadata": {},
   "source": [
    "based on classifier score with classification threshold"
   ]
  },
  {
   "cell_type": "code",
   "execution_count": 4,
   "id": "9bd3db99",
   "metadata": {},
   "outputs": [
    {
     "data": {
      "text/plain": [
       "array([[1347, 2380],\n",
       "       [ 926, 5347]])"
      ]
     },
     "execution_count": 4,
     "metadata": {},
     "output_type": "execute_result"
    }
   ],
   "source": [
    "mmu.confusion_matrix(y, scores=scores, threshold=0.5)"
   ]
  },
  {
   "cell_type": "markdown",
   "id": "f2c2df1c",
   "metadata": {},
   "source": [
    "## Precision-Recall\n",
    "\n",
    "mmu has a specialised function for the positive precision and recall"
   ]
  },
  {
   "cell_type": "code",
   "execution_count": 5,
   "id": "120c1300",
   "metadata": {},
   "outputs": [],
   "source": [
    "cm, prec_rec = mmu.precision_recall(y, scores=scores, threshold=0.5, return_df=True)"
   ]
  },
  {
   "cell_type": "markdown",
   "id": "09ae171b",
   "metadata": {},
   "source": [
    "Next to the point precision and recall there is also a function to compute the precision recall curve.\n",
    "\n",
    "`precision_recall_curve` also available under alias `pr_curve` requires you to pass the discrimination/classification thresholds.\n",
    "\n",
    "## Auto thresholds\n",
    "\n",
    "mmu provides an utility function `auto_thresholds` that returns the all the thresholds that result in a different confusion matrix.\n",
    "\n",
    "For large test sets this can be a bit much. `auto_thresholds` has an optional parameter `max_steps` that limits the number of thresholds.\n",
    "This is done by weighted sampling where the scaled inverse proximity to the next score is used as a weight. In practice this means that the extremes of the scores are oversampled. `auto_thresholds` always ensures that the lowest and highest score are included."
   ]
  },
  {
   "cell_type": "code",
   "execution_count": 6,
   "id": "5e0d0eac",
   "metadata": {},
   "outputs": [],
   "source": [
    "thresholds = mmu.auto_thresholds(scores)"
   ]
  },
  {
   "cell_type": "markdown",
   "id": "454299c7",
   "metadata": {},
   "source": [
    "## Confusion matrix and metrics\n",
    "\n",
    "The ``binary_metrics*`` functions compute ten classification metrics:\n",
    " *    0 - neg.precision aka Negative Predictive Value\n",
    " *    1 - pos.precision aka Positive Predictive Value\n",
    " *    2 - neg.recall aka True Negative Rate & Specificity\n",
    " *    3 - pos.recall aka True Positive Rate aka Sensitivity\n",
    " *    4 - neg.f1 score\n",
    " *    5 - pos.f1 score\n",
    " *    6 - False Positive Rate\n",
    " *    7 - False Negative Rate\n",
    " *    8 - Accuracy\n",
    " *    9 - MCC\n",
    "\n",
    "These metrics were chosen as they are the most commonly used metrics and most other metrics can be compute from these. We don't provide individual functions at the moment as the overhead of computing all of them vs one or two is negligable.\n",
    "\n",
    "This index can be retrieved using:"
   ]
  },
  {
   "cell_type": "code",
   "execution_count": 7,
   "id": "513f7482",
   "metadata": {},
   "outputs": [
    {
     "data": {
      "text/plain": [
       "{'neg.precision': 0,\n",
       " 'neg.prec': 0,\n",
       " 'npv': 0,\n",
       " 'pos.precision': 1,\n",
       " 'pos.prec': 1,\n",
       " 'ppv': 1,\n",
       " 'neg.recall': 2,\n",
       " 'neg.rec': 2,\n",
       " 'tnr': 2,\n",
       " 'specificity': 2,\n",
       " 'pos.recall': 3,\n",
       " 'pos.rec': 3,\n",
       " 'tpr': 3,\n",
       " 'sensitivity': 3,\n",
       " 'neg.f1': 4,\n",
       " 'neg.f1_score': 4,\n",
       " 'pos.f1': 5,\n",
       " 'pos.f1_score': 5,\n",
       " 'fpr': 6,\n",
       " 'fnr': 7,\n",
       " 'accuracy': 8,\n",
       " 'acc': 8,\n",
       " 'mcc': 9}"
      ]
     },
     "execution_count": 7,
     "metadata": {},
     "output_type": "execute_result"
    }
   ],
   "source": [
    "col_index = mmu.metrics.col_index\n",
    "col_index"
   ]
  },
  {
   "cell_type": "markdown",
   "id": "3dfd8238",
   "metadata": {},
   "source": [
    "### For a single test set"
   ]
  },
  {
   "cell_type": "code",
   "execution_count": 8,
   "id": "a726f5a2",
   "metadata": {},
   "outputs": [],
   "source": [
    "cm, metrics = mmu.binary_metrics(y, yhat)"
   ]
  },
  {
   "cell_type": "code",
   "execution_count": 9,
   "id": "c75da16c",
   "metadata": {},
   "outputs": [
    {
     "data": {
      "text/plain": [
       "array([[1347, 2380],\n",
       "       [ 926, 5347]])"
      ]
     },
     "execution_count": 9,
     "metadata": {},
     "output_type": "execute_result"
    }
   ],
   "source": [
    "# the confusion matrix\n",
    "cm"
   ]
  },
  {
   "cell_type": "code",
   "execution_count": 10,
   "id": "961e44ba",
   "metadata": {},
   "outputs": [
    {
     "data": {
      "text/plain": [
       "array([0.59260889, 0.69198913, 0.36141669, 0.85238323, 0.449     ,\n",
       "       0.76385714, 0.63858331, 0.14761677, 0.6694    , 0.24667191])"
      ]
     },
     "execution_count": 10,
     "metadata": {},
     "output_type": "execute_result"
    }
   ],
   "source": [
    "metrics"
   ]
  },
  {
   "cell_type": "markdown",
   "id": "78577630",
   "metadata": {},
   "source": [
    "We can also request dataframes back:"
   ]
  },
  {
   "cell_type": "code",
   "execution_count": 11,
   "id": "d45d2836",
   "metadata": {},
   "outputs": [],
   "source": [
    "cm, metrics = mmu.binary_metrics(y, yhat, return_df=True)"
   ]
  },
  {
   "cell_type": "code",
   "execution_count": 12,
   "id": "05d07e9f",
   "metadata": {},
   "outputs": [
    {
     "data": {
      "text/html": [
       "<div>\n",
       "<style scoped>\n",
       "    .dataframe tbody tr th:only-of-type {\n",
       "        vertical-align: middle;\n",
       "    }\n",
       "\n",
       "    .dataframe tbody tr th {\n",
       "        vertical-align: top;\n",
       "    }\n",
       "\n",
       "    .dataframe thead th {\n",
       "        text-align: right;\n",
       "    }\n",
       "</style>\n",
       "<table border=\"1\" class=\"dataframe\">\n",
       "  <thead>\n",
       "    <tr style=\"text-align: right;\">\n",
       "      <th></th>\n",
       "      <th>neg.precision</th>\n",
       "      <th>pos.precision</th>\n",
       "      <th>neg.recall</th>\n",
       "      <th>pos.recall</th>\n",
       "      <th>neg.f1</th>\n",
       "      <th>pos.f1</th>\n",
       "      <th>fpr</th>\n",
       "      <th>fnr</th>\n",
       "      <th>acc</th>\n",
       "      <th>mcc</th>\n",
       "    </tr>\n",
       "  </thead>\n",
       "  <tbody>\n",
       "    <tr>\n",
       "      <th>0</th>\n",
       "      <td>0.592609</td>\n",
       "      <td>0.691989</td>\n",
       "      <td>0.361417</td>\n",
       "      <td>0.852383</td>\n",
       "      <td>0.449</td>\n",
       "      <td>0.763857</td>\n",
       "      <td>0.638583</td>\n",
       "      <td>0.147617</td>\n",
       "      <td>0.6694</td>\n",
       "      <td>0.246672</td>\n",
       "    </tr>\n",
       "  </tbody>\n",
       "</table>\n",
       "</div>"
      ],
      "text/plain": [
       "   neg.precision  pos.precision  neg.recall  pos.recall  neg.f1    pos.f1  \\\n",
       "0       0.592609       0.691989    0.361417    0.852383   0.449  0.763857   \n",
       "\n",
       "        fpr       fnr     acc       mcc  \n",
       "0  0.638583  0.147617  0.6694  0.246672  "
      ]
     },
     "execution_count": 12,
     "metadata": {},
     "output_type": "execute_result"
    }
   ],
   "source": [
    "metrics"
   ]
  },
  {
   "cell_type": "markdown",
   "id": "ac33b6c7",
   "metadata": {},
   "source": [
    "### A single run using probabilities"
   ]
  },
  {
   "cell_type": "code",
   "execution_count": 13,
   "id": "90d7accb",
   "metadata": {},
   "outputs": [],
   "source": [
    "cm, metrics = mmu.binary_metrics(y, scores=scores, threshold=0.5, return_df=True)"
   ]
  },
  {
   "cell_type": "code",
   "execution_count": 14,
   "id": "69d997ef",
   "metadata": {},
   "outputs": [
    {
     "data": {
      "text/html": [
       "<div>\n",
       "<style scoped>\n",
       "    .dataframe tbody tr th:only-of-type {\n",
       "        vertical-align: middle;\n",
       "    }\n",
       "\n",
       "    .dataframe tbody tr th {\n",
       "        vertical-align: top;\n",
       "    }\n",
       "\n",
       "    .dataframe thead tr th {\n",
       "        text-align: left;\n",
       "    }\n",
       "</style>\n",
       "<table border=\"1\" class=\"dataframe\">\n",
       "  <thead>\n",
       "    <tr>\n",
       "      <th></th>\n",
       "      <th></th>\n",
       "      <th colspan=\"2\" halign=\"left\">estimated</th>\n",
       "    </tr>\n",
       "    <tr>\n",
       "      <th></th>\n",
       "      <th></th>\n",
       "      <th>negative</th>\n",
       "      <th>positive</th>\n",
       "    </tr>\n",
       "  </thead>\n",
       "  <tbody>\n",
       "    <tr>\n",
       "      <th rowspan=\"2\" valign=\"top\">observed</th>\n",
       "      <th>negative</th>\n",
       "      <td>1347</td>\n",
       "      <td>2380</td>\n",
       "    </tr>\n",
       "    <tr>\n",
       "      <th>positive</th>\n",
       "      <td>926</td>\n",
       "      <td>5347</td>\n",
       "    </tr>\n",
       "  </tbody>\n",
       "</table>\n",
       "</div>"
      ],
      "text/plain": [
       "                  estimated         \n",
       "                   negative positive\n",
       "observed negative      1347     2380\n",
       "         positive       926     5347"
      ]
     },
     "execution_count": 14,
     "metadata": {},
     "output_type": "execute_result"
    }
   ],
   "source": [
    "cm"
   ]
  },
  {
   "cell_type": "code",
   "execution_count": 15,
   "id": "62c3e3c9",
   "metadata": {},
   "outputs": [
    {
     "data": {
      "text/html": [
       "<div>\n",
       "<style scoped>\n",
       "    .dataframe tbody tr th:only-of-type {\n",
       "        vertical-align: middle;\n",
       "    }\n",
       "\n",
       "    .dataframe tbody tr th {\n",
       "        vertical-align: top;\n",
       "    }\n",
       "\n",
       "    .dataframe thead th {\n",
       "        text-align: right;\n",
       "    }\n",
       "</style>\n",
       "<table border=\"1\" class=\"dataframe\">\n",
       "  <thead>\n",
       "    <tr style=\"text-align: right;\">\n",
       "      <th></th>\n",
       "      <th>neg.precision</th>\n",
       "      <th>pos.precision</th>\n",
       "      <th>neg.recall</th>\n",
       "      <th>pos.recall</th>\n",
       "      <th>neg.f1</th>\n",
       "      <th>pos.f1</th>\n",
       "      <th>fpr</th>\n",
       "      <th>fnr</th>\n",
       "      <th>acc</th>\n",
       "      <th>mcc</th>\n",
       "    </tr>\n",
       "  </thead>\n",
       "  <tbody>\n",
       "    <tr>\n",
       "      <th>0</th>\n",
       "      <td>0.592609</td>\n",
       "      <td>0.691989</td>\n",
       "      <td>0.361417</td>\n",
       "      <td>0.852383</td>\n",
       "      <td>0.449</td>\n",
       "      <td>0.763857</td>\n",
       "      <td>0.638583</td>\n",
       "      <td>0.147617</td>\n",
       "      <td>0.6694</td>\n",
       "      <td>0.246672</td>\n",
       "    </tr>\n",
       "  </tbody>\n",
       "</table>\n",
       "</div>"
      ],
      "text/plain": [
       "   neg.precision  pos.precision  neg.recall  pos.recall  neg.f1    pos.f1  \\\n",
       "0       0.592609       0.691989    0.361417    0.852383   0.449  0.763857   \n",
       "\n",
       "        fpr       fnr     acc       mcc  \n",
       "0  0.638583  0.147617  0.6694  0.246672  "
      ]
     },
     "execution_count": 15,
     "metadata": {},
     "output_type": "execute_result"
    }
   ],
   "source": [
    "metrics"
   ]
  },
  {
   "cell_type": "markdown",
   "id": "3f56c45d",
   "metadata": {},
   "source": [
    "### A single run using multiple thresholds\n",
    "\n",
    "Can be used when you want to compute a precision-recall curve for example"
   ]
  },
  {
   "cell_type": "code",
   "execution_count": 16,
   "id": "748a86d4",
   "metadata": {},
   "outputs": [],
   "source": [
    "thresholds = mmu.auto_thresholds(scores)"
   ]
  },
  {
   "cell_type": "code",
   "execution_count": 17,
   "id": "97987cd5",
   "metadata": {},
   "outputs": [],
   "source": [
    "cm, metrics = mmu.binary_metrics_thresholds(\n",
    "    y=y,\n",
    "    scores=scores,\n",
    "    thresholds=thresholds,\n",
    "    return_df=True\n",
    ")"
   ]
  },
  {
   "cell_type": "markdown",
   "id": "4da83b26",
   "metadata": {},
   "source": [
    "The confusion matrix is now an 2D array where the rows contain the confusion matrix for a single threshold"
   ]
  },
  {
   "cell_type": "code",
   "execution_count": 18,
   "id": "78d3591e",
   "metadata": {},
   "outputs": [
    {
     "data": {
      "text/html": [
       "<div>\n",
       "<style scoped>\n",
       "    .dataframe tbody tr th:only-of-type {\n",
       "        vertical-align: middle;\n",
       "    }\n",
       "\n",
       "    .dataframe tbody tr th {\n",
       "        vertical-align: top;\n",
       "    }\n",
       "\n",
       "    .dataframe thead th {\n",
       "        text-align: right;\n",
       "    }\n",
       "</style>\n",
       "<table border=\"1\" class=\"dataframe\">\n",
       "  <thead>\n",
       "    <tr style=\"text-align: right;\">\n",
       "      <th></th>\n",
       "      <th>TN</th>\n",
       "      <th>FP</th>\n",
       "      <th>FN</th>\n",
       "      <th>TP</th>\n",
       "    </tr>\n",
       "  </thead>\n",
       "  <tbody>\n",
       "    <tr>\n",
       "      <th>0</th>\n",
       "      <td>0</td>\n",
       "      <td>3727</td>\n",
       "      <td>0</td>\n",
       "      <td>6273</td>\n",
       "    </tr>\n",
       "    <tr>\n",
       "      <th>1</th>\n",
       "      <td>0</td>\n",
       "      <td>3727</td>\n",
       "      <td>1</td>\n",
       "      <td>6272</td>\n",
       "    </tr>\n",
       "    <tr>\n",
       "      <th>2</th>\n",
       "      <td>1</td>\n",
       "      <td>3726</td>\n",
       "      <td>1</td>\n",
       "      <td>6272</td>\n",
       "    </tr>\n",
       "    <tr>\n",
       "      <th>3</th>\n",
       "      <td>2</td>\n",
       "      <td>3725</td>\n",
       "      <td>1</td>\n",
       "      <td>6272</td>\n",
       "    </tr>\n",
       "    <tr>\n",
       "      <th>4</th>\n",
       "      <td>3</td>\n",
       "      <td>3724</td>\n",
       "      <td>1</td>\n",
       "      <td>6272</td>\n",
       "    </tr>\n",
       "    <tr>\n",
       "      <th>...</th>\n",
       "      <td>...</td>\n",
       "      <td>...</td>\n",
       "      <td>...</td>\n",
       "      <td>...</td>\n",
       "    </tr>\n",
       "    <tr>\n",
       "      <th>9995</th>\n",
       "      <td>3727</td>\n",
       "      <td>0</td>\n",
       "      <td>6268</td>\n",
       "      <td>5</td>\n",
       "    </tr>\n",
       "    <tr>\n",
       "      <th>9996</th>\n",
       "      <td>3727</td>\n",
       "      <td>0</td>\n",
       "      <td>6269</td>\n",
       "      <td>4</td>\n",
       "    </tr>\n",
       "    <tr>\n",
       "      <th>9997</th>\n",
       "      <td>3727</td>\n",
       "      <td>0</td>\n",
       "      <td>6270</td>\n",
       "      <td>3</td>\n",
       "    </tr>\n",
       "    <tr>\n",
       "      <th>9998</th>\n",
       "      <td>3727</td>\n",
       "      <td>0</td>\n",
       "      <td>6271</td>\n",
       "      <td>2</td>\n",
       "    </tr>\n",
       "    <tr>\n",
       "      <th>9999</th>\n",
       "      <td>3727</td>\n",
       "      <td>0</td>\n",
       "      <td>6272</td>\n",
       "      <td>1</td>\n",
       "    </tr>\n",
       "  </tbody>\n",
       "</table>\n",
       "<p>10000 rows × 4 columns</p>\n",
       "</div>"
      ],
      "text/plain": [
       "        TN    FP    FN    TP\n",
       "0        0  3727     0  6273\n",
       "1        0  3727     1  6272\n",
       "2        1  3726     1  6272\n",
       "3        2  3725     1  6272\n",
       "4        3  3724     1  6272\n",
       "...    ...   ...   ...   ...\n",
       "9995  3727     0  6268     5\n",
       "9996  3727     0  6269     4\n",
       "9997  3727     0  6270     3\n",
       "9998  3727     0  6271     2\n",
       "9999  3727     0  6272     1\n",
       "\n",
       "[10000 rows x 4 columns]"
      ]
     },
     "execution_count": 18,
     "metadata": {},
     "output_type": "execute_result"
    }
   ],
   "source": [
    "cm"
   ]
  },
  {
   "cell_type": "markdown",
   "id": "18804309",
   "metadata": {},
   "source": [
    "Similarly, `metrics` is now an 2D array where the rows contain the metrics for a single threshold"
   ]
  },
  {
   "cell_type": "code",
   "execution_count": 19,
   "id": "0e49d03a",
   "metadata": {},
   "outputs": [
    {
     "data": {
      "text/html": [
       "<div>\n",
       "<style scoped>\n",
       "    .dataframe tbody tr th:only-of-type {\n",
       "        vertical-align: middle;\n",
       "    }\n",
       "\n",
       "    .dataframe tbody tr th {\n",
       "        vertical-align: top;\n",
       "    }\n",
       "\n",
       "    .dataframe thead th {\n",
       "        text-align: right;\n",
       "    }\n",
       "</style>\n",
       "<table border=\"1\" class=\"dataframe\">\n",
       "  <thead>\n",
       "    <tr style=\"text-align: right;\">\n",
       "      <th></th>\n",
       "      <th>neg.precision</th>\n",
       "      <th>pos.precision</th>\n",
       "      <th>neg.recall</th>\n",
       "      <th>pos.recall</th>\n",
       "      <th>neg.f1</th>\n",
       "      <th>pos.f1</th>\n",
       "      <th>fpr</th>\n",
       "      <th>fnr</th>\n",
       "      <th>acc</th>\n",
       "      <th>mcc</th>\n",
       "    </tr>\n",
       "  </thead>\n",
       "  <tbody>\n",
       "    <tr>\n",
       "      <th>0</th>\n",
       "      <td>0.000000</td>\n",
       "      <td>0.627300</td>\n",
       "      <td>0.000000</td>\n",
       "      <td>1.000000</td>\n",
       "      <td>0.000000</td>\n",
       "      <td>0.770970</td>\n",
       "      <td>1.000000</td>\n",
       "      <td>0.000000</td>\n",
       "      <td>0.6273</td>\n",
       "      <td>0.000000</td>\n",
       "    </tr>\n",
       "    <tr>\n",
       "      <th>1</th>\n",
       "      <td>0.000000</td>\n",
       "      <td>0.627263</td>\n",
       "      <td>0.000000</td>\n",
       "      <td>0.999841</td>\n",
       "      <td>0.000000</td>\n",
       "      <td>0.770895</td>\n",
       "      <td>1.000000</td>\n",
       "      <td>0.000159</td>\n",
       "      <td>0.6272</td>\n",
       "      <td>-0.007708</td>\n",
       "    </tr>\n",
       "    <tr>\n",
       "      <th>2</th>\n",
       "      <td>0.500000</td>\n",
       "      <td>0.627325</td>\n",
       "      <td>0.000268</td>\n",
       "      <td>0.999841</td>\n",
       "      <td>0.000536</td>\n",
       "      <td>0.770942</td>\n",
       "      <td>0.999732</td>\n",
       "      <td>0.000159</td>\n",
       "      <td>0.6273</td>\n",
       "      <td>0.003724</td>\n",
       "    </tr>\n",
       "    <tr>\n",
       "      <th>3</th>\n",
       "      <td>0.666667</td>\n",
       "      <td>0.627388</td>\n",
       "      <td>0.000537</td>\n",
       "      <td>0.999841</td>\n",
       "      <td>0.001072</td>\n",
       "      <td>0.770990</td>\n",
       "      <td>0.999463</td>\n",
       "      <td>0.000159</td>\n",
       "      <td>0.6274</td>\n",
       "      <td>0.010532</td>\n",
       "    </tr>\n",
       "    <tr>\n",
       "      <th>4</th>\n",
       "      <td>0.750000</td>\n",
       "      <td>0.627451</td>\n",
       "      <td>0.000805</td>\n",
       "      <td>0.999841</td>\n",
       "      <td>0.001608</td>\n",
       "      <td>0.771037</td>\n",
       "      <td>0.999195</td>\n",
       "      <td>0.000159</td>\n",
       "      <td>0.6275</td>\n",
       "      <td>0.015609</td>\n",
       "    </tr>\n",
       "    <tr>\n",
       "      <th>...</th>\n",
       "      <td>...</td>\n",
       "      <td>...</td>\n",
       "      <td>...</td>\n",
       "      <td>...</td>\n",
       "      <td>...</td>\n",
       "      <td>...</td>\n",
       "      <td>...</td>\n",
       "      <td>...</td>\n",
       "      <td>...</td>\n",
       "      <td>...</td>\n",
       "    </tr>\n",
       "    <tr>\n",
       "      <th>9995</th>\n",
       "      <td>0.372886</td>\n",
       "      <td>1.000000</td>\n",
       "      <td>1.000000</td>\n",
       "      <td>0.000797</td>\n",
       "      <td>0.543215</td>\n",
       "      <td>0.001593</td>\n",
       "      <td>0.000000</td>\n",
       "      <td>0.999203</td>\n",
       "      <td>0.3732</td>\n",
       "      <td>0.017240</td>\n",
       "    </tr>\n",
       "    <tr>\n",
       "      <th>9996</th>\n",
       "      <td>0.372849</td>\n",
       "      <td>1.000000</td>\n",
       "      <td>1.000000</td>\n",
       "      <td>0.000638</td>\n",
       "      <td>0.543176</td>\n",
       "      <td>0.001274</td>\n",
       "      <td>0.000000</td>\n",
       "      <td>0.999362</td>\n",
       "      <td>0.3731</td>\n",
       "      <td>0.015419</td>\n",
       "    </tr>\n",
       "    <tr>\n",
       "      <th>9997</th>\n",
       "      <td>0.372812</td>\n",
       "      <td>1.000000</td>\n",
       "      <td>1.000000</td>\n",
       "      <td>0.000478</td>\n",
       "      <td>0.543136</td>\n",
       "      <td>0.000956</td>\n",
       "      <td>0.000000</td>\n",
       "      <td>0.999522</td>\n",
       "      <td>0.3730</td>\n",
       "      <td>0.013353</td>\n",
       "    </tr>\n",
       "    <tr>\n",
       "      <th>9998</th>\n",
       "      <td>0.372775</td>\n",
       "      <td>1.000000</td>\n",
       "      <td>1.000000</td>\n",
       "      <td>0.000319</td>\n",
       "      <td>0.543097</td>\n",
       "      <td>0.000637</td>\n",
       "      <td>0.000000</td>\n",
       "      <td>0.999681</td>\n",
       "      <td>0.3729</td>\n",
       "      <td>0.010902</td>\n",
       "    </tr>\n",
       "    <tr>\n",
       "      <th>9999</th>\n",
       "      <td>0.372737</td>\n",
       "      <td>1.000000</td>\n",
       "      <td>1.000000</td>\n",
       "      <td>0.000159</td>\n",
       "      <td>0.543057</td>\n",
       "      <td>0.000319</td>\n",
       "      <td>0.000000</td>\n",
       "      <td>0.999841</td>\n",
       "      <td>0.3728</td>\n",
       "      <td>0.007708</td>\n",
       "    </tr>\n",
       "  </tbody>\n",
       "</table>\n",
       "<p>10000 rows × 10 columns</p>\n",
       "</div>"
      ],
      "text/plain": [
       "      neg.precision  pos.precision  neg.recall  pos.recall    neg.f1  \\\n",
       "0          0.000000       0.627300    0.000000    1.000000  0.000000   \n",
       "1          0.000000       0.627263    0.000000    0.999841  0.000000   \n",
       "2          0.500000       0.627325    0.000268    0.999841  0.000536   \n",
       "3          0.666667       0.627388    0.000537    0.999841  0.001072   \n",
       "4          0.750000       0.627451    0.000805    0.999841  0.001608   \n",
       "...             ...            ...         ...         ...       ...   \n",
       "9995       0.372886       1.000000    1.000000    0.000797  0.543215   \n",
       "9996       0.372849       1.000000    1.000000    0.000638  0.543176   \n",
       "9997       0.372812       1.000000    1.000000    0.000478  0.543136   \n",
       "9998       0.372775       1.000000    1.000000    0.000319  0.543097   \n",
       "9999       0.372737       1.000000    1.000000    0.000159  0.543057   \n",
       "\n",
       "        pos.f1       fpr       fnr     acc       mcc  \n",
       "0     0.770970  1.000000  0.000000  0.6273  0.000000  \n",
       "1     0.770895  1.000000  0.000159  0.6272 -0.007708  \n",
       "2     0.770942  0.999732  0.000159  0.6273  0.003724  \n",
       "3     0.770990  0.999463  0.000159  0.6274  0.010532  \n",
       "4     0.771037  0.999195  0.000159  0.6275  0.015609  \n",
       "...        ...       ...       ...     ...       ...  \n",
       "9995  0.001593  0.000000  0.999203  0.3732  0.017240  \n",
       "9996  0.001274  0.000000  0.999362  0.3731  0.015419  \n",
       "9997  0.000956  0.000000  0.999522  0.3730  0.013353  \n",
       "9998  0.000637  0.000000  0.999681  0.3729  0.010902  \n",
       "9999  0.000319  0.000000  0.999841  0.3728  0.007708  \n",
       "\n",
       "[10000 rows x 10 columns]"
      ]
     },
     "execution_count": 19,
     "metadata": {},
     "output_type": "execute_result"
    }
   ],
   "source": [
    "metrics"
   ]
  },
  {
   "cell_type": "markdown",
   "id": "b4240ce3",
   "metadata": {},
   "source": [
    "Generate multiple runs for the below functions"
   ]
  },
  {
   "cell_type": "code",
   "execution_count": 20,
   "id": "8b7c84c6",
   "metadata": {},
   "outputs": [],
   "source": [
    "scores, yhat, y = mmu.generate_data(n_samples=10000, n_sets=100)"
   ]
  },
  {
   "cell_type": "markdown",
   "id": "f5ff60c2",
   "metadata": {},
   "source": [
    "### Multiple runs using a single threshold\n",
    "\n",
    "You have performed bootstrap or multiple train-test runs and want to evaluate the distribution of the metrics you can use `binary_metrics_runs`.\n",
    "\n",
    "`cm` and `metrics` are now two dimensional arrays where the rows are the confusion matrices/metrics for that a run"
   ]
  },
  {
   "cell_type": "code",
   "execution_count": 21,
   "id": "f74e5e36",
   "metadata": {},
   "outputs": [],
   "source": [
    "cm, metrics = mmu.binary_metrics_runs(\n",
    "    y=y,\n",
    "    scores=scores,\n",
    "    threshold=0.5,\n",
    ")"
   ]
  },
  {
   "cell_type": "code",
   "execution_count": 22,
   "id": "3e338096",
   "metadata": {},
   "outputs": [
    {
     "data": {
      "text/plain": [
       "array([[1432, 2400,  906, 5262],\n",
       "       [1428, 2379,  914, 5279],\n",
       "       [1387, 2368,  890, 5355],\n",
       "       [1362, 2405,  876, 5357],\n",
       "       [1352, 2370,  906, 5372]])"
      ]
     },
     "execution_count": 22,
     "metadata": {},
     "output_type": "execute_result"
    }
   ],
   "source": [
    "cm[:5, :]"
   ]
  },
  {
   "cell_type": "markdown",
   "id": "d8b17f78",
   "metadata": {},
   "source": [
    "### Multiple runs using multiple thresholds\n",
    "\n",
    "You have performed bootstrap or multiple train-test runs and, for example, want to evaluate the different precision recall curves"
   ]
  },
  {
   "cell_type": "code",
   "execution_count": 23,
   "id": "b90e1d33",
   "metadata": {},
   "outputs": [],
   "source": [
    "cm, metrics = mmu.binary_metrics_runs_thresholds(\n",
    "    y=y,\n",
    "    scores=scores,\n",
    "    thresholds=thresholds,\n",
    "    fill=1.0\n",
    ")"
   ]
  },
  {
   "cell_type": "markdown",
   "id": "b7c1d6aa",
   "metadata": {},
   "source": [
    "The confusion matrix and metrics are now cubes.\n",
    "\n",
    "For the confusion matrix the:\n",
    "* row -- the thresholds\n",
    "* colomns -- the confusion matrix elements\n",
    "* slices -- the runs\n",
    "\n",
    "For the metrics:\n",
    "\n",
    "* row -- thresholds\n",
    "* colomns -- the metrics\n",
    "* slices -- the runs\n",
    "\n",
    "The stride is such that the biggest stride is over the thresholds for the confusion matrix and over the metrics for the metrics.\n",
    "\n",
    "The argument being that you will want to model the confusion matrices over the runs\n",
    "and the metrics individually over the thresholds and runs"
   ]
  },
  {
   "cell_type": "code",
   "execution_count": 24,
   "id": "05912c5d",
   "metadata": {},
   "outputs": [
    {
     "name": "stdout",
     "output_type": "stream",
     "text": [
      "shape confusion matrix:  (10000, 4, 100)\n",
      "strides confusion matrix:  (3200, 8, 32)\n"
     ]
    }
   ],
   "source": [
    "print('shape confusion matrix: ', cm.shape)\n",
    "print('strides confusion matrix: ', cm.strides)"
   ]
  },
  {
   "cell_type": "code",
   "execution_count": 25,
   "id": "8bdd9df2",
   "metadata": {},
   "outputs": [
    {
     "name": "stdout",
     "output_type": "stream",
     "text": [
      "shape metrics:  (10000, 10, 100)\n",
      "strides metrics:  (800, 8000000, 8)\n"
     ]
    }
   ],
   "source": [
    "print('shape metrics: ', metrics.shape)\n",
    "print('strides metrics: ', metrics.strides)"
   ]
  },
  {
   "cell_type": "code",
   "execution_count": 26,
   "id": "4194a61f",
   "metadata": {},
   "outputs": [],
   "source": [
    "pos_recalls = metrics[:, mmu.metrics.col_index['pos.rec'], :]\n",
    "pos_precisions = metrics[:, mmu.metrics.col_index['pos.prec'], :]"
   ]
  },
  {
   "cell_type": "markdown",
   "id": "150bcc31",
   "metadata": {},
   "source": [
    "### Binary metrics over confusion matrices\n",
    "\n",
    "This can be used when you have a methodology where you model and generate confusion matrices"
   ]
  },
  {
   "cell_type": "code",
   "execution_count": 27,
   "id": "49f4a20f",
   "metadata": {},
   "outputs": [],
   "source": [
    "# We use confusion_matrices to create confusion matrices based on some output\n",
    "cm = mmu.confusion_matrices(\n",
    "    y=y,\n",
    "    scores=scores,\n",
    "    threshold=0.5,\n",
    ")"
   ]
  },
  {
   "cell_type": "code",
   "execution_count": 28,
   "id": "c8e2e53d",
   "metadata": {},
   "outputs": [],
   "source": [
    "metrics = mmu.binary_metrics_confusion_matrices(cm, 0.0)"
   ]
  },
  {
   "cell_type": "code",
   "execution_count": 29,
   "id": "c03c77e0",
   "metadata": {},
   "outputs": [
    {
     "data": {
      "text/html": [
       "<div>\n",
       "<style scoped>\n",
       "    .dataframe tbody tr th:only-of-type {\n",
       "        vertical-align: middle;\n",
       "    }\n",
       "\n",
       "    .dataframe tbody tr th {\n",
       "        vertical-align: top;\n",
       "    }\n",
       "\n",
       "    .dataframe thead th {\n",
       "        text-align: right;\n",
       "    }\n",
       "</style>\n",
       "<table border=\"1\" class=\"dataframe\">\n",
       "  <thead>\n",
       "    <tr style=\"text-align: right;\">\n",
       "      <th></th>\n",
       "      <th>neg.precision</th>\n",
       "      <th>pos.precision</th>\n",
       "      <th>neg.recall</th>\n",
       "      <th>pos.recall</th>\n",
       "      <th>neg.f1</th>\n",
       "      <th>pos.f1</th>\n",
       "      <th>fpr</th>\n",
       "      <th>fnr</th>\n",
       "      <th>acc</th>\n",
       "      <th>mcc</th>\n",
       "    </tr>\n",
       "  </thead>\n",
       "  <tbody>\n",
       "    <tr>\n",
       "      <th>0</th>\n",
       "      <td>0.612489</td>\n",
       "      <td>0.686766</td>\n",
       "      <td>0.373695</td>\n",
       "      <td>0.853113</td>\n",
       "      <td>0.464182</td>\n",
       "      <td>0.760954</td>\n",
       "      <td>0.626305</td>\n",
       "      <td>0.146887</td>\n",
       "      <td>0.6694</td>\n",
       "      <td>0.260525</td>\n",
       "    </tr>\n",
       "    <tr>\n",
       "      <th>1</th>\n",
       "      <td>0.609735</td>\n",
       "      <td>0.689344</td>\n",
       "      <td>0.375099</td>\n",
       "      <td>0.852414</td>\n",
       "      <td>0.464466</td>\n",
       "      <td>0.762255</td>\n",
       "      <td>0.624901</td>\n",
       "      <td>0.147586</td>\n",
       "      <td>0.6707</td>\n",
       "      <td>0.260853</td>\n",
       "    </tr>\n",
       "    <tr>\n",
       "      <th>2</th>\n",
       "      <td>0.609135</td>\n",
       "      <td>0.693383</td>\n",
       "      <td>0.369374</td>\n",
       "      <td>0.857486</td>\n",
       "      <td>0.459881</td>\n",
       "      <td>0.766753</td>\n",
       "      <td>0.630626</td>\n",
       "      <td>0.142514</td>\n",
       "      <td>0.6742</td>\n",
       "      <td>0.261972</td>\n",
       "    </tr>\n",
       "    <tr>\n",
       "      <th>3</th>\n",
       "      <td>0.608579</td>\n",
       "      <td>0.690157</td>\n",
       "      <td>0.361561</td>\n",
       "      <td>0.859458</td>\n",
       "      <td>0.453622</td>\n",
       "      <td>0.765559</td>\n",
       "      <td>0.638439</td>\n",
       "      <td>0.140542</td>\n",
       "      <td>0.6719</td>\n",
       "      <td>0.256956</td>\n",
       "    </tr>\n",
       "    <tr>\n",
       "      <th>4</th>\n",
       "      <td>0.598760</td>\n",
       "      <td>0.693878</td>\n",
       "      <td>0.363246</td>\n",
       "      <td>0.855687</td>\n",
       "      <td>0.452174</td>\n",
       "      <td>0.766334</td>\n",
       "      <td>0.636754</td>\n",
       "      <td>0.144313</td>\n",
       "      <td>0.6724</td>\n",
       "      <td>0.253116</td>\n",
       "    </tr>\n",
       "    <tr>\n",
       "      <th>...</th>\n",
       "      <td>...</td>\n",
       "      <td>...</td>\n",
       "      <td>...</td>\n",
       "      <td>...</td>\n",
       "      <td>...</td>\n",
       "      <td>...</td>\n",
       "      <td>...</td>\n",
       "      <td>...</td>\n",
       "      <td>...</td>\n",
       "      <td>...</td>\n",
       "    </tr>\n",
       "    <tr>\n",
       "      <th>95</th>\n",
       "      <td>0.594898</td>\n",
       "      <td>0.684662</td>\n",
       "      <td>0.362105</td>\n",
       "      <td>0.848871</td>\n",
       "      <td>0.450188</td>\n",
       "      <td>0.757975</td>\n",
       "      <td>0.637895</td>\n",
       "      <td>0.151129</td>\n",
       "      <td>0.6639</td>\n",
       "      <td>0.242859</td>\n",
       "    </tr>\n",
       "    <tr>\n",
       "      <th>96</th>\n",
       "      <td>0.603006</td>\n",
       "      <td>0.698889</td>\n",
       "      <td>0.369247</td>\n",
       "      <td>0.857596</td>\n",
       "      <td>0.458026</td>\n",
       "      <td>0.770151</td>\n",
       "      <td>0.630753</td>\n",
       "      <td>0.142404</td>\n",
       "      <td>0.6772</td>\n",
       "      <td>0.261692</td>\n",
       "    </tr>\n",
       "    <tr>\n",
       "      <th>97</th>\n",
       "      <td>0.610512</td>\n",
       "      <td>0.687548</td>\n",
       "      <td>0.358765</td>\n",
       "      <td>0.860431</td>\n",
       "      <td>0.451945</td>\n",
       "      <td>0.764336</td>\n",
       "      <td>0.641235</td>\n",
       "      <td>0.139569</td>\n",
       "      <td>0.6704</td>\n",
       "      <td>0.255604</td>\n",
       "    </tr>\n",
       "    <tr>\n",
       "      <th>98</th>\n",
       "      <td>0.588184</td>\n",
       "      <td>0.690992</td>\n",
       "      <td>0.360515</td>\n",
       "      <td>0.849968</td>\n",
       "      <td>0.447031</td>\n",
       "      <td>0.762279</td>\n",
       "      <td>0.639485</td>\n",
       "      <td>0.150032</td>\n",
       "      <td>0.6675</td>\n",
       "      <td>0.242408</td>\n",
       "    </tr>\n",
       "    <tr>\n",
       "      <th>99</th>\n",
       "      <td>0.599203</td>\n",
       "      <td>0.691294</td>\n",
       "      <td>0.361475</td>\n",
       "      <td>0.855362</td>\n",
       "      <td>0.450925</td>\n",
       "      <td>0.764626</td>\n",
       "      <td>0.638525</td>\n",
       "      <td>0.144638</td>\n",
       "      <td>0.6705</td>\n",
       "      <td>0.250979</td>\n",
       "    </tr>\n",
       "  </tbody>\n",
       "</table>\n",
       "<p>100 rows × 10 columns</p>\n",
       "</div>"
      ],
      "text/plain": [
       "    neg.precision  pos.precision  neg.recall  pos.recall    neg.f1    pos.f1  \\\n",
       "0        0.612489       0.686766    0.373695    0.853113  0.464182  0.760954   \n",
       "1        0.609735       0.689344    0.375099    0.852414  0.464466  0.762255   \n",
       "2        0.609135       0.693383    0.369374    0.857486  0.459881  0.766753   \n",
       "3        0.608579       0.690157    0.361561    0.859458  0.453622  0.765559   \n",
       "4        0.598760       0.693878    0.363246    0.855687  0.452174  0.766334   \n",
       "..            ...            ...         ...         ...       ...       ...   \n",
       "95       0.594898       0.684662    0.362105    0.848871  0.450188  0.757975   \n",
       "96       0.603006       0.698889    0.369247    0.857596  0.458026  0.770151   \n",
       "97       0.610512       0.687548    0.358765    0.860431  0.451945  0.764336   \n",
       "98       0.588184       0.690992    0.360515    0.849968  0.447031  0.762279   \n",
       "99       0.599203       0.691294    0.361475    0.855362  0.450925  0.764626   \n",
       "\n",
       "         fpr       fnr     acc       mcc  \n",
       "0   0.626305  0.146887  0.6694  0.260525  \n",
       "1   0.624901  0.147586  0.6707  0.260853  \n",
       "2   0.630626  0.142514  0.6742  0.261972  \n",
       "3   0.638439  0.140542  0.6719  0.256956  \n",
       "4   0.636754  0.144313  0.6724  0.253116  \n",
       "..       ...       ...     ...       ...  \n",
       "95  0.637895  0.151129  0.6639  0.242859  \n",
       "96  0.630753  0.142404  0.6772  0.261692  \n",
       "97  0.641235  0.139569  0.6704  0.255604  \n",
       "98  0.639485  0.150032  0.6675  0.242408  \n",
       "99  0.638525  0.144638  0.6705  0.250979  \n",
       "\n",
       "[100 rows x 10 columns]"
      ]
     },
     "execution_count": 29,
     "metadata": {},
     "output_type": "execute_result"
    }
   ],
   "source": [
    "mmu.metrics_to_dataframe(metrics)"
   ]
  }
 ],
 "metadata": {
  "kernelspec": {
   "display_name": "Python 3 (ipykernel)",
   "language": "python",
   "name": "python3"
  },
  "language_info": {
   "codemirror_mode": {
    "name": "ipython",
    "version": 3
   },
   "file_extension": ".py",
   "mimetype": "text/x-python",
   "name": "python",
   "nbconvert_exporter": "python",
   "pygments_lexer": "ipython3",
   "version": "3.10.2"
  }
 },
 "nbformat": 4,
 "nbformat_minor": 5
}
