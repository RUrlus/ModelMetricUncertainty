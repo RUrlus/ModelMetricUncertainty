{
 "cells": [
  {
   "cell_type": "markdown",
   "id": "bea5e9f1",
   "metadata": {},
   "source": [
    "# MMU metrics walkthrough\n",
    "\n",
    "This notebook briefly demonstrates the various capabilities of the package on the computation of confusion matrix/matrices and binary classification metrics."
   ]
  },
  {
   "cell_type": "code",
   "execution_count": 1,
   "id": "5d947a01",
   "metadata": {},
   "outputs": [],
   "source": [
    "import pandas as pd\n",
    "import numpy as np\n",
    "\n",
    "import mmu"
   ]
  },
  {
   "cell_type": "markdown",
   "id": "78857916",
   "metadata": {},
   "source": [
    "### Data generation\n",
    "\n",
    "We generate predictions and true labels where:\n",
    "* `proba`: estimated probabilities\n",
    "* `yhat`: estimated labels\n",
    "* `y`: true labels"
   ]
  },
  {
   "cell_type": "code",
   "execution_count": 2,
   "id": "e638b781",
   "metadata": {},
   "outputs": [],
   "source": [
    "proba, yhat, y = mmu.generate_data(n_samples=10000)"
   ]
  },
  {
   "cell_type": "markdown",
   "id": "7054fe69",
   "metadata": {},
   "source": [
    "### Confusion matrix only\n",
    "\n",
    "We can compute the confusion matrix for a single run using the estimated labels or based on the probability and a classification threshold.\n",
    "\n",
    "Based on the esstimated labels `yhat`"
   ]
  },
  {
   "cell_type": "code",
   "execution_count": 3,
   "id": "fed5fca9",
   "metadata": {},
   "outputs": [
    {
     "data": {
      "text/plain": [
       "array([[ 843, 2865],\n",
       "       [1414, 4878]])"
      ]
     },
     "execution_count": 3,
     "metadata": {},
     "output_type": "execute_result"
    }
   ],
   "source": [
    "# based on yhat\n",
    "mmu.confusion_matrix(y, yhat)"
   ]
  },
  {
   "cell_type": "markdown",
   "id": "28a1aecb",
   "metadata": {},
   "source": [
    "based on proba with classification threshold"
   ]
  },
  {
   "cell_type": "code",
   "execution_count": 4,
   "id": "9bd3db99",
   "metadata": {},
   "outputs": [
    {
     "data": {
      "text/plain": [
       "array([[ 843, 2865],\n",
       "       [1414, 4878]])"
      ]
     },
     "execution_count": 4,
     "metadata": {},
     "output_type": "execute_result"
    }
   ],
   "source": [
    "mmu.confusion_matrix_proba(y, proba, threshold=0.5)"
   ]
  },
  {
   "cell_type": "markdown",
   "id": "454299c7",
   "metadata": {},
   "source": [
    "## Confusion matrix and metrics\n",
    "\n",
    "The ``binary_metrics*`` functions compute ten classification metrics:\n",
    " *    0 - neg.precision aka Negative Predictive Value\n",
    " *    1 - pos.precision aka Positive Predictive Value\n",
    " *    2 - neg.recall aka True Negative Rate & Specificity\n",
    " *    3 - pos.recall aka True Positive Rate aka Sensitivity\n",
    " *    4 - neg.f1 score\n",
    " *    5 - pos.f1 score\n",
    " *    6 - False Positive Rate\n",
    " *    7 - False Negative Rate\n",
    " *    8 - Accuracy\n",
    " *    9 - MCC\n",
    "\n",
    "These metrics were chosen as they are the most commonly used metrics and most other metrics can be compute from these. We don't provide individual functions at the moment as the overhead of computing all of them vs one or two is negligable.\n",
    "\n",
    "This index can be retrieved using:"
   ]
  },
  {
   "cell_type": "code",
   "execution_count": 5,
   "id": "513f7482",
   "metadata": {},
   "outputs": [
    {
     "data": {
      "text/plain": [
       "{'neg.precision': 0,\n",
       " 'neg.prec': 0,\n",
       " 'npv': 0,\n",
       " 'pos.precision': 1,\n",
       " 'pos.prec': 1,\n",
       " 'ppv': 1,\n",
       " 'neg.recall': 2,\n",
       " 'neg.rec': 2,\n",
       " 'tnr': 2,\n",
       " 'specificity': 2,\n",
       " 'pos.recall': 3,\n",
       " 'pos.rec': 3,\n",
       " 'tpr': 3,\n",
       " 'sensitivity': 3,\n",
       " 'neg.f1': 4,\n",
       " 'neg.f1_score': 4,\n",
       " 'pos.f1': 5,\n",
       " 'pos.f1_score': 5,\n",
       " 'fpr': 6,\n",
       " 'fnr': 7,\n",
       " 'accuracy': 8,\n",
       " 'acc': 8,\n",
       " 'mcc': 9}"
      ]
     },
     "execution_count": 5,
     "metadata": {},
     "output_type": "execute_result"
    }
   ],
   "source": [
    "col_index = mmu.metrics.col_index\n",
    "col_index"
   ]
  },
  {
   "cell_type": "markdown",
   "id": "3dfd8238",
   "metadata": {},
   "source": [
    "### For a single test set"
   ]
  },
  {
   "cell_type": "code",
   "execution_count": 6,
   "id": "a726f5a2",
   "metadata": {},
   "outputs": [],
   "source": [
    "cm, metrics = mmu.binary_metrics(y, yhat)"
   ]
  },
  {
   "cell_type": "code",
   "execution_count": 7,
   "id": "c75da16c",
   "metadata": {},
   "outputs": [
    {
     "data": {
      "text/plain": [
       "array([[ 843, 2865],\n",
       "       [1414, 4878]])"
      ]
     },
     "execution_count": 7,
     "metadata": {},
     "output_type": "execute_result"
    }
   ],
   "source": [
    "# the confusion matrix\n",
    "cm"
   ]
  },
  {
   "cell_type": "markdown",
   "id": "78577630",
   "metadata": {},
   "source": [
    "We can create a dataframe from the confusion matrix using:"
   ]
  },
  {
   "cell_type": "code",
   "execution_count": 8,
   "id": "3586a08a",
   "metadata": {},
   "outputs": [
    {
     "data": {
      "text/html": [
       "<div>\n",
       "<style scoped>\n",
       "    .dataframe tbody tr th:only-of-type {\n",
       "        vertical-align: middle;\n",
       "    }\n",
       "\n",
       "    .dataframe tbody tr th {\n",
       "        vertical-align: top;\n",
       "    }\n",
       "\n",
       "    .dataframe thead tr th {\n",
       "        text-align: left;\n",
       "    }\n",
       "</style>\n",
       "<table border=\"1\" class=\"dataframe\">\n",
       "  <thead>\n",
       "    <tr>\n",
       "      <th></th>\n",
       "      <th></th>\n",
       "      <th colspan=\"2\" halign=\"left\">estimated</th>\n",
       "    </tr>\n",
       "    <tr>\n",
       "      <th></th>\n",
       "      <th></th>\n",
       "      <th>negative</th>\n",
       "      <th>positive</th>\n",
       "    </tr>\n",
       "  </thead>\n",
       "  <tbody>\n",
       "    <tr>\n",
       "      <th rowspan=\"2\" valign=\"top\">observed</th>\n",
       "      <th>negative</th>\n",
       "      <td>843</td>\n",
       "      <td>2865</td>\n",
       "    </tr>\n",
       "    <tr>\n",
       "      <th>positive</th>\n",
       "      <td>1414</td>\n",
       "      <td>4878</td>\n",
       "    </tr>\n",
       "  </tbody>\n",
       "</table>\n",
       "</div>"
      ],
      "text/plain": [
       "                  estimated         \n",
       "                   negative positive\n",
       "observed negative       843     2865\n",
       "         positive      1414     4878"
      ]
     },
     "execution_count": 8,
     "metadata": {},
     "output_type": "execute_result"
    }
   ],
   "source": [
    "mmu.confusion_matrix_to_dataframe(cm)"
   ]
  },
  {
   "cell_type": "code",
   "execution_count": 9,
   "id": "1e7917d6",
   "metadata": {},
   "outputs": [
    {
     "data": {
      "text/plain": [
       "array([0.37350465, 0.62998838, 0.22734628, 0.77527018, 0.28264878,\n",
       "       0.69511934, 0.77265372, 0.22472982, 0.5721    , 0.00302314])"
      ]
     },
     "execution_count": 9,
     "metadata": {},
     "output_type": "execute_result"
    }
   ],
   "source": [
    "metrics"
   ]
  },
  {
   "cell_type": "markdown",
   "id": "c43dd390",
   "metadata": {},
   "source": [
    "We can create a dataframe from the metrics using:"
   ]
  },
  {
   "cell_type": "code",
   "execution_count": 10,
   "id": "79dfc709",
   "metadata": {},
   "outputs": [
    {
     "data": {
      "text/html": [
       "<div>\n",
       "<style scoped>\n",
       "    .dataframe tbody tr th:only-of-type {\n",
       "        vertical-align: middle;\n",
       "    }\n",
       "\n",
       "    .dataframe tbody tr th {\n",
       "        vertical-align: top;\n",
       "    }\n",
       "\n",
       "    .dataframe thead th {\n",
       "        text-align: right;\n",
       "    }\n",
       "</style>\n",
       "<table border=\"1\" class=\"dataframe\">\n",
       "  <thead>\n",
       "    <tr style=\"text-align: right;\">\n",
       "      <th></th>\n",
       "      <th>neg.precision</th>\n",
       "      <th>pos.precision</th>\n",
       "      <th>neg.recall</th>\n",
       "      <th>pos.recall</th>\n",
       "      <th>neg.f1</th>\n",
       "      <th>pos.f1</th>\n",
       "      <th>fpr</th>\n",
       "      <th>fnr</th>\n",
       "      <th>acc</th>\n",
       "      <th>mcc</th>\n",
       "    </tr>\n",
       "  </thead>\n",
       "  <tbody>\n",
       "    <tr>\n",
       "      <th>0</th>\n",
       "      <td>0.373505</td>\n",
       "      <td>0.629988</td>\n",
       "      <td>0.227346</td>\n",
       "      <td>0.77527</td>\n",
       "      <td>0.282649</td>\n",
       "      <td>0.695119</td>\n",
       "      <td>0.772654</td>\n",
       "      <td>0.22473</td>\n",
       "      <td>0.5721</td>\n",
       "      <td>0.003023</td>\n",
       "    </tr>\n",
       "  </tbody>\n",
       "</table>\n",
       "</div>"
      ],
      "text/plain": [
       "   neg.precision  pos.precision  neg.recall  pos.recall    neg.f1    pos.f1  \\\n",
       "0       0.373505       0.629988    0.227346     0.77527  0.282649  0.695119   \n",
       "\n",
       "        fpr      fnr     acc       mcc  \n",
       "0  0.772654  0.22473  0.5721  0.003023  "
      ]
     },
     "execution_count": 10,
     "metadata": {},
     "output_type": "execute_result"
    }
   ],
   "source": [
    "mmu.metrics_to_dataframe(metrics)"
   ]
  },
  {
   "cell_type": "markdown",
   "id": "ac33b6c7",
   "metadata": {},
   "source": [
    "### A single run using probabilities"
   ]
  },
  {
   "cell_type": "code",
   "execution_count": 11,
   "id": "90d7accb",
   "metadata": {},
   "outputs": [],
   "source": [
    "cm, metrics = mmu.binary_metrics_proba(y, proba, threshold=0.5)"
   ]
  },
  {
   "cell_type": "code",
   "execution_count": 12,
   "id": "02e66be7",
   "metadata": {},
   "outputs": [
    {
     "data": {
      "text/html": [
       "<div>\n",
       "<style scoped>\n",
       "    .dataframe tbody tr th:only-of-type {\n",
       "        vertical-align: middle;\n",
       "    }\n",
       "\n",
       "    .dataframe tbody tr th {\n",
       "        vertical-align: top;\n",
       "    }\n",
       "\n",
       "    .dataframe thead tr th {\n",
       "        text-align: left;\n",
       "    }\n",
       "</style>\n",
       "<table border=\"1\" class=\"dataframe\">\n",
       "  <thead>\n",
       "    <tr>\n",
       "      <th></th>\n",
       "      <th></th>\n",
       "      <th colspan=\"2\" halign=\"left\">estimated</th>\n",
       "    </tr>\n",
       "    <tr>\n",
       "      <th></th>\n",
       "      <th></th>\n",
       "      <th>negative</th>\n",
       "      <th>positive</th>\n",
       "    </tr>\n",
       "  </thead>\n",
       "  <tbody>\n",
       "    <tr>\n",
       "      <th rowspan=\"2\" valign=\"top\">observed</th>\n",
       "      <th>negative</th>\n",
       "      <td>843</td>\n",
       "      <td>2865</td>\n",
       "    </tr>\n",
       "    <tr>\n",
       "      <th>positive</th>\n",
       "      <td>1414</td>\n",
       "      <td>4878</td>\n",
       "    </tr>\n",
       "  </tbody>\n",
       "</table>\n",
       "</div>"
      ],
      "text/plain": [
       "                  estimated         \n",
       "                   negative positive\n",
       "observed negative       843     2865\n",
       "         positive      1414     4878"
      ]
     },
     "execution_count": 12,
     "metadata": {},
     "output_type": "execute_result"
    }
   ],
   "source": [
    "mmu.confusion_matrix_to_dataframe(cm)"
   ]
  },
  {
   "cell_type": "code",
   "execution_count": 13,
   "id": "4fe2e389",
   "metadata": {},
   "outputs": [
    {
     "data": {
      "text/html": [
       "<div>\n",
       "<style scoped>\n",
       "    .dataframe tbody tr th:only-of-type {\n",
       "        vertical-align: middle;\n",
       "    }\n",
       "\n",
       "    .dataframe tbody tr th {\n",
       "        vertical-align: top;\n",
       "    }\n",
       "\n",
       "    .dataframe thead th {\n",
       "        text-align: right;\n",
       "    }\n",
       "</style>\n",
       "<table border=\"1\" class=\"dataframe\">\n",
       "  <thead>\n",
       "    <tr style=\"text-align: right;\">\n",
       "      <th></th>\n",
       "      <th>neg.precision</th>\n",
       "      <th>pos.precision</th>\n",
       "      <th>neg.recall</th>\n",
       "      <th>pos.recall</th>\n",
       "      <th>neg.f1</th>\n",
       "      <th>pos.f1</th>\n",
       "      <th>fpr</th>\n",
       "      <th>fnr</th>\n",
       "      <th>acc</th>\n",
       "      <th>mcc</th>\n",
       "    </tr>\n",
       "  </thead>\n",
       "  <tbody>\n",
       "    <tr>\n",
       "      <th>0</th>\n",
       "      <td>0.373505</td>\n",
       "      <td>0.629988</td>\n",
       "      <td>0.227346</td>\n",
       "      <td>0.77527</td>\n",
       "      <td>0.282649</td>\n",
       "      <td>0.695119</td>\n",
       "      <td>0.772654</td>\n",
       "      <td>0.22473</td>\n",
       "      <td>0.5721</td>\n",
       "      <td>0.003023</td>\n",
       "    </tr>\n",
       "  </tbody>\n",
       "</table>\n",
       "</div>"
      ],
      "text/plain": [
       "   neg.precision  pos.precision  neg.recall  pos.recall    neg.f1    pos.f1  \\\n",
       "0       0.373505       0.629988    0.227346     0.77527  0.282649  0.695119   \n",
       "\n",
       "        fpr      fnr     acc       mcc  \n",
       "0  0.772654  0.22473  0.5721  0.003023  "
      ]
     },
     "execution_count": 13,
     "metadata": {},
     "output_type": "execute_result"
    }
   ],
   "source": [
    "mmu.metrics_to_dataframe(metrics)"
   ]
  },
  {
   "cell_type": "markdown",
   "id": "3f56c45d",
   "metadata": {},
   "source": [
    "### A single run using multiple thresholds\n",
    "\n",
    "Can be used when you want to compute a precision-recall curve for example"
   ]
  },
  {
   "cell_type": "code",
   "execution_count": 14,
   "id": "748a86d4",
   "metadata": {},
   "outputs": [],
   "source": [
    "thresholds = np.linspace(1e-5, 1.0, 1000)"
   ]
  },
  {
   "cell_type": "code",
   "execution_count": 15,
   "id": "97987cd5",
   "metadata": {},
   "outputs": [],
   "source": [
    "cm, metrics = mmu.binary_metrics_thresholds(\n",
    "    y=y,\n",
    "    proba=proba,\n",
    "    thresholds=thresholds,\n",
    ")"
   ]
  },
  {
   "cell_type": "markdown",
   "id": "4da83b26",
   "metadata": {},
   "source": [
    "The confusion matrix is now an 2D array where the rows contain the confusion matrix for a single threshold"
   ]
  },
  {
   "cell_type": "code",
   "execution_count": 16,
   "id": "78d3591e",
   "metadata": {},
   "outputs": [
    {
     "data": {
      "text/plain": [
       "array([[   0, 3708,    0, 6292],\n",
       "       [   0, 3708,    0, 6292],\n",
       "       [   0, 3708,    0, 6292],\n",
       "       ...,\n",
       "       [3708,    0, 6292,    0],\n",
       "       [3708,    0, 6292,    0],\n",
       "       [3708,    0, 6292,    0]])"
      ]
     },
     "execution_count": 16,
     "metadata": {},
     "output_type": "execute_result"
    }
   ],
   "source": [
    "cm"
   ]
  },
  {
   "cell_type": "markdown",
   "id": "18804309",
   "metadata": {},
   "source": [
    "Similarly, `metrics` is now an 2D array where the rows contain the metrics for a single threshold"
   ]
  },
  {
   "cell_type": "code",
   "execution_count": 17,
   "id": "0e49d03a",
   "metadata": {},
   "outputs": [
    {
     "data": {
      "text/html": [
       "<div>\n",
       "<style scoped>\n",
       "    .dataframe tbody tr th:only-of-type {\n",
       "        vertical-align: middle;\n",
       "    }\n",
       "\n",
       "    .dataframe tbody tr th {\n",
       "        vertical-align: top;\n",
       "    }\n",
       "\n",
       "    .dataframe thead th {\n",
       "        text-align: right;\n",
       "    }\n",
       "</style>\n",
       "<table border=\"1\" class=\"dataframe\">\n",
       "  <thead>\n",
       "    <tr style=\"text-align: right;\">\n",
       "      <th></th>\n",
       "      <th>neg.precision</th>\n",
       "      <th>pos.precision</th>\n",
       "      <th>neg.recall</th>\n",
       "      <th>pos.recall</th>\n",
       "      <th>neg.f1</th>\n",
       "      <th>pos.f1</th>\n",
       "      <th>fpr</th>\n",
       "      <th>fnr</th>\n",
       "      <th>acc</th>\n",
       "      <th>mcc</th>\n",
       "    </tr>\n",
       "  </thead>\n",
       "  <tbody>\n",
       "    <tr>\n",
       "      <th>0</th>\n",
       "      <td>0.0000</td>\n",
       "      <td>0.6292</td>\n",
       "      <td>0.0</td>\n",
       "      <td>1.0</td>\n",
       "      <td>0.000000</td>\n",
       "      <td>0.772404</td>\n",
       "      <td>1.0</td>\n",
       "      <td>0.0</td>\n",
       "      <td>0.6292</td>\n",
       "      <td>0.0</td>\n",
       "    </tr>\n",
       "    <tr>\n",
       "      <th>1</th>\n",
       "      <td>0.0000</td>\n",
       "      <td>0.6292</td>\n",
       "      <td>0.0</td>\n",
       "      <td>1.0</td>\n",
       "      <td>0.000000</td>\n",
       "      <td>0.772404</td>\n",
       "      <td>1.0</td>\n",
       "      <td>0.0</td>\n",
       "      <td>0.6292</td>\n",
       "      <td>0.0</td>\n",
       "    </tr>\n",
       "    <tr>\n",
       "      <th>2</th>\n",
       "      <td>0.0000</td>\n",
       "      <td>0.6292</td>\n",
       "      <td>0.0</td>\n",
       "      <td>1.0</td>\n",
       "      <td>0.000000</td>\n",
       "      <td>0.772404</td>\n",
       "      <td>1.0</td>\n",
       "      <td>0.0</td>\n",
       "      <td>0.6292</td>\n",
       "      <td>0.0</td>\n",
       "    </tr>\n",
       "    <tr>\n",
       "      <th>3</th>\n",
       "      <td>0.0000</td>\n",
       "      <td>0.6292</td>\n",
       "      <td>0.0</td>\n",
       "      <td>1.0</td>\n",
       "      <td>0.000000</td>\n",
       "      <td>0.772404</td>\n",
       "      <td>1.0</td>\n",
       "      <td>0.0</td>\n",
       "      <td>0.6292</td>\n",
       "      <td>0.0</td>\n",
       "    </tr>\n",
       "    <tr>\n",
       "      <th>4</th>\n",
       "      <td>0.0000</td>\n",
       "      <td>0.6292</td>\n",
       "      <td>0.0</td>\n",
       "      <td>1.0</td>\n",
       "      <td>0.000000</td>\n",
       "      <td>0.772404</td>\n",
       "      <td>1.0</td>\n",
       "      <td>0.0</td>\n",
       "      <td>0.6292</td>\n",
       "      <td>0.0</td>\n",
       "    </tr>\n",
       "    <tr>\n",
       "      <th>...</th>\n",
       "      <td>...</td>\n",
       "      <td>...</td>\n",
       "      <td>...</td>\n",
       "      <td>...</td>\n",
       "      <td>...</td>\n",
       "      <td>...</td>\n",
       "      <td>...</td>\n",
       "      <td>...</td>\n",
       "      <td>...</td>\n",
       "      <td>...</td>\n",
       "    </tr>\n",
       "    <tr>\n",
       "      <th>995</th>\n",
       "      <td>0.3708</td>\n",
       "      <td>0.0000</td>\n",
       "      <td>1.0</td>\n",
       "      <td>0.0</td>\n",
       "      <td>0.540998</td>\n",
       "      <td>0.000000</td>\n",
       "      <td>0.0</td>\n",
       "      <td>1.0</td>\n",
       "      <td>0.3708</td>\n",
       "      <td>0.0</td>\n",
       "    </tr>\n",
       "    <tr>\n",
       "      <th>996</th>\n",
       "      <td>0.3708</td>\n",
       "      <td>0.0000</td>\n",
       "      <td>1.0</td>\n",
       "      <td>0.0</td>\n",
       "      <td>0.540998</td>\n",
       "      <td>0.000000</td>\n",
       "      <td>0.0</td>\n",
       "      <td>1.0</td>\n",
       "      <td>0.3708</td>\n",
       "      <td>0.0</td>\n",
       "    </tr>\n",
       "    <tr>\n",
       "      <th>997</th>\n",
       "      <td>0.3708</td>\n",
       "      <td>0.0000</td>\n",
       "      <td>1.0</td>\n",
       "      <td>0.0</td>\n",
       "      <td>0.540998</td>\n",
       "      <td>0.000000</td>\n",
       "      <td>0.0</td>\n",
       "      <td>1.0</td>\n",
       "      <td>0.3708</td>\n",
       "      <td>0.0</td>\n",
       "    </tr>\n",
       "    <tr>\n",
       "      <th>998</th>\n",
       "      <td>0.3708</td>\n",
       "      <td>0.0000</td>\n",
       "      <td>1.0</td>\n",
       "      <td>0.0</td>\n",
       "      <td>0.540998</td>\n",
       "      <td>0.000000</td>\n",
       "      <td>0.0</td>\n",
       "      <td>1.0</td>\n",
       "      <td>0.3708</td>\n",
       "      <td>0.0</td>\n",
       "    </tr>\n",
       "    <tr>\n",
       "      <th>999</th>\n",
       "      <td>0.3708</td>\n",
       "      <td>0.0000</td>\n",
       "      <td>1.0</td>\n",
       "      <td>0.0</td>\n",
       "      <td>0.540998</td>\n",
       "      <td>0.000000</td>\n",
       "      <td>0.0</td>\n",
       "      <td>1.0</td>\n",
       "      <td>0.3708</td>\n",
       "      <td>0.0</td>\n",
       "    </tr>\n",
       "  </tbody>\n",
       "</table>\n",
       "<p>1000 rows × 10 columns</p>\n",
       "</div>"
      ],
      "text/plain": [
       "     neg.precision  pos.precision  neg.recall  pos.recall    neg.f1    pos.f1  \\\n",
       "0           0.0000         0.6292         0.0         1.0  0.000000  0.772404   \n",
       "1           0.0000         0.6292         0.0         1.0  0.000000  0.772404   \n",
       "2           0.0000         0.6292         0.0         1.0  0.000000  0.772404   \n",
       "3           0.0000         0.6292         0.0         1.0  0.000000  0.772404   \n",
       "4           0.0000         0.6292         0.0         1.0  0.000000  0.772404   \n",
       "..             ...            ...         ...         ...       ...       ...   \n",
       "995         0.3708         0.0000         1.0         0.0  0.540998  0.000000   \n",
       "996         0.3708         0.0000         1.0         0.0  0.540998  0.000000   \n",
       "997         0.3708         0.0000         1.0         0.0  0.540998  0.000000   \n",
       "998         0.3708         0.0000         1.0         0.0  0.540998  0.000000   \n",
       "999         0.3708         0.0000         1.0         0.0  0.540998  0.000000   \n",
       "\n",
       "     fpr  fnr     acc  mcc  \n",
       "0    1.0  0.0  0.6292  0.0  \n",
       "1    1.0  0.0  0.6292  0.0  \n",
       "2    1.0  0.0  0.6292  0.0  \n",
       "3    1.0  0.0  0.6292  0.0  \n",
       "4    1.0  0.0  0.6292  0.0  \n",
       "..   ...  ...     ...  ...  \n",
       "995  0.0  1.0  0.3708  0.0  \n",
       "996  0.0  1.0  0.3708  0.0  \n",
       "997  0.0  1.0  0.3708  0.0  \n",
       "998  0.0  1.0  0.3708  0.0  \n",
       "999  0.0  1.0  0.3708  0.0  \n",
       "\n",
       "[1000 rows x 10 columns]"
      ]
     },
     "execution_count": 17,
     "metadata": {},
     "output_type": "execute_result"
    }
   ],
   "source": [
    "mmu.metrics_to_dataframe(metrics)"
   ]
  },
  {
   "cell_type": "markdown",
   "id": "b4240ce3",
   "metadata": {},
   "source": [
    "Generate multiple runs for the below functions"
   ]
  },
  {
   "cell_type": "code",
   "execution_count": 18,
   "id": "8b7c84c6",
   "metadata": {},
   "outputs": [],
   "source": [
    "proba, yhat, y = mmu.generate_data(n_samples=10000, n_sets=100)"
   ]
  },
  {
   "cell_type": "markdown",
   "id": "f5ff60c2",
   "metadata": {},
   "source": [
    "### Multiple runs using a single threshold\n",
    "\n",
    "You have performed bootstrap or multiple train-test runs and want to evaluate the distribution of the metrics you can use `binary_metrics_runs`.\n",
    "\n",
    "`cm` and `metrics` are now two dimensional arrays where the rows are the confusion matrices/metrics for that a run"
   ]
  },
  {
   "cell_type": "code",
   "execution_count": 19,
   "id": "f74e5e36",
   "metadata": {},
   "outputs": [],
   "source": [
    "cm, metrics = mmu.binary_metrics_runs(\n",
    "    y=y,\n",
    "    proba=proba,\n",
    "    threshold=0.5,\n",
    ")"
   ]
  },
  {
   "cell_type": "code",
   "execution_count": 20,
   "id": "3e338096",
   "metadata": {},
   "outputs": [
    {
     "data": {
      "text/plain": [
       "array([[ 853, 2879, 1413, 4855],\n",
       "       [ 839, 2843, 1501, 4817],\n",
       "       [ 806, 2923, 1429, 4842],\n",
       "       [ 837, 2958, 1389, 4816],\n",
       "       [ 862, 2907, 1416, 4815]])"
      ]
     },
     "execution_count": 20,
     "metadata": {},
     "output_type": "execute_result"
    }
   ],
   "source": [
    "cm[:5, :]"
   ]
  },
  {
   "cell_type": "markdown",
   "id": "d8b17f78",
   "metadata": {},
   "source": [
    "### Multiple runs using multiple thresholds\n",
    "\n",
    "You have performed bootstrap or multiple train-test runs and, for example, want to evaluate the different precision recall curves"
   ]
  },
  {
   "cell_type": "code",
   "execution_count": 21,
   "id": "b90e1d33",
   "metadata": {},
   "outputs": [],
   "source": [
    "cm, metrics = mmu.binary_metrics_runs_thresholds(\n",
    "    y=y,\n",
    "    proba=proba,\n",
    "    thresholds=thresholds,\n",
    "    fill=1.0\n",
    ")"
   ]
  },
  {
   "cell_type": "markdown",
   "id": "b7c1d6aa",
   "metadata": {},
   "source": [
    "The confusion matrix and metrics are now cubes.\n",
    "\n",
    "For the confusion matrix the:\n",
    "* row -- the thresholds\n",
    "* colomns -- the confusion matrix elements\n",
    "* slices -- the runs\n",
    "\n",
    "For the metrics:\n",
    "\n",
    "* row -- thresholds\n",
    "* colomns -- the metrics\n",
    "* slices -- the runs\n",
    "\n",
    "The stride is such that the biggest stride is over the thresholds for the confusion matrix and over the metrics for the metrics.\n",
    "\n",
    "The argument being that you will want to model the confusion matrices over the runs\n",
    "and the metrics individually over the thresholds and runs"
   ]
  },
  {
   "cell_type": "code",
   "execution_count": 22,
   "id": "05912c5d",
   "metadata": {},
   "outputs": [
    {
     "name": "stdout",
     "output_type": "stream",
     "text": [
      "shape confusion matrix:  (1000, 4, 100)\n",
      "strides confusion matrix:  (3200, 8, 32)\n"
     ]
    }
   ],
   "source": [
    "print('shape confusion matrix: ', cm.shape)\n",
    "print('strides confusion matrix: ', cm.strides)"
   ]
  },
  {
   "cell_type": "code",
   "execution_count": 23,
   "id": "8bdd9df2",
   "metadata": {},
   "outputs": [
    {
     "name": "stdout",
     "output_type": "stream",
     "text": [
      "shape metrics:  (1000, 10, 100)\n",
      "strides metrics:  (800, 800000, 8)\n"
     ]
    }
   ],
   "source": [
    "print('shape metrics: ', metrics.shape)\n",
    "print('strides metrics: ', metrics.strides)"
   ]
  },
  {
   "cell_type": "code",
   "execution_count": 24,
   "id": "4194a61f",
   "metadata": {},
   "outputs": [],
   "source": [
    "pos_recalls = metrics[:, mmu.metrics.col_index['pos.rec'], :]\n",
    "pos_precisions = metrics[:, mmu.metrics.col_index['pos.prec'], :]"
   ]
  },
  {
   "cell_type": "markdown",
   "id": "150bcc31",
   "metadata": {},
   "source": [
    "### Binary metrics over confusion matrices\n",
    "\n",
    "This can be used when you have a methodology where you model and generate confusion matrices"
   ]
  },
  {
   "cell_type": "code",
   "execution_count": 25,
   "id": "49f4a20f",
   "metadata": {},
   "outputs": [],
   "source": [
    "# We use binary_metrics_runs to create confusion matrices\n",
    "cm, _ = mmu.binary_metrics_runs(\n",
    "    y=y,\n",
    "    proba=proba,\n",
    "    threshold=0.5,\n",
    "    fill=0.0\n",
    ")"
   ]
  },
  {
   "cell_type": "code",
   "execution_count": 26,
   "id": "c8e2e53d",
   "metadata": {},
   "outputs": [],
   "source": [
    "metrics = mmu.binary_metrics_confusion(cm, 0.0)"
   ]
  },
  {
   "cell_type": "code",
   "execution_count": 27,
   "id": "c03c77e0",
   "metadata": {},
   "outputs": [
    {
     "data": {
      "text/html": [
       "<div>\n",
       "<style scoped>\n",
       "    .dataframe tbody tr th:only-of-type {\n",
       "        vertical-align: middle;\n",
       "    }\n",
       "\n",
       "    .dataframe tbody tr th {\n",
       "        vertical-align: top;\n",
       "    }\n",
       "\n",
       "    .dataframe thead th {\n",
       "        text-align: right;\n",
       "    }\n",
       "</style>\n",
       "<table border=\"1\" class=\"dataframe\">\n",
       "  <thead>\n",
       "    <tr style=\"text-align: right;\">\n",
       "      <th></th>\n",
       "      <th>neg.precision</th>\n",
       "      <th>pos.precision</th>\n",
       "      <th>neg.recall</th>\n",
       "      <th>pos.recall</th>\n",
       "      <th>neg.f1</th>\n",
       "      <th>pos.f1</th>\n",
       "      <th>fpr</th>\n",
       "      <th>fnr</th>\n",
       "      <th>acc</th>\n",
       "      <th>mcc</th>\n",
       "    </tr>\n",
       "  </thead>\n",
       "  <tbody>\n",
       "    <tr>\n",
       "      <th>0</th>\n",
       "      <td>0.376434</td>\n",
       "      <td>0.627748</td>\n",
       "      <td>0.228564</td>\n",
       "      <td>0.774569</td>\n",
       "      <td>0.284428</td>\n",
       "      <td>0.693472</td>\n",
       "      <td>0.771436</td>\n",
       "      <td>0.225431</td>\n",
       "      <td>0.5708</td>\n",
       "      <td>0.003620</td>\n",
       "    </tr>\n",
       "    <tr>\n",
       "      <th>1</th>\n",
       "      <td>0.358547</td>\n",
       "      <td>0.628851</td>\n",
       "      <td>0.227865</td>\n",
       "      <td>0.762425</td>\n",
       "      <td>0.278645</td>\n",
       "      <td>0.689226</td>\n",
       "      <td>0.772135</td>\n",
       "      <td>0.237575</td>\n",
       "      <td>0.5656</td>\n",
       "      <td>-0.011062</td>\n",
       "    </tr>\n",
       "    <tr>\n",
       "      <th>2</th>\n",
       "      <td>0.360626</td>\n",
       "      <td>0.623567</td>\n",
       "      <td>0.216144</td>\n",
       "      <td>0.772126</td>\n",
       "      <td>0.270288</td>\n",
       "      <td>0.689940</td>\n",
       "      <td>0.783856</td>\n",
       "      <td>0.227874</td>\n",
       "      <td>0.5648</td>\n",
       "      <td>-0.013617</td>\n",
       "    </tr>\n",
       "    <tr>\n",
       "      <th>3</th>\n",
       "      <td>0.376011</td>\n",
       "      <td>0.619501</td>\n",
       "      <td>0.220553</td>\n",
       "      <td>0.776148</td>\n",
       "      <td>0.278027</td>\n",
       "      <td>0.689034</td>\n",
       "      <td>0.779447</td>\n",
       "      <td>0.223852</td>\n",
       "      <td>0.5653</td>\n",
       "      <td>-0.003848</td>\n",
       "    </tr>\n",
       "    <tr>\n",
       "      <th>4</th>\n",
       "      <td>0.378402</td>\n",
       "      <td>0.623543</td>\n",
       "      <td>0.228708</td>\n",
       "      <td>0.772749</td>\n",
       "      <td>0.285100</td>\n",
       "      <td>0.690174</td>\n",
       "      <td>0.771292</td>\n",
       "      <td>0.227251</td>\n",
       "      <td>0.5677</td>\n",
       "      <td>0.001684</td>\n",
       "    </tr>\n",
       "    <tr>\n",
       "      <th>...</th>\n",
       "      <td>...</td>\n",
       "      <td>...</td>\n",
       "      <td>...</td>\n",
       "      <td>...</td>\n",
       "      <td>...</td>\n",
       "      <td>...</td>\n",
       "      <td>...</td>\n",
       "      <td>...</td>\n",
       "      <td>...</td>\n",
       "      <td>...</td>\n",
       "    </tr>\n",
       "    <tr>\n",
       "      <th>95</th>\n",
       "      <td>0.369032</td>\n",
       "      <td>0.612508</td>\n",
       "      <td>0.223904</td>\n",
       "      <td>0.762160</td>\n",
       "      <td>0.278707</td>\n",
       "      <td>0.679188</td>\n",
       "      <td>0.776096</td>\n",
       "      <td>0.237840</td>\n",
       "      <td>0.5559</td>\n",
       "      <td>-0.016039</td>\n",
       "    </tr>\n",
       "    <tr>\n",
       "      <th>96</th>\n",
       "      <td>0.376991</td>\n",
       "      <td>0.620413</td>\n",
       "      <td>0.224802</td>\n",
       "      <td>0.773269</td>\n",
       "      <td>0.281653</td>\n",
       "      <td>0.688459</td>\n",
       "      <td>0.775198</td>\n",
       "      <td>0.226731</td>\n",
       "      <td>0.5654</td>\n",
       "      <td>-0.002238</td>\n",
       "    </tr>\n",
       "    <tr>\n",
       "      <th>97</th>\n",
       "      <td>0.382114</td>\n",
       "      <td>0.623940</td>\n",
       "      <td>0.224165</td>\n",
       "      <td>0.780276</td>\n",
       "      <td>0.282565</td>\n",
       "      <td>0.693406</td>\n",
       "      <td>0.775835</td>\n",
       "      <td>0.219724</td>\n",
       "      <td>0.5704</td>\n",
       "      <td>0.005186</td>\n",
       "    </tr>\n",
       "    <tr>\n",
       "      <th>98</th>\n",
       "      <td>0.375329</td>\n",
       "      <td>0.630148</td>\n",
       "      <td>0.230396</td>\n",
       "      <td>0.773732</td>\n",
       "      <td>0.285523</td>\n",
       "      <td>0.694597</td>\n",
       "      <td>0.769604</td>\n",
       "      <td>0.226268</td>\n",
       "      <td>0.5721</td>\n",
       "      <td>0.004755</td>\n",
       "    </tr>\n",
       "    <tr>\n",
       "      <th>99</th>\n",
       "      <td>0.349978</td>\n",
       "      <td>0.614747</td>\n",
       "      <td>0.211824</td>\n",
       "      <td>0.761721</td>\n",
       "      <td>0.263914</td>\n",
       "      <td>0.680387</td>\n",
       "      <td>0.788176</td>\n",
       "      <td>0.238279</td>\n",
       "      <td>0.5543</td>\n",
       "      <td>-0.030548</td>\n",
       "    </tr>\n",
       "  </tbody>\n",
       "</table>\n",
       "<p>100 rows × 10 columns</p>\n",
       "</div>"
      ],
      "text/plain": [
       "    neg.precision  pos.precision  neg.recall  pos.recall    neg.f1    pos.f1  \\\n",
       "0        0.376434       0.627748    0.228564    0.774569  0.284428  0.693472   \n",
       "1        0.358547       0.628851    0.227865    0.762425  0.278645  0.689226   \n",
       "2        0.360626       0.623567    0.216144    0.772126  0.270288  0.689940   \n",
       "3        0.376011       0.619501    0.220553    0.776148  0.278027  0.689034   \n",
       "4        0.378402       0.623543    0.228708    0.772749  0.285100  0.690174   \n",
       "..            ...            ...         ...         ...       ...       ...   \n",
       "95       0.369032       0.612508    0.223904    0.762160  0.278707  0.679188   \n",
       "96       0.376991       0.620413    0.224802    0.773269  0.281653  0.688459   \n",
       "97       0.382114       0.623940    0.224165    0.780276  0.282565  0.693406   \n",
       "98       0.375329       0.630148    0.230396    0.773732  0.285523  0.694597   \n",
       "99       0.349978       0.614747    0.211824    0.761721  0.263914  0.680387   \n",
       "\n",
       "         fpr       fnr     acc       mcc  \n",
       "0   0.771436  0.225431  0.5708  0.003620  \n",
       "1   0.772135  0.237575  0.5656 -0.011062  \n",
       "2   0.783856  0.227874  0.5648 -0.013617  \n",
       "3   0.779447  0.223852  0.5653 -0.003848  \n",
       "4   0.771292  0.227251  0.5677  0.001684  \n",
       "..       ...       ...     ...       ...  \n",
       "95  0.776096  0.237840  0.5559 -0.016039  \n",
       "96  0.775198  0.226731  0.5654 -0.002238  \n",
       "97  0.775835  0.219724  0.5704  0.005186  \n",
       "98  0.769604  0.226268  0.5721  0.004755  \n",
       "99  0.788176  0.238279  0.5543 -0.030548  \n",
       "\n",
       "[100 rows x 10 columns]"
      ]
     },
     "execution_count": 27,
     "metadata": {},
     "output_type": "execute_result"
    }
   ],
   "source": [
    "mmu.metrics_to_dataframe(metrics)"
   ]
  }
 ],
 "metadata": {
  "kernelspec": {
   "display_name": "Python 3 (ipykernel)",
   "language": "python",
   "name": "python3"
  },
  "language_info": {
   "codemirror_mode": {
    "name": "ipython",
    "version": 3
   },
   "file_extension": ".py",
   "mimetype": "text/x-python",
   "name": "python",
   "nbconvert_exporter": "python",
   "pygments_lexer": "ipython3",
   "version": "3.8.5"
  }
 },
 "nbformat": 4,
 "nbformat_minor": 5
}
